{
 "cells": [
  {
   "cell_type": "markdown",
   "id": "c2de2e08",
   "metadata": {},
   "source": [
    "# 데이터 불러오기"
   ]
  },
  {
   "cell_type": "code",
   "execution_count": 1,
   "id": "1bea0334",
   "metadata": {
    "ExecuteTime": {
     "end_time": "2022-05-09T00:32:18.301993Z",
     "start_time": "2022-05-09T00:32:06.755379Z"
    }
   },
   "outputs": [],
   "source": [
    "import pandas as pd\n",
    "import numpy as np\n",
    "\n",
    "from sklearn.pipeline import Pipeline\n",
    "from sklearn.preprocessing import StandardScaler, OneHotEncoder, LabelEncoder\n",
    "from sklearn.compose import ColumnTransformer\n",
    "from sklearn.model_selection import train_test_split\n",
    "\n",
    "from tensorflow.keras import datasets, utils"
   ]
  },
  {
   "cell_type": "code",
   "execution_count": 2,
   "id": "76ab0409",
   "metadata": {
    "ExecuteTime": {
     "end_time": "2022-05-09T00:32:18.472548Z",
     "start_time": "2022-05-09T00:32:18.307560Z"
    }
   },
   "outputs": [],
   "source": [
    "train = pd.read_csv('./data/train_occpy_pred_final.csv')\n",
    "test = pd.read_csv('./data/test_occpy_pred_final.csv')"
   ]
  },
  {
   "cell_type": "markdown",
   "id": "65cc81a4",
   "metadata": {},
   "source": [
    "# 데이터 전처리"
   ]
  },
  {
   "cell_type": "code",
   "execution_count": 3,
   "id": "d739b93a",
   "metadata": {
    "ExecuteTime": {
     "end_time": "2022-05-09T00:32:18.641230Z",
     "start_time": "2022-05-09T00:32:18.477532Z"
    }
   },
   "outputs": [
    {
     "data": {
      "text/html": [
       "<div>\n",
       "<style scoped>\n",
       "    .dataframe tbody tr th:only-of-type {\n",
       "        vertical-align: middle;\n",
       "    }\n",
       "\n",
       "    .dataframe tbody tr th {\n",
       "        vertical-align: top;\n",
       "    }\n",
       "\n",
       "    .dataframe thead th {\n",
       "        text-align: right;\n",
       "    }\n",
       "</style>\n",
       "<table border=\"1\" class=\"dataframe\">\n",
       "  <thead>\n",
       "    <tr style=\"text-align: right;\">\n",
       "      <th></th>\n",
       "      <th>gender</th>\n",
       "      <th>car</th>\n",
       "      <th>reality</th>\n",
       "      <th>child_num</th>\n",
       "      <th>income_total</th>\n",
       "      <th>income_type</th>\n",
       "      <th>edu_type</th>\n",
       "      <th>family_type</th>\n",
       "      <th>house_type</th>\n",
       "      <th>DAYS_EMPLOYED</th>\n",
       "      <th>work_phone</th>\n",
       "      <th>phone</th>\n",
       "      <th>email</th>\n",
       "      <th>occyp_type</th>\n",
       "      <th>family_size</th>\n",
       "      <th>begin_month</th>\n",
       "      <th>credit</th>\n",
       "      <th>age</th>\n",
       "    </tr>\n",
       "  </thead>\n",
       "  <tbody>\n",
       "    <tr>\n",
       "      <th>0</th>\n",
       "      <td>0</td>\n",
       "      <td>0</td>\n",
       "      <td>0</td>\n",
       "      <td>0</td>\n",
       "      <td>202500.0</td>\n",
       "      <td>Commercial associate</td>\n",
       "      <td>Higher education</td>\n",
       "      <td>Married</td>\n",
       "      <td>Municipal apartment</td>\n",
       "      <td>4709</td>\n",
       "      <td>0</td>\n",
       "      <td>0</td>\n",
       "      <td>0</td>\n",
       "      <td>Accountants</td>\n",
       "      <td>2.0</td>\n",
       "      <td>6.0</td>\n",
       "      <td>1.0</td>\n",
       "      <td>38</td>\n",
       "    </tr>\n",
       "    <tr>\n",
       "      <th>1</th>\n",
       "      <td>0</td>\n",
       "      <td>0</td>\n",
       "      <td>1</td>\n",
       "      <td>1</td>\n",
       "      <td>247500.0</td>\n",
       "      <td>Commercial associate</td>\n",
       "      <td>Secondary / secondary special</td>\n",
       "      <td>Civil marriage</td>\n",
       "      <td>House / apartment</td>\n",
       "      <td>1540</td>\n",
       "      <td>0</td>\n",
       "      <td>0</td>\n",
       "      <td>1</td>\n",
       "      <td>Laborers</td>\n",
       "      <td>3.0</td>\n",
       "      <td>5.0</td>\n",
       "      <td>1.0</td>\n",
       "      <td>31</td>\n",
       "    </tr>\n",
       "    <tr>\n",
       "      <th>2</th>\n",
       "      <td>1</td>\n",
       "      <td>1</td>\n",
       "      <td>1</td>\n",
       "      <td>0</td>\n",
       "      <td>450000.0</td>\n",
       "      <td>Working</td>\n",
       "      <td>Higher education</td>\n",
       "      <td>Married</td>\n",
       "      <td>House / apartment</td>\n",
       "      <td>4434</td>\n",
       "      <td>0</td>\n",
       "      <td>1</td>\n",
       "      <td>0</td>\n",
       "      <td>Managers</td>\n",
       "      <td>2.0</td>\n",
       "      <td>22.0</td>\n",
       "      <td>2.0</td>\n",
       "      <td>52</td>\n",
       "    </tr>\n",
       "  </tbody>\n",
       "</table>\n",
       "</div>"
      ],
      "text/plain": [
       "   gender  car  reality  child_num  income_total           income_type  \\\n",
       "0       0    0        0          0      202500.0  Commercial associate   \n",
       "1       0    0        1          1      247500.0  Commercial associate   \n",
       "2       1    1        1          0      450000.0               Working   \n",
       "\n",
       "                        edu_type     family_type           house_type  \\\n",
       "0               Higher education         Married  Municipal apartment   \n",
       "1  Secondary / secondary special  Civil marriage    House / apartment   \n",
       "2               Higher education         Married    House / apartment   \n",
       "\n",
       "   DAYS_EMPLOYED  work_phone  phone  email   occyp_type  family_size  \\\n",
       "0           4709           0      0      0  Accountants          2.0   \n",
       "1           1540           0      0      1     Laborers          3.0   \n",
       "2           4434           0      1      0     Managers          2.0   \n",
       "\n",
       "   begin_month  credit  age  \n",
       "0          6.0     1.0   38  \n",
       "1          5.0     1.0   31  \n",
       "2         22.0     2.0   52  "
      ]
     },
     "execution_count": 3,
     "metadata": {},
     "output_type": "execute_result"
    }
   ],
   "source": [
    "train.gender = train.gender.replace({'F' : 0, 'M' : 1})\n",
    "train.car = train.car.replace({'N' : 0, 'Y' : 1})\n",
    "train.reality = train.reality.replace({'N' : 0, 'Y' : 1})\n",
    "train['age'] = train.DAYS_BIRTH.apply(lambda x : -x // 365)\n",
    "train.DAYS_EMPLOYED = (-1) * train.DAYS_EMPLOYED \n",
    "train.loc[(train.DAYS_EMPLOYED < 0), 'DAYS_EMPLOYED'] = 0\n",
    "train.begin_month = (-1) * train.begin_month\n",
    "\n",
    "train = train.drop(['Unnamed: 0','DAYS_BIRTH'], axis = 1)\n",
    "train.head(3)"
   ]
  },
  {
   "cell_type": "code",
   "execution_count": 4,
   "id": "212b2c94",
   "metadata": {
    "ExecuteTime": {
     "end_time": "2022-05-09T00:32:18.718260Z",
     "start_time": "2022-05-09T00:32:18.644262Z"
    }
   },
   "outputs": [
    {
     "data": {
      "text/html": [
       "<div>\n",
       "<style scoped>\n",
       "    .dataframe tbody tr th:only-of-type {\n",
       "        vertical-align: middle;\n",
       "    }\n",
       "\n",
       "    .dataframe tbody tr th {\n",
       "        vertical-align: top;\n",
       "    }\n",
       "\n",
       "    .dataframe thead th {\n",
       "        text-align: right;\n",
       "    }\n",
       "</style>\n",
       "<table border=\"1\" class=\"dataframe\">\n",
       "  <thead>\n",
       "    <tr style=\"text-align: right;\">\n",
       "      <th></th>\n",
       "      <th>gender</th>\n",
       "      <th>car</th>\n",
       "      <th>reality</th>\n",
       "      <th>child_num</th>\n",
       "      <th>income_total</th>\n",
       "      <th>income_type</th>\n",
       "      <th>edu_type</th>\n",
       "      <th>family_type</th>\n",
       "      <th>house_type</th>\n",
       "      <th>DAYS_EMPLOYED</th>\n",
       "      <th>work_phone</th>\n",
       "      <th>phone</th>\n",
       "      <th>email</th>\n",
       "      <th>occyp_type</th>\n",
       "      <th>family_size</th>\n",
       "      <th>begin_month</th>\n",
       "      <th>age</th>\n",
       "    </tr>\n",
       "  </thead>\n",
       "  <tbody>\n",
       "    <tr>\n",
       "      <th>0</th>\n",
       "      <td>1</td>\n",
       "      <td>1</td>\n",
       "      <td>0</td>\n",
       "      <td>0</td>\n",
       "      <td>112500.0</td>\n",
       "      <td>Pensioner</td>\n",
       "      <td>Secondary / secondary special</td>\n",
       "      <td>Civil marriage</td>\n",
       "      <td>House / apartment</td>\n",
       "      <td>0</td>\n",
       "      <td>0</td>\n",
       "      <td>1</td>\n",
       "      <td>0</td>\n",
       "      <td>Security staff</td>\n",
       "      <td>2.0</td>\n",
       "      <td>60.0</td>\n",
       "      <td>60</td>\n",
       "    </tr>\n",
       "    <tr>\n",
       "      <th>1</th>\n",
       "      <td>0</td>\n",
       "      <td>0</td>\n",
       "      <td>1</td>\n",
       "      <td>0</td>\n",
       "      <td>135000.0</td>\n",
       "      <td>State servant</td>\n",
       "      <td>Higher education</td>\n",
       "      <td>Married</td>\n",
       "      <td>House / apartment</td>\n",
       "      <td>8671</td>\n",
       "      <td>0</td>\n",
       "      <td>1</td>\n",
       "      <td>0</td>\n",
       "      <td>Core staff</td>\n",
       "      <td>2.0</td>\n",
       "      <td>36.0</td>\n",
       "      <td>51</td>\n",
       "    </tr>\n",
       "    <tr>\n",
       "      <th>2</th>\n",
       "      <td>0</td>\n",
       "      <td>0</td>\n",
       "      <td>1</td>\n",
       "      <td>0</td>\n",
       "      <td>69372.0</td>\n",
       "      <td>Working</td>\n",
       "      <td>Secondary / secondary special</td>\n",
       "      <td>Married</td>\n",
       "      <td>House / apartment</td>\n",
       "      <td>217</td>\n",
       "      <td>1</td>\n",
       "      <td>1</td>\n",
       "      <td>0</td>\n",
       "      <td>Laborers</td>\n",
       "      <td>2.0</td>\n",
       "      <td>40.0</td>\n",
       "      <td>43</td>\n",
       "    </tr>\n",
       "  </tbody>\n",
       "</table>\n",
       "</div>"
      ],
      "text/plain": [
       "   gender  car  reality  child_num  income_total    income_type  \\\n",
       "0       1    1        0          0      112500.0      Pensioner   \n",
       "1       0    0        1          0      135000.0  State servant   \n",
       "2       0    0        1          0       69372.0        Working   \n",
       "\n",
       "                        edu_type     family_type         house_type  \\\n",
       "0  Secondary / secondary special  Civil marriage  House / apartment   \n",
       "1               Higher education         Married  House / apartment   \n",
       "2  Secondary / secondary special         Married  House / apartment   \n",
       "\n",
       "   DAYS_EMPLOYED  work_phone  phone  email      occyp_type  family_size  \\\n",
       "0              0           0      1      0  Security staff          2.0   \n",
       "1           8671           0      1      0      Core staff          2.0   \n",
       "2            217           1      1      0        Laborers          2.0   \n",
       "\n",
       "   begin_month  age  \n",
       "0         60.0   60  \n",
       "1         36.0   51  \n",
       "2         40.0   43  "
      ]
     },
     "execution_count": 4,
     "metadata": {},
     "output_type": "execute_result"
    }
   ],
   "source": [
    "test.gender = test.gender.replace({'F' : 0, 'M' : 1})\n",
    "test.car = test.car.replace({'N' : 0, 'Y' : 1})\n",
    "test.reality = test.reality.replace({'N' : 0, 'Y' : 1})\n",
    "test['age'] = test.DAYS_BIRTH.apply(lambda x : -x // 365)\n",
    "test.DAYS_EMPLOYED = (-1) * test.DAYS_EMPLOYED \n",
    "test.loc[(test.DAYS_EMPLOYED < 0), 'DAYS_EMPLOYED'] = 0\n",
    "test.begin_month = (-1) * test.begin_month\n",
    "\n",
    "test = test.drop(['Unnamed: 0','DAYS_BIRTH'], axis = 1)\n",
    "test.head(3)"
   ]
  },
  {
   "cell_type": "code",
   "execution_count": 5,
   "id": "d2c6d040",
   "metadata": {
    "ExecuteTime": {
     "end_time": "2022-05-09T00:32:18.733684Z",
     "start_time": "2022-05-09T00:32:18.721217Z"
    }
   },
   "outputs": [
    {
     "name": "stdout",
     "output_type": "stream",
     "text": [
      "(26457, 18) (10000, 17)\n"
     ]
    }
   ],
   "source": [
    "print(train.shape, test.shape)"
   ]
  },
  {
   "cell_type": "code",
   "execution_count": 6,
   "id": "74a1d56b",
   "metadata": {
    "ExecuteTime": {
     "end_time": "2022-05-09T00:32:18.749275Z",
     "start_time": "2022-05-09T00:32:18.736176Z"
    }
   },
   "outputs": [],
   "source": [
    "y = train.credit\n",
    "X = train.drop(['credit'], axis = 1)"
   ]
  },
  {
   "cell_type": "markdown",
   "id": "3465c8c4",
   "metadata": {},
   "source": [
    "# 데이터 분할"
   ]
  },
  {
   "cell_type": "code",
   "execution_count": 7,
   "id": "36c9beae",
   "metadata": {
    "ExecuteTime": {
     "end_time": "2022-05-09T00:32:18.780261Z",
     "start_time": "2022-05-09T00:32:18.752518Z"
    }
   },
   "outputs": [],
   "source": [
    "X_train, X_val, y_train, y_val = train_test_split(X, y, test_size = 0.3)"
   ]
  },
  {
   "cell_type": "markdown",
   "id": "00d6dad9",
   "metadata": {},
   "source": [
    "# 데이터 인코딩"
   ]
  },
  {
   "cell_type": "code",
   "execution_count": 8,
   "id": "269423d3",
   "metadata": {
    "ExecuteTime": {
     "end_time": "2022-05-09T00:32:18.796139Z",
     "start_time": "2022-05-09T00:32:18.783171Z"
    }
   },
   "outputs": [],
   "source": [
    "numeric_features = ['child_num', 'income_total', 'DAYS_EMPLOYED', 'family_size', 'begin_month', 'age']\n",
    "numeric_transformer = StandardScaler()\n",
    "\n",
    "categorical_features = ['income_type', 'edu_type', 'family_type', 'house_type','occyp_type']\n",
    "categorical_transformer = OneHotEncoder(categories='auto', handle_unknown = 'ignore')\n",
    "\n",
    "\n",
    "preprocessor = ColumnTransformer(\n",
    "                transformers=[\n",
    "                    ('num', numeric_transformer, numeric_features),\n",
    "                    ('cat', categorical_transformer, categorical_features)\n",
    "                ], remainder='passthrough'\n",
    "                )"
   ]
  },
  {
   "cell_type": "code",
   "execution_count": 9,
   "id": "91e015e6",
   "metadata": {
    "ExecuteTime": {
     "end_time": "2022-05-09T00:32:18.905524Z",
     "start_time": "2022-05-09T00:32:18.798132Z"
    }
   },
   "outputs": [],
   "source": [
    "preprocessor.fit(X_train)\n",
    "scaled_X_train = preprocessor.transform(X_train)\n",
    "scaled_X_val = preprocessor.transform(X_val)"
   ]
  },
  {
   "cell_type": "markdown",
   "id": "b2c94f44",
   "metadata": {},
   "source": [
    "# DNN"
   ]
  },
  {
   "cell_type": "code",
   "execution_count": 10,
   "id": "bfc473dd",
   "metadata": {
    "ExecuteTime": {
     "end_time": "2022-05-09T00:32:19.339268Z",
     "start_time": "2022-05-09T00:32:18.908271Z"
    }
   },
   "outputs": [],
   "source": [
    "import tensorflow as tf\n",
    "from tensorflow.keras import datasets, utils\n",
    "from tensorflow.keras import models, layers, activations, initializers, losses, optimizers, metrics\n",
    "\n",
    "import os\n",
    "os.environ['TF_CPP_MIN_LOG_LEVEL'] = '2'\n",
    "\n",
    "import matplotlib.pyplot as plt\n",
    "from sklearn import model_selection, preprocessing"
   ]
  },
  {
   "cell_type": "code",
   "execution_count": 11,
   "id": "29ecf768",
   "metadata": {
    "ExecuteTime": {
     "end_time": "2022-05-09T00:32:19.354632Z",
     "start_time": "2022-05-09T00:32:19.341229Z"
    }
   },
   "outputs": [],
   "source": [
    "train_label = utils.to_categorical(y_train) # 0~9 -> one-hot vector\n",
    "val_label = utils.to_categorical(y_val) # 0~9 -> one-hot vector"
   ]
  },
  {
   "cell_type": "code",
   "execution_count": 13,
   "id": "1276b2df",
   "metadata": {
    "ExecuteTime": {
     "end_time": "2022-05-08T18:32:48.625384Z",
     "start_time": "2022-05-08T18:32:48.614412Z"
    }
   },
   "outputs": [
    {
     "data": {
      "text/plain": [
       "51"
      ]
     },
     "execution_count": 13,
     "metadata": {},
     "output_type": "execute_result"
    }
   ],
   "source": [
    "scaled_X_train.shape[1]"
   ]
  },
  {
   "cell_type": "markdown",
   "id": "f244e39f",
   "metadata": {},
   "source": [
    "## layer2"
   ]
  },
  {
   "cell_type": "markdown",
   "id": "28dc3c74",
   "metadata": {},
   "source": [
    "### (256,256)"
   ]
  },
  {
   "cell_type": "code",
   "execution_count": 14,
   "id": "7c7e99e9",
   "metadata": {
    "ExecuteTime": {
     "end_time": "2022-05-08T18:32:49.552905Z",
     "start_time": "2022-05-08T18:32:48.629378Z"
    }
   },
   "outputs": [],
   "source": [
    "model = models.Sequential()\n",
    "\n",
    "# 1-hidden layer\n",
    "model.add(layers.Dense(input_dim=scaled_X_train.shape[1], units=256, activation=None, kernel_initializer='he_uniform'))\n",
    "model.add(layers.BatchNormalization())\n",
    "model.add(layers.Activation('relu'))\n",
    "model.add(layers.Dropout(rate=0.3))\n",
    "\n",
    "# 2-hidden layer\n",
    "model.add(layers.Dense(units=256, activation=None, kernel_initializer='he_uniform'))\n",
    "model.add(layers.BatchNormalization())\n",
    "model.add(layers.Activation('relu'))\n",
    "model.add(layers.Dropout(rate=0.3))\n",
    "\n",
    "# Output layer\n",
    "model.add(layers.Dense(units=3, activation='softmax'))\n",
    "model.compile(optimizer=optimizers.Adam(), \n",
    "              loss=losses.categorical_crossentropy, \n",
    "              metrics=[metrics.categorical_accuracy])"
   ]
  },
  {
   "cell_type": "code",
   "execution_count": 15,
   "id": "44a2320e",
   "metadata": {
    "ExecuteTime": {
     "end_time": "2022-05-08T18:32:49.568938Z",
     "start_time": "2022-05-08T18:32:49.556897Z"
    }
   },
   "outputs": [
    {
     "name": "stdout",
     "output_type": "stream",
     "text": [
      "Model: \"sequential\"\n",
      "_________________________________________________________________\n",
      "Layer (type)                 Output Shape              Param #   \n",
      "=================================================================\n",
      "dense (Dense)                (None, 256)               13312     \n",
      "_________________________________________________________________\n",
      "batch_normalization (BatchNo (None, 256)               1024      \n",
      "_________________________________________________________________\n",
      "activation (Activation)      (None, 256)               0         \n",
      "_________________________________________________________________\n",
      "dropout (Dropout)            (None, 256)               0         \n",
      "_________________________________________________________________\n",
      "dense_1 (Dense)              (None, 256)               65792     \n",
      "_________________________________________________________________\n",
      "batch_normalization_1 (Batch (None, 256)               1024      \n",
      "_________________________________________________________________\n",
      "activation_1 (Activation)    (None, 256)               0         \n",
      "_________________________________________________________________\n",
      "dropout_1 (Dropout)          (None, 256)               0         \n",
      "_________________________________________________________________\n",
      "dense_2 (Dense)              (None, 3)                 771       \n",
      "=================================================================\n",
      "Total params: 81,923\n",
      "Trainable params: 80,899\n",
      "Non-trainable params: 1,024\n",
      "_________________________________________________________________\n"
     ]
    }
   ],
   "source": [
    "model.summary()"
   ]
  },
  {
   "cell_type": "code",
   "execution_count": 16,
   "id": "bee42f51",
   "metadata": {
    "ExecuteTime": {
     "end_time": "2022-05-08T18:32:49.599805Z",
     "start_time": "2022-05-08T18:32:49.578859Z"
    }
   },
   "outputs": [],
   "source": [
    "checkpoint_path = 'saved_models/2layer.h5'\n",
    "\n",
    "callback_checkpoint = tf.keras.callbacks.ModelCheckpoint(filepath=checkpoint_path, \n",
    "                                                         monitor='val_loss', # default\n",
    "                                                         save_best_only=True, # \"Save\" the \"best\" model \"only\"\n",
    "                                                         verbose=0)\n",
    "\n",
    "\n",
    "callback_earlystopping = tf.keras.callbacks.EarlyStopping(monitor='val_loss',  # 모니터 기준 설정 (val loss) \n",
    "                              patience=15,         # 10회 Epoch동안 개선되지 않는다면 종료\n",
    "                             )"
   ]
  },
  {
   "cell_type": "code",
   "execution_count": 17,
   "id": "46382c6c",
   "metadata": {
    "ExecuteTime": {
     "end_time": "2022-05-08T18:34:58.466161Z",
     "start_time": "2022-05-08T18:32:49.604791Z"
    },
    "scrolled": true
   },
   "outputs": [
    {
     "name": "stdout",
     "output_type": "stream",
     "text": [
      "Epoch 1/1000\n",
      "186/186 [==============================] - 3s 8ms/step - loss: 0.9798 - categorical_accuracy: 0.6026 - val_loss: 0.8889 - val_categorical_accuracy: 0.6431\n",
      "Epoch 2/1000\n",
      "186/186 [==============================] - 1s 7ms/step - loss: 0.8966 - categorical_accuracy: 0.6379 - val_loss: 0.8738 - val_categorical_accuracy: 0.6464\n",
      "Epoch 3/1000\n",
      "186/186 [==============================] - 2s 8ms/step - loss: 0.8711 - categorical_accuracy: 0.6513 - val_loss: 0.8618 - val_categorical_accuracy: 0.6709\n",
      "Epoch 4/1000\n",
      "186/186 [==============================] - 2s 11ms/step - loss: 0.8596 - categorical_accuracy: 0.6530 - val_loss: 0.8545 - val_categorical_accuracy: 0.6662\n",
      "Epoch 5/1000\n",
      "186/186 [==============================] - 2s 13ms/step - loss: 0.8540 - categorical_accuracy: 0.6567 - val_loss: 0.8469 - val_categorical_accuracy: 0.6728\n",
      "Epoch 6/1000\n",
      "186/186 [==============================] - 2s 12ms/step - loss: 0.8485 - categorical_accuracy: 0.6598 - val_loss: 0.8528 - val_categorical_accuracy: 0.6620\n",
      "Epoch 7/1000\n",
      "186/186 [==============================] - 2s 13ms/step - loss: 0.8450 - categorical_accuracy: 0.6593 - val_loss: 0.8378 - val_categorical_accuracy: 0.6803\n",
      "Epoch 8/1000\n",
      "186/186 [==============================] - 3s 15ms/step - loss: 0.8407 - categorical_accuracy: 0.6619 - val_loss: 0.8387 - val_categorical_accuracy: 0.6708\n",
      "Epoch 9/1000\n",
      "186/186 [==============================] - 3s 14ms/step - loss: 0.8347 - categorical_accuracy: 0.6660 - val_loss: 0.8349 - val_categorical_accuracy: 0.6781\n",
      "Epoch 10/1000\n",
      "186/186 [==============================] - 2s 13ms/step - loss: 0.8317 - categorical_accuracy: 0.6647 - val_loss: 0.8314 - val_categorical_accuracy: 0.6790\n",
      "Epoch 11/1000\n",
      "186/186 [==============================] - 3s 14ms/step - loss: 0.8326 - categorical_accuracy: 0.6645 - val_loss: 0.8343 - val_categorical_accuracy: 0.6808\n",
      "Epoch 12/1000\n",
      "186/186 [==============================] - 2s 10ms/step - loss: 0.8281 - categorical_accuracy: 0.6672 - val_loss: 0.8348 - val_categorical_accuracy: 0.6698\n",
      "Epoch 13/1000\n",
      "186/186 [==============================] - 2s 9ms/step - loss: 0.8223 - categorical_accuracy: 0.6674 - val_loss: 0.8407 - val_categorical_accuracy: 0.6693\n",
      "Epoch 14/1000\n",
      "186/186 [==============================] - 2s 9ms/step - loss: 0.8197 - categorical_accuracy: 0.6693 - val_loss: 0.8261 - val_categorical_accuracy: 0.6813\n",
      "Epoch 15/1000\n",
      "186/186 [==============================] - 2s 9ms/step - loss: 0.8149 - categorical_accuracy: 0.6706 - val_loss: 0.8296 - val_categorical_accuracy: 0.6718\n",
      "Epoch 16/1000\n",
      "186/186 [==============================] - 2s 10ms/step - loss: 0.8146 - categorical_accuracy: 0.6701 - val_loss: 0.8228 - val_categorical_accuracy: 0.6800\n",
      "Epoch 17/1000\n",
      "186/186 [==============================] - 3s 14ms/step - loss: 0.8083 - categorical_accuracy: 0.6760 - val_loss: 0.8215 - val_categorical_accuracy: 0.6815\n",
      "Epoch 18/1000\n",
      "186/186 [==============================] - 2s 13ms/step - loss: 0.8054 - categorical_accuracy: 0.6748 - val_loss: 0.8171 - val_categorical_accuracy: 0.6832\n",
      "Epoch 19/1000\n",
      "186/186 [==============================] - 2s 12ms/step - loss: 0.8031 - categorical_accuracy: 0.6774 - val_loss: 0.8200 - val_categorical_accuracy: 0.6780\n",
      "Epoch 20/1000\n",
      "186/186 [==============================] - 2s 11ms/step - loss: 0.8031 - categorical_accuracy: 0.6754 - val_loss: 0.8146 - val_categorical_accuracy: 0.6852\n",
      "Epoch 21/1000\n",
      "186/186 [==============================] - 2s 9ms/step - loss: 0.7975 - categorical_accuracy: 0.6775 - val_loss: 0.8136 - val_categorical_accuracy: 0.6838\n",
      "Epoch 22/1000\n",
      "186/186 [==============================] - 2s 9ms/step - loss: 0.7922 - categorical_accuracy: 0.6767 - val_loss: 0.8119 - val_categorical_accuracy: 0.6844\n",
      "Epoch 23/1000\n",
      "186/186 [==============================] - 2s 8ms/step - loss: 0.7873 - categorical_accuracy: 0.6817 - val_loss: 0.8126 - val_categorical_accuracy: 0.6820\n",
      "Epoch 24/1000\n",
      "186/186 [==============================] - 2s 9ms/step - loss: 0.7863 - categorical_accuracy: 0.6785 - val_loss: 0.8126 - val_categorical_accuracy: 0.6827\n",
      "Epoch 25/1000\n",
      "186/186 [==============================] - 3s 17ms/step - loss: 0.7861 - categorical_accuracy: 0.6798 - val_loss: 0.8129 - val_categorical_accuracy: 0.6858\n",
      "Epoch 26/1000\n",
      "186/186 [==============================] - 5s 28ms/step - loss: 0.7790 - categorical_accuracy: 0.6830 - val_loss: 0.8113 - val_categorical_accuracy: 0.6843\n",
      "Epoch 27/1000\n",
      "186/186 [==============================] - 3s 17ms/step - loss: 0.7810 - categorical_accuracy: 0.6842 - val_loss: 0.8165 - val_categorical_accuracy: 0.6765\n",
      "Epoch 28/1000\n",
      "186/186 [==============================] - 3s 14ms/step - loss: 0.7722 - categorical_accuracy: 0.6854 - val_loss: 0.8144 - val_categorical_accuracy: 0.6818\n",
      "Epoch 29/1000\n",
      "186/186 [==============================] - 2s 13ms/step - loss: 0.7681 - categorical_accuracy: 0.6846 - val_loss: 0.8060 - val_categorical_accuracy: 0.6856\n",
      "Epoch 30/1000\n",
      "186/186 [==============================] - 2s 10ms/step - loss: 0.7670 - categorical_accuracy: 0.6888 - val_loss: 0.8049 - val_categorical_accuracy: 0.6851\n",
      "Epoch 31/1000\n",
      "186/186 [==============================] - 2s 13ms/step - loss: 0.7669 - categorical_accuracy: 0.6877 - val_loss: 0.8049 - val_categorical_accuracy: 0.6858\n",
      "Epoch 32/1000\n",
      "186/186 [==============================] - 2s 11ms/step - loss: 0.7630 - categorical_accuracy: 0.6893 - val_loss: 0.8026 - val_categorical_accuracy: 0.6881\n",
      "Epoch 33/1000\n",
      "186/186 [==============================] - 2s 9ms/step - loss: 0.7617 - categorical_accuracy: 0.6897 - val_loss: 0.8000 - val_categorical_accuracy: 0.6864\n",
      "Epoch 34/1000\n",
      "186/186 [==============================] - 2s 8ms/step - loss: 0.7593 - categorical_accuracy: 0.6908 - val_loss: 0.8084 - val_categorical_accuracy: 0.6778\n",
      "Epoch 35/1000\n",
      "186/186 [==============================] - 2s 9ms/step - loss: 0.7541 - categorical_accuracy: 0.6917 - val_loss: 0.8030 - val_categorical_accuracy: 0.6866\n",
      "Epoch 36/1000\n",
      "186/186 [==============================] - 2s 8ms/step - loss: 0.7489 - categorical_accuracy: 0.6934 - val_loss: 0.7991 - val_categorical_accuracy: 0.6825\n",
      "Epoch 37/1000\n",
      "186/186 [==============================] - 2s 9ms/step - loss: 0.7440 - categorical_accuracy: 0.6940 - val_loss: 0.8011 - val_categorical_accuracy: 0.6847\n",
      "Epoch 38/1000\n",
      "186/186 [==============================] - 2s 9ms/step - loss: 0.7457 - categorical_accuracy: 0.6920 - val_loss: 0.8042 - val_categorical_accuracy: 0.6844\n",
      "Epoch 39/1000\n",
      "186/186 [==============================] - 2s 8ms/step - loss: 0.7471 - categorical_accuracy: 0.6922 - val_loss: 0.8026 - val_categorical_accuracy: 0.6858\n",
      "Epoch 40/1000\n",
      "186/186 [==============================] - 2s 8ms/step - loss: 0.7435 - categorical_accuracy: 0.6952 - val_loss: 0.8064 - val_categorical_accuracy: 0.6779\n",
      "Epoch 41/1000\n",
      "186/186 [==============================] - 2s 9ms/step - loss: 0.7386 - categorical_accuracy: 0.6965 - val_loss: 0.8041 - val_categorical_accuracy: 0.6828\n",
      "Epoch 42/1000\n",
      "186/186 [==============================] - 2s 8ms/step - loss: 0.7375 - categorical_accuracy: 0.6958 - val_loss: 0.8024 - val_categorical_accuracy: 0.6833\n",
      "Epoch 43/1000\n",
      "186/186 [==============================] - 2s 9ms/step - loss: 0.7337 - categorical_accuracy: 0.6973 - val_loss: 0.7993 - val_categorical_accuracy: 0.6857\n",
      "Epoch 44/1000\n",
      "186/186 [==============================] - 2s 9ms/step - loss: 0.7327 - categorical_accuracy: 0.6990 - val_loss: 0.8040 - val_categorical_accuracy: 0.6812\n",
      "Epoch 45/1000\n",
      "186/186 [==============================] - 2s 9ms/step - loss: 0.7252 - categorical_accuracy: 0.7030 - val_loss: 0.8023 - val_categorical_accuracy: 0.6796\n",
      "Epoch 46/1000\n",
      "186/186 [==============================] - 2s 8ms/step - loss: 0.7262 - categorical_accuracy: 0.7023 - val_loss: 0.7967 - val_categorical_accuracy: 0.6872\n",
      "Epoch 47/1000\n",
      "186/186 [==============================] - 2s 8ms/step - loss: 0.7255 - categorical_accuracy: 0.7018 - val_loss: 0.8075 - val_categorical_accuracy: 0.6766\n",
      "Epoch 48/1000\n",
      "186/186 [==============================] - 2s 8ms/step - loss: 0.7227 - categorical_accuracy: 0.7008 - val_loss: 0.7957 - val_categorical_accuracy: 0.6867\n",
      "Epoch 49/1000\n",
      "186/186 [==============================] - 2s 8ms/step - loss: 0.7230 - categorical_accuracy: 0.7017 - val_loss: 0.7976 - val_categorical_accuracy: 0.6835\n",
      "Epoch 50/1000\n",
      "186/186 [==============================] - 2s 9ms/step - loss: 0.7240 - categorical_accuracy: 0.7043 - val_loss: 0.7989 - val_categorical_accuracy: 0.6791\n",
      "Epoch 51/1000\n",
      "186/186 [==============================] - 2s 8ms/step - loss: 0.7152 - categorical_accuracy: 0.7050 - val_loss: 0.7904 - val_categorical_accuracy: 0.6881\n",
      "Epoch 52/1000\n",
      "186/186 [==============================] - 2s 8ms/step - loss: 0.7162 - categorical_accuracy: 0.7040 - val_loss: 0.7968 - val_categorical_accuracy: 0.6844\n",
      "Epoch 53/1000\n",
      "186/186 [==============================] - 2s 8ms/step - loss: 0.7078 - categorical_accuracy: 0.7083 - val_loss: 0.8027 - val_categorical_accuracy: 0.6770\n",
      "Epoch 54/1000\n",
      "186/186 [==============================] - 2s 8ms/step - loss: 0.7141 - categorical_accuracy: 0.7065 - val_loss: 0.7936 - val_categorical_accuracy: 0.6858\n",
      "Epoch 55/1000\n",
      "186/186 [==============================] - 2s 8ms/step - loss: 0.7094 - categorical_accuracy: 0.7059 - val_loss: 0.7920 - val_categorical_accuracy: 0.6854\n",
      "Epoch 56/1000\n",
      "186/186 [==============================] - 2s 9ms/step - loss: 0.7067 - categorical_accuracy: 0.7068 - val_loss: 0.7950 - val_categorical_accuracy: 0.6856\n",
      "Epoch 57/1000\n",
      "186/186 [==============================] - 2s 9ms/step - loss: 0.7053 - categorical_accuracy: 0.7098 - val_loss: 0.7948 - val_categorical_accuracy: 0.6859\n",
      "Epoch 58/1000\n",
      "186/186 [==============================] - 2s 8ms/step - loss: 0.7037 - categorical_accuracy: 0.7096 - val_loss: 0.7969 - val_categorical_accuracy: 0.6805\n",
      "Epoch 59/1000\n",
      "186/186 [==============================] - 2s 8ms/step - loss: 0.7021 - categorical_accuracy: 0.7128 - val_loss: 0.7983 - val_categorical_accuracy: 0.6820\n",
      "Epoch 60/1000\n",
      "186/186 [==============================] - 2s 8ms/step - loss: 0.7016 - categorical_accuracy: 0.7081 - val_loss: 0.7967 - val_categorical_accuracy: 0.6822\n",
      "Epoch 61/1000\n",
      "186/186 [==============================] - 2s 9ms/step - loss: 0.6983 - categorical_accuracy: 0.7118 - val_loss: 0.7958 - val_categorical_accuracy: 0.6814\n",
      "Epoch 62/1000\n",
      "186/186 [==============================] - 2s 8ms/step - loss: 0.6936 - categorical_accuracy: 0.7164 - val_loss: 0.7954 - val_categorical_accuracy: 0.6815\n",
      "Epoch 63/1000\n",
      "186/186 [==============================] - 2s 9ms/step - loss: 0.6927 - categorical_accuracy: 0.7160 - val_loss: 0.8002 - val_categorical_accuracy: 0.6793\n",
      "Epoch 64/1000\n",
      "186/186 [==============================] - 2s 8ms/step - loss: 0.6940 - categorical_accuracy: 0.7146 - val_loss: 0.7964 - val_categorical_accuracy: 0.6809\n",
      "Epoch 65/1000\n",
      "186/186 [==============================] - 2s 9ms/step - loss: 0.6906 - categorical_accuracy: 0.7170 - val_loss: 0.7976 - val_categorical_accuracy: 0.6825\n",
      "Epoch 66/1000\n",
      "186/186 [==============================] - 2s 9ms/step - loss: 0.6900 - categorical_accuracy: 0.7156 - val_loss: 0.7947 - val_categorical_accuracy: 0.6847\n"
     ]
    }
   ],
   "source": [
    "history = model.fit(scaled_X_train, train_label, \n",
    "                    validation_data=(scaled_X_val, val_label),\n",
    "                    batch_size=100, epochs=1000,\n",
    "                    callbacks=[callback_checkpoint, callback_earlystopping]) # 콜백 함수 추가"
   ]
  },
  {
   "cell_type": "code",
   "execution_count": 18,
   "id": "bb63d4bb",
   "metadata": {
    "ExecuteTime": {
     "end_time": "2022-05-08T18:34:59.167290Z",
     "start_time": "2022-05-08T18:34:58.474142Z"
    }
   },
   "outputs": [
    {
     "data": {
      "image/png": "[encoded data removed]",
      "text/plain": [
       "<Figure size 432x288 with 1 Axes>"
      ]
     },
     "metadata": {
      "needs_background": "light"
     },
     "output_type": "display_data"
    }
   ],
   "source": [
    "val_loss = history.history['val_loss']\n",
    "loss = history.history['loss']\n",
    "\n",
    "\n",
    "x_len = np.arange(len(loss))\n",
    "plt.plot(x_len, loss, marker='.', c='blue', label=\"Train-set Loss\")\n",
    "plt.plot(x_len, val_loss, marker='.', c='red', label=\"Validation-set Loss\")\n",
    "\n",
    "plt.legend(loc='upper right')\n",
    "plt.grid()\n",
    "plt.xlabel('epoch')\n",
    "plt.ylabel('Loss')\n",
    "plt.show()"
   ]
  },
  {
   "cell_type": "markdown",
   "id": "092f5f65",
   "metadata": {},
   "source": [
    "#### test 예측"
   ]
  },
  {
   "cell_type": "code",
   "execution_count": 19,
   "id": "6b5a51be",
   "metadata": {
    "ExecuteTime": {
     "end_time": "2022-05-08T18:34:59.213267Z",
     "start_time": "2022-05-08T18:34:59.172279Z"
    }
   },
   "outputs": [
    {
     "data": {
      "text/html": [
       "<div>\n",
       "<style scoped>\n",
       "    .dataframe tbody tr th:only-of-type {\n",
       "        vertical-align: middle;\n",
       "    }\n",
       "\n",
       "    .dataframe tbody tr th {\n",
       "        vertical-align: top;\n",
       "    }\n",
       "\n",
       "    .dataframe thead th {\n",
       "        text-align: right;\n",
       "    }\n",
       "</style>\n",
       "<table border=\"1\" class=\"dataframe\">\n",
       "  <thead>\n",
       "    <tr style=\"text-align: right;\">\n",
       "      <th></th>\n",
       "      <th>index</th>\n",
       "      <th>0</th>\n",
       "      <th>1</th>\n",
       "      <th>2</th>\n",
       "    </tr>\n",
       "  </thead>\n",
       "  <tbody>\n",
       "    <tr>\n",
       "      <th>0</th>\n",
       "      <td>26457</td>\n",
       "      <td>0</td>\n",
       "      <td>0</td>\n",
       "      <td>0</td>\n",
       "    </tr>\n",
       "    <tr>\n",
       "      <th>1</th>\n",
       "      <td>26458</td>\n",
       "      <td>0</td>\n",
       "      <td>0</td>\n",
       "      <td>0</td>\n",
       "    </tr>\n",
       "    <tr>\n",
       "      <th>2</th>\n",
       "      <td>26459</td>\n",
       "      <td>0</td>\n",
       "      <td>0</td>\n",
       "      <td>0</td>\n",
       "    </tr>\n",
       "    <tr>\n",
       "      <th>3</th>\n",
       "      <td>26460</td>\n",
       "      <td>0</td>\n",
       "      <td>0</td>\n",
       "      <td>0</td>\n",
       "    </tr>\n",
       "    <tr>\n",
       "      <th>4</th>\n",
       "      <td>26461</td>\n",
       "      <td>0</td>\n",
       "      <td>0</td>\n",
       "      <td>0</td>\n",
       "    </tr>\n",
       "  </tbody>\n",
       "</table>\n",
       "</div>"
      ],
      "text/plain": [
       "   index  0  1  2\n",
       "0  26457  0  0  0\n",
       "1  26458  0  0  0\n",
       "2  26459  0  0  0\n",
       "3  26460  0  0  0\n",
       "4  26461  0  0  0"
      ]
     },
     "execution_count": 19,
     "metadata": {},
     "output_type": "execute_result"
    }
   ],
   "source": [
    "submit = pd.read_csv('./data/sample_submission.csv')\n",
    "submit.head()"
   ]
  },
  {
   "cell_type": "code",
   "execution_count": 20,
   "id": "dbc15040",
   "metadata": {
    "ExecuteTime": {
     "end_time": "2022-05-08T18:34:59.277095Z",
     "start_time": "2022-05-08T18:34:59.218253Z"
    }
   },
   "outputs": [],
   "source": [
    "scaled_X_test = preprocessor.transform(test)"
   ]
  },
  {
   "cell_type": "code",
   "execution_count": 21,
   "id": "4813411f",
   "metadata": {
    "ExecuteTime": {
     "end_time": "2022-05-08T18:34:59.974274Z",
     "start_time": "2022-05-08T18:34:59.281083Z"
    }
   },
   "outputs": [
    {
     "name": "stderr",
     "output_type": "stream",
     "text": [
      "C:\\ProgramData\\Anaconda3\\lib\\site-packages\\tensorflow\\python\\keras\\engine\\sequential.py:430: UserWarning: `model.predict_proba()` is deprecated and will be removed after 2021-01-01. Please use `model.predict()` instead.\n",
      "  warnings.warn('`model.predict_proba()` is deprecated and '\n"
     ]
    }
   ],
   "source": [
    "preds = model.predict_proba(scaled_X_test)"
   ]
  },
  {
   "cell_type": "code",
   "execution_count": 22,
   "id": "16b54c63",
   "metadata": {
    "ExecuteTime": {
     "end_time": "2022-05-08T18:35:00.004905Z",
     "start_time": "2022-05-08T18:34:59.978264Z"
    }
   },
   "outputs": [],
   "source": [
    "submit.iloc[:, 1:] = preds"
   ]
  },
  {
   "cell_type": "code",
   "execution_count": 23,
   "id": "d2f66c6d",
   "metadata": {
    "ExecuteTime": {
     "end_time": "2022-05-08T18:35:00.051780Z",
     "start_time": "2022-05-08T18:35:00.010898Z"
    }
   },
   "outputs": [
    {
     "data": {
      "text/html": [
       "<div>\n",
       "<style scoped>\n",
       "    .dataframe tbody tr th:only-of-type {\n",
       "        vertical-align: middle;\n",
       "    }\n",
       "\n",
       "    .dataframe tbody tr th {\n",
       "        vertical-align: top;\n",
       "    }\n",
       "\n",
       "    .dataframe thead th {\n",
       "        text-align: right;\n",
       "    }\n",
       "</style>\n",
       "<table border=\"1\" class=\"dataframe\">\n",
       "  <thead>\n",
       "    <tr style=\"text-align: right;\">\n",
       "      <th></th>\n",
       "      <th>index</th>\n",
       "      <th>0</th>\n",
       "      <th>1</th>\n",
       "      <th>2</th>\n",
       "    </tr>\n",
       "  </thead>\n",
       "  <tbody>\n",
       "    <tr>\n",
       "      <th>0</th>\n",
       "      <td>26457</td>\n",
       "      <td>0.184501</td>\n",
       "      <td>0.026434</td>\n",
       "      <td>0.789065</td>\n",
       "    </tr>\n",
       "    <tr>\n",
       "      <th>1</th>\n",
       "      <td>26458</td>\n",
       "      <td>0.188908</td>\n",
       "      <td>0.057059</td>\n",
       "      <td>0.754033</td>\n",
       "    </tr>\n",
       "    <tr>\n",
       "      <th>2</th>\n",
       "      <td>26459</td>\n",
       "      <td>0.169106</td>\n",
       "      <td>0.220998</td>\n",
       "      <td>0.609896</td>\n",
       "    </tr>\n",
       "    <tr>\n",
       "      <th>3</th>\n",
       "      <td>26460</td>\n",
       "      <td>0.124352</td>\n",
       "      <td>0.144973</td>\n",
       "      <td>0.730675</td>\n",
       "    </tr>\n",
       "    <tr>\n",
       "      <th>4</th>\n",
       "      <td>26461</td>\n",
       "      <td>0.022852</td>\n",
       "      <td>0.109207</td>\n",
       "      <td>0.867941</td>\n",
       "    </tr>\n",
       "  </tbody>\n",
       "</table>\n",
       "</div>"
      ],
      "text/plain": [
       "   index         0         1         2\n",
       "0  26457  0.184501  0.026434  0.789065\n",
       "1  26458  0.188908  0.057059  0.754033\n",
       "2  26459  0.169106  0.220998  0.609896\n",
       "3  26460  0.124352  0.144973  0.730675\n",
       "4  26461  0.022852  0.109207  0.867941"
      ]
     },
     "execution_count": 23,
     "metadata": {},
     "output_type": "execute_result"
    }
   ],
   "source": [
    "submit.head()"
   ]
  },
  {
   "cell_type": "code",
   "execution_count": 24,
   "id": "62d52533",
   "metadata": {
    "ExecuteTime": {
     "end_time": "2022-05-08T18:35:00.225316Z",
     "start_time": "2022-05-08T18:35:00.055774Z"
    }
   },
   "outputs": [],
   "source": [
    "# submit.to_csv('saved_models/submisison_DNN.csv',index=False)"
   ]
  },
  {
   "cell_type": "markdown",
   "id": "deabe771",
   "metadata": {},
   "source": [
    "### (128,128)"
   ]
  },
  {
   "cell_type": "code",
   "execution_count": 30,
   "id": "159521c8",
   "metadata": {
    "ExecuteTime": {
     "end_time": "2022-05-08T18:48:01.206631Z",
     "start_time": "2022-05-08T18:48:01.059023Z"
    }
   },
   "outputs": [],
   "source": [
    "model2 = models.Sequential()\n",
    "\n",
    "# 1-hidden layer\n",
    "model2.add(layers.Dense(input_dim=scaled_X_train.shape[1], units=128, activation=None, kernel_initializer='he_uniform'))\n",
    "model2.add(layers.BatchNormalization())\n",
    "model2.add(layers.Activation('relu'))\n",
    "model2.add(layers.Dropout(rate=0.3))\n",
    "\n",
    "# 2-hidden layer\n",
    "model2.add(layers.Dense(units=128, activation=None, kernel_initializer='he_uniform'))\n",
    "model2.add(layers.BatchNormalization())\n",
    "model2.add(layers.Activation('relu'))\n",
    "model2.add(layers.Dropout(rate=0.3))\n",
    "\n",
    "# Output layer\n",
    "model2.add(layers.Dense(units=3, activation='softmax'))\n",
    "model2.compile(optimizer=optimizers.Adam(), \n",
    "              loss=losses.categorical_crossentropy, \n",
    "              metrics=[metrics.categorical_accuracy])"
   ]
  },
  {
   "cell_type": "code",
   "execution_count": 31,
   "id": "0e2d3787",
   "metadata": {
    "ExecuteTime": {
     "end_time": "2022-05-08T18:48:01.284503Z",
     "start_time": "2022-05-08T18:48:01.265471Z"
    }
   },
   "outputs": [
    {
     "name": "stdout",
     "output_type": "stream",
     "text": [
      "Model: \"sequential\"\n",
      "_________________________________________________________________\n",
      "Layer (type)                 Output Shape              Param #   \n",
      "=================================================================\n",
      "dense (Dense)                (None, 256)               13312     \n",
      "_________________________________________________________________\n",
      "batch_normalization (BatchNo (None, 256)               1024      \n",
      "_________________________________________________________________\n",
      "activation (Activation)      (None, 256)               0         \n",
      "_________________________________________________________________\n",
      "dropout (Dropout)            (None, 256)               0         \n",
      "_________________________________________________________________\n",
      "dense_1 (Dense)              (None, 256)               65792     \n",
      "_________________________________________________________________\n",
      "batch_normalization_1 (Batch (None, 256)               1024      \n",
      "_________________________________________________________________\n",
      "activation_1 (Activation)    (None, 256)               0         \n",
      "_________________________________________________________________\n",
      "dropout_1 (Dropout)          (None, 256)               0         \n",
      "_________________________________________________________________\n",
      "dense_2 (Dense)              (None, 3)                 771       \n",
      "=================================================================\n",
      "Total params: 81,923\n",
      "Trainable params: 80,899\n",
      "Non-trainable params: 1,024\n",
      "_________________________________________________________________\n"
     ]
    }
   ],
   "source": [
    "model.summary()"
   ]
  },
  {
   "cell_type": "code",
   "execution_count": 32,
   "id": "e5550558",
   "metadata": {
    "ExecuteTime": {
     "end_time": "2022-05-08T18:48:01.459000Z",
     "start_time": "2022-05-08T18:48:01.449026Z"
    }
   },
   "outputs": [],
   "source": [
    "checkpoint_path = 'saved_models/2layer.h5'\n",
    "\n",
    "callback_checkpoint = tf.keras.callbacks.ModelCheckpoint(filepath=checkpoint_path, \n",
    "                                                         monitor='val_loss', # default\n",
    "                                                         save_best_only=True, # \"Save\" the \"best\" model \"only\"\n",
    "                                                         verbose=0)\n",
    "\n",
    "\n",
    "callback_earlystopping = tf.keras.callbacks.EarlyStopping(monitor='val_loss',  # 모니터 기준 설정 (val loss) \n",
    "                              patience=15,         # 10회 Epoch동안 개선되지 않는다면 종료\n",
    "                             )"
   ]
  },
  {
   "cell_type": "code",
   "execution_count": 33,
   "id": "263c00fe",
   "metadata": {
    "ExecuteTime": {
     "end_time": "2022-05-08T18:50:34.820124Z",
     "start_time": "2022-05-08T18:48:01.615076Z"
    },
    "scrolled": true
   },
   "outputs": [
    {
     "name": "stdout",
     "output_type": "stream",
     "text": [
      "Epoch 1/1000\n",
      "186/186 [==============================] - 3s 7ms/step - loss: 0.9948 - categorical_accuracy: 0.5878 - val_loss: 0.8797 - val_categorical_accuracy: 0.6440\n",
      "Epoch 2/1000\n",
      "186/186 [==============================] - 1s 6ms/step - loss: 0.9122 - categorical_accuracy: 0.6299 - val_loss: 0.8732 - val_categorical_accuracy: 0.6553\n",
      "Epoch 3/1000\n",
      "186/186 [==============================] - 1s 6ms/step - loss: 0.8789 - categorical_accuracy: 0.6441 - val_loss: 0.8573 - val_categorical_accuracy: 0.6691\n",
      "Epoch 4/1000\n",
      "186/186 [==============================] - 1s 6ms/step - loss: 0.8698 - categorical_accuracy: 0.6499 - val_loss: 0.8617 - val_categorical_accuracy: 0.6704\n",
      "Epoch 5/1000\n",
      "186/186 [==============================] - 1s 6ms/step - loss: 0.8628 - categorical_accuracy: 0.6510 - val_loss: 0.8533 - val_categorical_accuracy: 0.6726\n",
      "Epoch 6/1000\n",
      "186/186 [==============================] - 1s 6ms/step - loss: 0.8559 - categorical_accuracy: 0.6559 - val_loss: 0.8535 - val_categorical_accuracy: 0.6737\n",
      "Epoch 7/1000\n",
      "186/186 [==============================] - 1s 5ms/step - loss: 0.8542 - categorical_accuracy: 0.6553 - val_loss: 0.8505 - val_categorical_accuracy: 0.6696\n",
      "Epoch 8/1000\n",
      "186/186 [==============================] - 1s 7ms/step - loss: 0.8521 - categorical_accuracy: 0.6572 - val_loss: 0.8479 - val_categorical_accuracy: 0.6741\n",
      "Epoch 9/1000\n",
      "186/186 [==============================] - 2s 10ms/step - loss: 0.8477 - categorical_accuracy: 0.6567 - val_loss: 0.8444 - val_categorical_accuracy: 0.6689\n",
      "Epoch 10/1000\n",
      "186/186 [==============================] - 2s 11ms/step - loss: 0.8450 - categorical_accuracy: 0.6606 - val_loss: 0.8408 - val_categorical_accuracy: 0.6725\n",
      "Epoch 11/1000\n",
      "186/186 [==============================] - 2s 10ms/step - loss: 0.8423 - categorical_accuracy: 0.6589 - val_loss: 0.8368 - val_categorical_accuracy: 0.6789\n",
      "Epoch 12/1000\n",
      "186/186 [==============================] - 2s 9ms/step - loss: 0.8398 - categorical_accuracy: 0.6648 - val_loss: 0.8345 - val_categorical_accuracy: 0.6794\n",
      "Epoch 13/1000\n",
      "186/186 [==============================] - 2s 13ms/step - loss: 0.8375 - categorical_accuracy: 0.6635 - val_loss: 0.8351 - val_categorical_accuracy: 0.6779\n",
      "Epoch 14/1000\n",
      "186/186 [==============================] - 2s 12ms/step - loss: 0.8368 - categorical_accuracy: 0.6629 - val_loss: 0.8354 - val_categorical_accuracy: 0.6770\n",
      "Epoch 15/1000\n",
      "186/186 [==============================] - 2s 10ms/step - loss: 0.8338 - categorical_accuracy: 0.6668 - val_loss: 0.8354 - val_categorical_accuracy: 0.6790\n",
      "Epoch 16/1000\n",
      "186/186 [==============================] - 2s 8ms/step - loss: 0.8298 - categorical_accuracy: 0.6680 - val_loss: 0.8309 - val_categorical_accuracy: 0.6798\n",
      "Epoch 17/1000\n",
      "186/186 [==============================] - 2s 9ms/step - loss: 0.8288 - categorical_accuracy: 0.6668 - val_loss: 0.8295 - val_categorical_accuracy: 0.6781\n",
      "Epoch 18/1000\n",
      "186/186 [==============================] - 2s 9ms/step - loss: 0.8261 - categorical_accuracy: 0.6688 - val_loss: 0.8278 - val_categorical_accuracy: 0.6746\n",
      "Epoch 19/1000\n",
      "186/186 [==============================] - 2s 9ms/step - loss: 0.8238 - categorical_accuracy: 0.6694 - val_loss: 0.8253 - val_categorical_accuracy: 0.6844\n",
      "Epoch 20/1000\n",
      "186/186 [==============================] - 2s 9ms/step - loss: 0.8224 - categorical_accuracy: 0.6699 - val_loss: 0.8236 - val_categorical_accuracy: 0.6829\n",
      "Epoch 21/1000\n",
      "186/186 [==============================] - 2s 9ms/step - loss: 0.8227 - categorical_accuracy: 0.6693 - val_loss: 0.8238 - val_categorical_accuracy: 0.6825\n",
      "Epoch 22/1000\n",
      "186/186 [==============================] - 1s 7ms/step - loss: 0.8173 - categorical_accuracy: 0.6703 - val_loss: 0.8288 - val_categorical_accuracy: 0.6754\n",
      "Epoch 23/1000\n",
      "186/186 [==============================] - 1s 7ms/step - loss: 0.8168 - categorical_accuracy: 0.6709 - val_loss: 0.8208 - val_categorical_accuracy: 0.6844\n",
      "Epoch 24/1000\n",
      "186/186 [==============================] - 2s 9ms/step - loss: 0.8143 - categorical_accuracy: 0.6732 - val_loss: 0.8169 - val_categorical_accuracy: 0.6834\n",
      "Epoch 25/1000\n",
      "186/186 [==============================] - 1s 8ms/step - loss: 0.8123 - categorical_accuracy: 0.6726 - val_loss: 0.8143 - val_categorical_accuracy: 0.6853\n",
      "Epoch 26/1000\n",
      "186/186 [==============================] - 2s 8ms/step - loss: 0.8110 - categorical_accuracy: 0.6731 - val_loss: 0.8162 - val_categorical_accuracy: 0.6881\n",
      "Epoch 27/1000\n",
      "186/186 [==============================] - 2s 10ms/step - loss: 0.8081 - categorical_accuracy: 0.6769 - val_loss: 0.8143 - val_categorical_accuracy: 0.6837\n",
      "Epoch 28/1000\n",
      "186/186 [==============================] - 2s 10ms/step - loss: 0.8055 - categorical_accuracy: 0.6767 - val_loss: 0.8160 - val_categorical_accuracy: 0.6863\n",
      "Epoch 29/1000\n",
      "186/186 [==============================] - 2s 10ms/step - loss: 0.8037 - categorical_accuracy: 0.6784 - val_loss: 0.8108 - val_categorical_accuracy: 0.6864\n",
      "Epoch 30/1000\n",
      "186/186 [==============================] - 2s 9ms/step - loss: 0.7993 - categorical_accuracy: 0.6782 - val_loss: 0.8138 - val_categorical_accuracy: 0.6857\n",
      "Epoch 31/1000\n",
      "186/186 [==============================] - 1s 8ms/step - loss: 0.8004 - categorical_accuracy: 0.6791 - val_loss: 0.8093 - val_categorical_accuracy: 0.6883\n",
      "Epoch 32/1000\n",
      "186/186 [==============================] - 1s 8ms/step - loss: 0.7969 - categorical_accuracy: 0.6791 - val_loss: 0.8126 - val_categorical_accuracy: 0.6882\n",
      "Epoch 33/1000\n",
      "186/186 [==============================] - 1s 7ms/step - loss: 0.7965 - categorical_accuracy: 0.6800 - val_loss: 0.8064 - val_categorical_accuracy: 0.6896\n",
      "Epoch 34/1000\n",
      "186/186 [==============================] - 1s 7ms/step - loss: 0.7962 - categorical_accuracy: 0.6791 - val_loss: 0.8077 - val_categorical_accuracy: 0.6910\n",
      "Epoch 35/1000\n",
      "186/186 [==============================] - 1s 7ms/step - loss: 0.7940 - categorical_accuracy: 0.6806 - val_loss: 0.8076 - val_categorical_accuracy: 0.6866\n",
      "Epoch 36/1000\n",
      "186/186 [==============================] - 2s 9ms/step - loss: 0.7875 - categorical_accuracy: 0.6821 - val_loss: 0.8049 - val_categorical_accuracy: 0.6901\n",
      "Epoch 37/1000\n",
      "186/186 [==============================] - 2s 13ms/step - loss: 0.7860 - categorical_accuracy: 0.6825 - val_loss: 0.8077 - val_categorical_accuracy: 0.6888\n",
      "Epoch 38/1000\n",
      "186/186 [==============================] - 2s 13ms/step - loss: 0.7844 - categorical_accuracy: 0.6844 - val_loss: 0.8042 - val_categorical_accuracy: 0.6927\n",
      "Epoch 39/1000\n",
      "186/186 [==============================] - 1s 8ms/step - loss: 0.7851 - categorical_accuracy: 0.6823 - val_loss: 0.8031 - val_categorical_accuracy: 0.6906\n",
      "Epoch 40/1000\n",
      "186/186 [==============================] - 1s 7ms/step - loss: 0.7823 - categorical_accuracy: 0.6861 - val_loss: 0.8030 - val_categorical_accuracy: 0.6915\n",
      "Epoch 41/1000\n",
      "186/186 [==============================] - 2s 8ms/step - loss: 0.7776 - categorical_accuracy: 0.6857 - val_loss: 0.8033 - val_categorical_accuracy: 0.6893\n",
      "Epoch 42/1000\n",
      "186/186 [==============================] - 1s 7ms/step - loss: 0.7801 - categorical_accuracy: 0.6850 - val_loss: 0.8029 - val_categorical_accuracy: 0.6917\n",
      "Epoch 43/1000\n",
      "186/186 [==============================] - 2s 8ms/step - loss: 0.7786 - categorical_accuracy: 0.6854 - val_loss: 0.7995 - val_categorical_accuracy: 0.6905\n",
      "Epoch 44/1000\n",
      "186/186 [==============================] - 2s 8ms/step - loss: 0.7782 - categorical_accuracy: 0.6845 - val_loss: 0.7995 - val_categorical_accuracy: 0.6905\n",
      "Epoch 45/1000\n",
      "186/186 [==============================] - 2s 10ms/step - loss: 0.7767 - categorical_accuracy: 0.6844 - val_loss: 0.8061 - val_categorical_accuracy: 0.6891\n",
      "Epoch 46/1000\n",
      "186/186 [==============================] - 2s 10ms/step - loss: 0.7733 - categorical_accuracy: 0.6870 - val_loss: 0.8022 - val_categorical_accuracy: 0.6919\n",
      "Epoch 47/1000\n",
      "186/186 [==============================] - 2s 9ms/step - loss: 0.7736 - categorical_accuracy: 0.6890 - val_loss: 0.7976 - val_categorical_accuracy: 0.6936\n",
      "Epoch 48/1000\n",
      "186/186 [==============================] - 2s 9ms/step - loss: 0.7734 - categorical_accuracy: 0.6864 - val_loss: 0.7975 - val_categorical_accuracy: 0.6943\n",
      "Epoch 49/1000\n",
      "186/186 [==============================] - 2s 9ms/step - loss: 0.7663 - categorical_accuracy: 0.6861 - val_loss: 0.7982 - val_categorical_accuracy: 0.6935\n",
      "Epoch 50/1000\n",
      "186/186 [==============================] - 2s 10ms/step - loss: 0.7733 - categorical_accuracy: 0.6884 - val_loss: 0.7999 - val_categorical_accuracy: 0.6921\n",
      "Epoch 51/1000\n",
      "186/186 [==============================] - 2s 10ms/step - loss: 0.7669 - categorical_accuracy: 0.6886 - val_loss: 0.7989 - val_categorical_accuracy: 0.6921\n",
      "Epoch 52/1000\n",
      "186/186 [==============================] - 2s 10ms/step - loss: 0.7654 - categorical_accuracy: 0.6876 - val_loss: 0.7958 - val_categorical_accuracy: 0.6945\n",
      "Epoch 53/1000\n",
      "186/186 [==============================] - 2s 9ms/step - loss: 0.7638 - categorical_accuracy: 0.6907 - val_loss: 0.7973 - val_categorical_accuracy: 0.6935\n",
      "Epoch 54/1000\n",
      "186/186 [==============================] - 2s 8ms/step - loss: 0.7660 - categorical_accuracy: 0.6896 - val_loss: 0.7981 - val_categorical_accuracy: 0.6927\n",
      "Epoch 55/1000\n",
      "186/186 [==============================] - 1s 7ms/step - loss: 0.7605 - categorical_accuracy: 0.6903 - val_loss: 0.7970 - val_categorical_accuracy: 0.6944\n",
      "Epoch 56/1000\n",
      "186/186 [==============================] - 2s 8ms/step - loss: 0.7614 - categorical_accuracy: 0.6912 - val_loss: 0.7953 - val_categorical_accuracy: 0.6949\n",
      "Epoch 57/1000\n",
      "186/186 [==============================] - 1s 8ms/step - loss: 0.7597 - categorical_accuracy: 0.6916 - val_loss: 0.7985 - val_categorical_accuracy: 0.6958\n",
      "Epoch 58/1000\n",
      "186/186 [==============================] - 1s 7ms/step - loss: 0.7581 - categorical_accuracy: 0.6919 - val_loss: 0.7956 - val_categorical_accuracy: 0.6949\n",
      "Epoch 59/1000\n",
      "186/186 [==============================] - 1s 8ms/step - loss: 0.7536 - categorical_accuracy: 0.6917 - val_loss: 0.7979 - val_categorical_accuracy: 0.6929\n",
      "Epoch 60/1000\n",
      "186/186 [==============================] - 1s 7ms/step - loss: 0.7524 - categorical_accuracy: 0.6943 - val_loss: 0.7979 - val_categorical_accuracy: 0.6914\n",
      "Epoch 61/1000\n",
      "186/186 [==============================] - 1s 8ms/step - loss: 0.7525 - categorical_accuracy: 0.6953 - val_loss: 0.7962 - val_categorical_accuracy: 0.6948\n",
      "Epoch 62/1000\n",
      "186/186 [==============================] - 1s 8ms/step - loss: 0.7556 - categorical_accuracy: 0.6912 - val_loss: 0.7968 - val_categorical_accuracy: 0.6930\n",
      "Epoch 63/1000\n",
      "186/186 [==============================] - 1s 7ms/step - loss: 0.7505 - categorical_accuracy: 0.6952 - val_loss: 0.7948 - val_categorical_accuracy: 0.6954\n",
      "Epoch 64/1000\n",
      "186/186 [==============================] - 1s 7ms/step - loss: 0.7532 - categorical_accuracy: 0.6936 - val_loss: 0.7960 - val_categorical_accuracy: 0.6941\n",
      "Epoch 65/1000\n",
      "186/186 [==============================] - 2s 8ms/step - loss: 0.7497 - categorical_accuracy: 0.6946 - val_loss: 0.7982 - val_categorical_accuracy: 0.6946\n",
      "Epoch 66/1000\n",
      "186/186 [==============================] - 1s 7ms/step - loss: 0.7511 - categorical_accuracy: 0.6970 - val_loss: 0.7936 - val_categorical_accuracy: 0.6969\n",
      "Epoch 67/1000\n",
      "186/186 [==============================] - 1s 7ms/step - loss: 0.7482 - categorical_accuracy: 0.6941 - val_loss: 0.7949 - val_categorical_accuracy: 0.6948\n",
      "Epoch 68/1000\n",
      "186/186 [==============================] - 2s 8ms/step - loss: 0.7492 - categorical_accuracy: 0.6964 - val_loss: 0.7948 - val_categorical_accuracy: 0.6959\n",
      "Epoch 69/1000\n",
      "186/186 [==============================] - 2s 8ms/step - loss: 0.7468 - categorical_accuracy: 0.6952 - val_loss: 0.7937 - val_categorical_accuracy: 0.6954\n",
      "Epoch 70/1000\n",
      "186/186 [==============================] - 2s 10ms/step - loss: 0.7459 - categorical_accuracy: 0.6970 - val_loss: 0.7982 - val_categorical_accuracy: 0.6935\n",
      "Epoch 71/1000\n",
      "186/186 [==============================] - 2s 9ms/step - loss: 0.7457 - categorical_accuracy: 0.6974 - val_loss: 0.7923 - val_categorical_accuracy: 0.6974\n",
      "Epoch 72/1000\n",
      "186/186 [==============================] - 1s 7ms/step - loss: 0.7444 - categorical_accuracy: 0.6974 - val_loss: 0.7969 - val_categorical_accuracy: 0.6946\n",
      "Epoch 73/1000\n",
      "186/186 [==============================] - 1s 7ms/step - loss: 0.7456 - categorical_accuracy: 0.6956 - val_loss: 0.7944 - val_categorical_accuracy: 0.6951\n",
      "Epoch 74/1000\n",
      "186/186 [==============================] - 1s 7ms/step - loss: 0.7433 - categorical_accuracy: 0.6974 - val_loss: 0.7943 - val_categorical_accuracy: 0.6951\n",
      "Epoch 75/1000\n",
      "186/186 [==============================] - 1s 7ms/step - loss: 0.7398 - categorical_accuracy: 0.6984 - val_loss: 0.7926 - val_categorical_accuracy: 0.6964\n",
      "Epoch 76/1000\n",
      "186/186 [==============================] - 1s 6ms/step - loss: 0.7411 - categorical_accuracy: 0.6966 - val_loss: 0.7943 - val_categorical_accuracy: 0.6965\n",
      "Epoch 77/1000\n",
      "186/186 [==============================] - 1s 7ms/step - loss: 0.7405 - categorical_accuracy: 0.6979 - val_loss: 0.8020 - val_categorical_accuracy: 0.6917\n",
      "Epoch 78/1000\n",
      "186/186 [==============================] - 1s 7ms/step - loss: 0.7380 - categorical_accuracy: 0.7012 - val_loss: 0.7925 - val_categorical_accuracy: 0.6969\n",
      "Epoch 79/1000\n",
      "186/186 [==============================] - 1s 7ms/step - loss: 0.7438 - categorical_accuracy: 0.6960 - val_loss: 0.7942 - val_categorical_accuracy: 0.6956\n",
      "Epoch 80/1000\n",
      "186/186 [==============================] - 1s 7ms/step - loss: 0.7447 - categorical_accuracy: 0.6966 - val_loss: 0.7949 - val_categorical_accuracy: 0.6958\n",
      "Epoch 81/1000\n",
      "186/186 [==============================] - 1s 7ms/step - loss: 0.7393 - categorical_accuracy: 0.6965 - val_loss: 0.7985 - val_categorical_accuracy: 0.6920\n",
      "Epoch 82/1000\n",
      "186/186 [==============================] - 2s 11ms/step - loss: 0.7372 - categorical_accuracy: 0.6987 - val_loss: 0.7899 - val_categorical_accuracy: 0.6979\n",
      "Epoch 83/1000\n",
      "186/186 [==============================] - 2s 10ms/step - loss: 0.7387 - categorical_accuracy: 0.7000 - val_loss: 0.7944 - val_categorical_accuracy: 0.6963\n",
      "Epoch 84/1000\n",
      "186/186 [==============================] - 2s 11ms/step - loss: 0.7357 - categorical_accuracy: 0.6959 - val_loss: 0.7931 - val_categorical_accuracy: 0.6954\n",
      "Epoch 85/1000\n",
      "186/186 [==============================] - 2s 10ms/step - loss: 0.7314 - categorical_accuracy: 0.7006 - val_loss: 0.7909 - val_categorical_accuracy: 0.6969\n",
      "Epoch 86/1000\n",
      "186/186 [==============================] - 1s 7ms/step - loss: 0.7350 - categorical_accuracy: 0.6986 - val_loss: 0.7973 - val_categorical_accuracy: 0.6910\n",
      "Epoch 87/1000\n",
      "186/186 [==============================] - 1s 6ms/step - loss: 0.7305 - categorical_accuracy: 0.7020 - val_loss: 0.7929 - val_categorical_accuracy: 0.6932\n",
      "Epoch 88/1000\n",
      "186/186 [==============================] - 1s 7ms/step - loss: 0.7298 - categorical_accuracy: 0.6997 - val_loss: 0.7940 - val_categorical_accuracy: 0.6963\n",
      "Epoch 89/1000\n",
      "186/186 [==============================] - 1s 7ms/step - loss: 0.7314 - categorical_accuracy: 0.6977 - val_loss: 0.7968 - val_categorical_accuracy: 0.6922\n",
      "Epoch 90/1000\n",
      "186/186 [==============================] - 1s 7ms/step - loss: 0.7317 - categorical_accuracy: 0.6978 - val_loss: 0.7946 - val_categorical_accuracy: 0.6897\n",
      "Epoch 91/1000\n",
      "186/186 [==============================] - 1s 8ms/step - loss: 0.7296 - categorical_accuracy: 0.6985 - val_loss: 0.7946 - val_categorical_accuracy: 0.6924\n",
      "Epoch 92/1000\n",
      "186/186 [==============================] - 2s 8ms/step - loss: 0.7300 - categorical_accuracy: 0.7022 - val_loss: 0.7960 - val_categorical_accuracy: 0.6919\n",
      "Epoch 93/1000\n",
      "186/186 [==============================] - 2s 8ms/step - loss: 0.7298 - categorical_accuracy: 0.7010 - val_loss: 0.7935 - val_categorical_accuracy: 0.6917\n",
      "Epoch 94/1000\n",
      "186/186 [==============================] - 2s 8ms/step - loss: 0.7302 - categorical_accuracy: 0.6993 - val_loss: 0.7936 - val_categorical_accuracy: 0.6916\n",
      "Epoch 95/1000\n",
      "186/186 [==============================] - 1s 8ms/step - loss: 0.7250 - categorical_accuracy: 0.7012 - val_loss: 0.7928 - val_categorical_accuracy: 0.6935\n",
      "Epoch 96/1000\n",
      "186/186 [==============================] - 1s 6ms/step - loss: 0.7237 - categorical_accuracy: 0.7042 - val_loss: 0.7930 - val_categorical_accuracy: 0.6939\n",
      "Epoch 97/1000\n",
      "186/186 [==============================] - 1s 6ms/step - loss: 0.7269 - categorical_accuracy: 0.7027 - val_loss: 0.7918 - val_categorical_accuracy: 0.6934\n"
     ]
    }
   ],
   "source": [
    "history2 = model2.fit(scaled_X_train, train_label, \n",
    "                    validation_data=(scaled_X_val, val_label),\n",
    "                    batch_size=100, epochs=1000,\n",
    "                    callbacks=[callback_checkpoint, callback_earlystopping]) # 콜백 함수 추가"
   ]
  },
  {
   "cell_type": "code",
   "execution_count": 34,
   "id": "340791ea",
   "metadata": {
    "ExecuteTime": {
     "end_time": "2022-05-08T18:50:35.309762Z",
     "start_time": "2022-05-08T18:50:34.825107Z"
    }
   },
   "outputs": [
    {
     "data": {
      "image/png": "[encoded data removed]",
      "text/plain": [
       "<Figure size 432x288 with 1 Axes>"
      ]
     },
     "metadata": {
      "needs_background": "light"
     },
     "output_type": "display_data"
    }
   ],
   "source": [
    "val_loss = history2.history['val_loss']\n",
    "loss = history2.history['loss']\n",
    "\n",
    "\n",
    "x_len = np.arange(len(loss))\n",
    "plt.plot(x_len, loss, marker='.', c='blue', label=\"Train-set Loss\")\n",
    "plt.plot(x_len, val_loss, marker='.', c='red', label=\"Validation-set Loss\")\n",
    "\n",
    "plt.legend(loc='upper right')\n",
    "plt.grid()\n",
    "plt.xlabel('epoch')\n",
    "plt.ylabel('Loss')\n",
    "plt.show()"
   ]
  },
  {
   "cell_type": "markdown",
   "id": "585be6a6",
   "metadata": {},
   "source": [
    "## layer3 "
   ]
  },
  {
   "cell_type": "markdown",
   "id": "8f394e3f",
   "metadata": {},
   "source": [
    "### (32,64,16)"
   ]
  },
  {
   "cell_type": "code",
   "execution_count": 50,
   "id": "b10f2952",
   "metadata": {
    "ExecuteTime": {
     "end_time": "2022-05-08T19:03:43.812885Z",
     "start_time": "2022-05-08T19:03:43.654979Z"
    }
   },
   "outputs": [],
   "source": [
    "model3 = models.Sequential()\n",
    "\n",
    "# 1-hidden layer\n",
    "model3.add(layers.Dense(input_dim=scaled_X_train.shape[1], units=32, activation=None, kernel_initializer='he_uniform'))\n",
    "model3.add(layers.BatchNormalization())\n",
    "model3.add(layers.Activation('relu'))\n",
    "model3.add(layers.Dropout(rate=0.3))\n",
    "\n",
    "# 2-hidden layer\n",
    "model3.add(layers.Dense(units=64, activation=None, kernel_initializer='he_uniform'))\n",
    "model3.add(layers.BatchNormalization())\n",
    "model3.add(layers.Activation('relu'))\n",
    "model3.add(layers.Dropout(rate=0.3))\n",
    "\n",
    "# 3-hidden layer\n",
    "model3.add(layers.Dense(units=16, activation=None, kernel_initializer='he_uniform'))\n",
    "model3.add(layers.BatchNormalization())\n",
    "model3.add(layers.Activation('relu'))\n",
    "model3.add(layers.Dropout(rate=0.3))\n",
    "\n",
    "# Output layer\n",
    "model3.add(layers.Dense(units=3, activation='softmax'))\n",
    "model3.compile(optimizer=optimizers.Adam(), \n",
    "              loss=losses.categorical_crossentropy, \n",
    "              metrics=[metrics.categorical_accuracy])"
   ]
  },
  {
   "cell_type": "code",
   "execution_count": 51,
   "id": "d08f7338",
   "metadata": {
    "ExecuteTime": {
     "end_time": "2022-05-08T19:03:43.876089Z",
     "start_time": "2022-05-08T19:03:43.851786Z"
    }
   },
   "outputs": [
    {
     "name": "stdout",
     "output_type": "stream",
     "text": [
      "Model: \"sequential\"\n",
      "_________________________________________________________________\n",
      "Layer (type)                 Output Shape              Param #   \n",
      "=================================================================\n",
      "dense (Dense)                (None, 256)               13312     \n",
      "_________________________________________________________________\n",
      "batch_normalization (BatchNo (None, 256)               1024      \n",
      "_________________________________________________________________\n",
      "activation (Activation)      (None, 256)               0         \n",
      "_________________________________________________________________\n",
      "dropout (Dropout)            (None, 256)               0         \n",
      "_________________________________________________________________\n",
      "dense_1 (Dense)              (None, 256)               65792     \n",
      "_________________________________________________________________\n",
      "batch_normalization_1 (Batch (None, 256)               1024      \n",
      "_________________________________________________________________\n",
      "activation_1 (Activation)    (None, 256)               0         \n",
      "_________________________________________________________________\n",
      "dropout_1 (Dropout)          (None, 256)               0         \n",
      "_________________________________________________________________\n",
      "dense_2 (Dense)              (None, 3)                 771       \n",
      "=================================================================\n",
      "Total params: 81,923\n",
      "Trainable params: 80,899\n",
      "Non-trainable params: 1,024\n",
      "_________________________________________________________________\n"
     ]
    }
   ],
   "source": [
    "model.summary()"
   ]
  },
  {
   "cell_type": "code",
   "execution_count": 52,
   "id": "1823841e",
   "metadata": {
    "ExecuteTime": {
     "end_time": "2022-05-08T19:03:44.019218Z",
     "start_time": "2022-05-08T19:03:44.000229Z"
    }
   },
   "outputs": [],
   "source": [
    "checkpoint_path = 'saved_models/2layer.h5'\n",
    "\n",
    "callback_checkpoint = tf.keras.callbacks.ModelCheckpoint(filepath=checkpoint_path, \n",
    "                                                         monitor='val_loss', # default\n",
    "                                                         save_best_only=True, # \"Save\" the \"best\" model \"only\"\n",
    "                                                         verbose=0)\n",
    "\n",
    "\n",
    "callback_earlystopping = tf.keras.callbacks.EarlyStopping(monitor='val_loss',  # 모니터 기준 설정 (val loss) \n",
    "                              patience=15,         # 10회 Epoch동안 개선되지 않는다면 종료\n",
    "                             )"
   ]
  },
  {
   "cell_type": "code",
   "execution_count": 53,
   "id": "46212738",
   "metadata": {
    "ExecuteTime": {
     "end_time": "2022-05-08T19:05:05.120742Z",
     "start_time": "2022-05-08T19:03:44.149833Z"
    },
    "scrolled": true
   },
   "outputs": [
    {
     "name": "stdout",
     "output_type": "stream",
     "text": [
      "Epoch 1/1000\n",
      "186/186 [==============================] - 3s 6ms/step - loss: 1.0627 - categorical_accuracy: 0.5241 - val_loss: 0.9070 - val_categorical_accuracy: 0.6405\n",
      "Epoch 2/1000\n",
      "186/186 [==============================] - 1s 4ms/step - loss: 0.9400 - categorical_accuracy: 0.6132 - val_loss: 0.8779 - val_categorical_accuracy: 0.6451\n",
      "Epoch 3/1000\n",
      "186/186 [==============================] - 1s 4ms/step - loss: 0.9081 - categorical_accuracy: 0.6341 - val_loss: 0.8681 - val_categorical_accuracy: 0.6426\n",
      "Epoch 4/1000\n",
      "186/186 [==============================] - 1s 4ms/step - loss: 0.8940 - categorical_accuracy: 0.6400 - val_loss: 0.8630 - val_categorical_accuracy: 0.6424\n",
      "Epoch 5/1000\n",
      "186/186 [==============================] - 1s 4ms/step - loss: 0.8860 - categorical_accuracy: 0.6406 - val_loss: 0.8608 - val_categorical_accuracy: 0.6424\n",
      "Epoch 6/1000\n",
      "186/186 [==============================] - 1s 4ms/step - loss: 0.8798 - categorical_accuracy: 0.6408 - val_loss: 0.8585 - val_categorical_accuracy: 0.6424\n",
      "Epoch 7/1000\n",
      "186/186 [==============================] - 1s 4ms/step - loss: 0.8775 - categorical_accuracy: 0.6421 - val_loss: 0.8571 - val_categorical_accuracy: 0.6435\n",
      "Epoch 8/1000\n",
      "186/186 [==============================] - 1s 4ms/step - loss: 0.8732 - categorical_accuracy: 0.6462 - val_loss: 0.8547 - val_categorical_accuracy: 0.6440\n",
      "Epoch 9/1000\n",
      "186/186 [==============================] - 1s 4ms/step - loss: 0.8688 - categorical_accuracy: 0.6479 - val_loss: 0.8527 - val_categorical_accuracy: 0.6591\n",
      "Epoch 10/1000\n",
      "186/186 [==============================] - 1s 4ms/step - loss: 0.8648 - categorical_accuracy: 0.6484 - val_loss: 0.8495 - val_categorical_accuracy: 0.6578\n",
      "Epoch 11/1000\n",
      "186/186 [==============================] - 1s 4ms/step - loss: 0.8634 - categorical_accuracy: 0.6487 - val_loss: 0.8482 - val_categorical_accuracy: 0.6587\n",
      "Epoch 12/1000\n",
      "186/186 [==============================] - 1s 5ms/step - loss: 0.8617 - categorical_accuracy: 0.6499 - val_loss: 0.8460 - val_categorical_accuracy: 0.6635\n",
      "Epoch 13/1000\n",
      "186/186 [==============================] - 1s 4ms/step - loss: 0.8601 - categorical_accuracy: 0.6519 - val_loss: 0.8451 - val_categorical_accuracy: 0.6581\n",
      "Epoch 14/1000\n",
      "186/186 [==============================] - 1s 5ms/step - loss: 0.8604 - categorical_accuracy: 0.6525 - val_loss: 0.8427 - val_categorical_accuracy: 0.6725\n",
      "Epoch 15/1000\n",
      "186/186 [==============================] - 1s 8ms/step - loss: 0.8575 - categorical_accuracy: 0.6544 - val_loss: 0.8399 - val_categorical_accuracy: 0.6775\n",
      "Epoch 16/1000\n",
      "186/186 [==============================] - 1s 8ms/step - loss: 0.8555 - categorical_accuracy: 0.6552 - val_loss: 0.8387 - val_categorical_accuracy: 0.6740\n",
      "Epoch 17/1000\n",
      "186/186 [==============================] - 1s 7ms/step - loss: 0.8527 - categorical_accuracy: 0.6572 - val_loss: 0.8372 - val_categorical_accuracy: 0.6795\n",
      "Epoch 18/1000\n",
      "186/186 [==============================] - 1s 7ms/step - loss: 0.8529 - categorical_accuracy: 0.6564 - val_loss: 0.8363 - val_categorical_accuracy: 0.6793\n",
      "Epoch 19/1000\n",
      "186/186 [==============================] - 1s 7ms/step - loss: 0.8513 - categorical_accuracy: 0.6575 - val_loss: 0.8341 - val_categorical_accuracy: 0.6809\n",
      "Epoch 20/1000\n",
      "186/186 [==============================] - 1s 7ms/step - loss: 0.8531 - categorical_accuracy: 0.6559 - val_loss: 0.8341 - val_categorical_accuracy: 0.6810\n",
      "Epoch 21/1000\n",
      "186/186 [==============================] - 1s 7ms/step - loss: 0.8501 - categorical_accuracy: 0.6577 - val_loss: 0.8332 - val_categorical_accuracy: 0.6775\n",
      "Epoch 22/1000\n",
      "186/186 [==============================] - 1s 7ms/step - loss: 0.8475 - categorical_accuracy: 0.6603 - val_loss: 0.8306 - val_categorical_accuracy: 0.6838\n",
      "Epoch 23/1000\n",
      "186/186 [==============================] - 1s 7ms/step - loss: 0.8456 - categorical_accuracy: 0.6626 - val_loss: 0.8276 - val_categorical_accuracy: 0.6857\n",
      "Epoch 24/1000\n",
      "186/186 [==============================] - 1s 7ms/step - loss: 0.8446 - categorical_accuracy: 0.6644 - val_loss: 0.8267 - val_categorical_accuracy: 0.6848\n",
      "Epoch 25/1000\n",
      "186/186 [==============================] - 1s 7ms/step - loss: 0.8431 - categorical_accuracy: 0.6670 - val_loss: 0.8239 - val_categorical_accuracy: 0.6864\n",
      "Epoch 26/1000\n",
      "186/186 [==============================] - 1s 6ms/step - loss: 0.8414 - categorical_accuracy: 0.6665 - val_loss: 0.8217 - val_categorical_accuracy: 0.6881\n",
      "Epoch 27/1000\n",
      "186/186 [==============================] - 1s 7ms/step - loss: 0.8404 - categorical_accuracy: 0.6674 - val_loss: 0.8203 - val_categorical_accuracy: 0.6890\n",
      "Epoch 28/1000\n",
      "186/186 [==============================] - 1s 7ms/step - loss: 0.8383 - categorical_accuracy: 0.6715 - val_loss: 0.8188 - val_categorical_accuracy: 0.6895\n",
      "Epoch 29/1000\n",
      "186/186 [==============================] - 1s 6ms/step - loss: 0.8363 - categorical_accuracy: 0.6692 - val_loss: 0.8173 - val_categorical_accuracy: 0.6888\n",
      "Epoch 30/1000\n",
      "186/186 [==============================] - 1s 7ms/step - loss: 0.8356 - categorical_accuracy: 0.6716 - val_loss: 0.8149 - val_categorical_accuracy: 0.6885\n",
      "Epoch 31/1000\n",
      "186/186 [==============================] - 1s 7ms/step - loss: 0.8327 - categorical_accuracy: 0.6728 - val_loss: 0.8146 - val_categorical_accuracy: 0.6906\n",
      "Epoch 32/1000\n",
      "186/186 [==============================] - 1s 7ms/step - loss: 0.8300 - categorical_accuracy: 0.6753 - val_loss: 0.8128 - val_categorical_accuracy: 0.6892\n",
      "Epoch 33/1000\n",
      "186/186 [==============================] - 1s 6ms/step - loss: 0.8311 - categorical_accuracy: 0.6770 - val_loss: 0.8118 - val_categorical_accuracy: 0.6901\n",
      "Epoch 34/1000\n",
      "186/186 [==============================] - 1s 6ms/step - loss: 0.8295 - categorical_accuracy: 0.6764 - val_loss: 0.8127 - val_categorical_accuracy: 0.6893\n",
      "Epoch 35/1000\n",
      "186/186 [==============================] - 1s 6ms/step - loss: 0.8287 - categorical_accuracy: 0.6758 - val_loss: 0.8094 - val_categorical_accuracy: 0.6892\n",
      "Epoch 36/1000\n",
      "186/186 [==============================] - 1s 6ms/step - loss: 0.8257 - categorical_accuracy: 0.6798 - val_loss: 0.8100 - val_categorical_accuracy: 0.6892\n",
      "Epoch 37/1000\n",
      "186/186 [==============================] - 1s 7ms/step - loss: 0.8264 - categorical_accuracy: 0.6781 - val_loss: 0.8102 - val_categorical_accuracy: 0.6900\n",
      "Epoch 38/1000\n",
      "186/186 [==============================] - 1s 6ms/step - loss: 0.8276 - categorical_accuracy: 0.6775 - val_loss: 0.8097 - val_categorical_accuracy: 0.6900\n",
      "Epoch 39/1000\n",
      "186/186 [==============================] - 1s 7ms/step - loss: 0.8254 - categorical_accuracy: 0.6804 - val_loss: 0.8099 - val_categorical_accuracy: 0.6906\n",
      "Epoch 40/1000\n",
      "186/186 [==============================] - 1s 6ms/step - loss: 0.8238 - categorical_accuracy: 0.6794 - val_loss: 0.8087 - val_categorical_accuracy: 0.6895\n",
      "Epoch 41/1000\n",
      "186/186 [==============================] - 1s 6ms/step - loss: 0.8223 - categorical_accuracy: 0.6810 - val_loss: 0.8093 - val_categorical_accuracy: 0.6904\n",
      "Epoch 42/1000\n",
      "186/186 [==============================] - 1s 6ms/step - loss: 0.8245 - categorical_accuracy: 0.6801 - val_loss: 0.8081 - val_categorical_accuracy: 0.6910\n",
      "Epoch 43/1000\n",
      "186/186 [==============================] - 1s 6ms/step - loss: 0.8224 - categorical_accuracy: 0.6806 - val_loss: 0.8081 - val_categorical_accuracy: 0.6902\n",
      "Epoch 44/1000\n",
      "186/186 [==============================] - 1s 6ms/step - loss: 0.8237 - categorical_accuracy: 0.6809 - val_loss: 0.8068 - val_categorical_accuracy: 0.6915\n",
      "Epoch 45/1000\n",
      "186/186 [==============================] - 1s 7ms/step - loss: 0.8227 - categorical_accuracy: 0.6803 - val_loss: 0.8071 - val_categorical_accuracy: 0.6909\n",
      "Epoch 46/1000\n",
      "186/186 [==============================] - 1s 7ms/step - loss: 0.8193 - categorical_accuracy: 0.6821 - val_loss: 0.8063 - val_categorical_accuracy: 0.6909\n",
      "Epoch 47/1000\n",
      "186/186 [==============================] - 1s 6ms/step - loss: 0.8182 - categorical_accuracy: 0.6818 - val_loss: 0.8068 - val_categorical_accuracy: 0.6901\n",
      "Epoch 48/1000\n",
      "186/186 [==============================] - 1s 6ms/step - loss: 0.8197 - categorical_accuracy: 0.6814 - val_loss: 0.8055 - val_categorical_accuracy: 0.6912\n",
      "Epoch 49/1000\n",
      "186/186 [==============================] - 1s 6ms/step - loss: 0.8205 - categorical_accuracy: 0.6810 - val_loss: 0.8082 - val_categorical_accuracy: 0.6909\n",
      "Epoch 50/1000\n",
      "186/186 [==============================] - 1s 6ms/step - loss: 0.8169 - categorical_accuracy: 0.6823 - val_loss: 0.8059 - val_categorical_accuracy: 0.6909\n",
      "Epoch 51/1000\n",
      "186/186 [==============================] - 1s 6ms/step - loss: 0.8189 - categorical_accuracy: 0.6810 - val_loss: 0.8047 - val_categorical_accuracy: 0.6906\n",
      "Epoch 52/1000\n",
      "186/186 [==============================] - 1s 6ms/step - loss: 0.8182 - categorical_accuracy: 0.6819 - val_loss: 0.8045 - val_categorical_accuracy: 0.6893\n",
      "Epoch 53/1000\n",
      "186/186 [==============================] - 1s 6ms/step - loss: 0.8169 - categorical_accuracy: 0.6815 - val_loss: 0.8053 - val_categorical_accuracy: 0.6915\n",
      "Epoch 54/1000\n",
      "186/186 [==============================] - 1s 6ms/step - loss: 0.8224 - categorical_accuracy: 0.6800 - val_loss: 0.8056 - val_categorical_accuracy: 0.6901\n",
      "Epoch 55/1000\n",
      "186/186 [==============================] - 1s 6ms/step - loss: 0.8175 - categorical_accuracy: 0.6801 - val_loss: 0.8049 - val_categorical_accuracy: 0.6920\n",
      "Epoch 56/1000\n",
      "186/186 [==============================] - 1s 6ms/step - loss: 0.8192 - categorical_accuracy: 0.6816 - val_loss: 0.8071 - val_categorical_accuracy: 0.6912\n",
      "Epoch 57/1000\n",
      "186/186 [==============================] - 1s 5ms/step - loss: 0.8161 - categorical_accuracy: 0.6814 - val_loss: 0.8048 - val_categorical_accuracy: 0.6919\n",
      "Epoch 58/1000\n",
      "186/186 [==============================] - 1s 6ms/step - loss: 0.8178 - categorical_accuracy: 0.6808 - val_loss: 0.8051 - val_categorical_accuracy: 0.6919\n",
      "Epoch 59/1000\n",
      "186/186 [==============================] - 1s 6ms/step - loss: 0.8153 - categorical_accuracy: 0.6821 - val_loss: 0.8066 - val_categorical_accuracy: 0.6920\n",
      "Epoch 60/1000\n",
      "186/186 [==============================] - 1s 6ms/step - loss: 0.8163 - categorical_accuracy: 0.6823 - val_loss: 0.8049 - val_categorical_accuracy: 0.6917\n",
      "Epoch 61/1000\n",
      "186/186 [==============================] - 1s 7ms/step - loss: 0.8145 - categorical_accuracy: 0.6835 - val_loss: 0.8046 - val_categorical_accuracy: 0.6912\n",
      "Epoch 62/1000\n",
      "186/186 [==============================] - 1s 6ms/step - loss: 0.8155 - categorical_accuracy: 0.6819 - val_loss: 0.8056 - val_categorical_accuracy: 0.6916\n",
      "Epoch 63/1000\n",
      "186/186 [==============================] - 1s 5ms/step - loss: 0.8142 - categorical_accuracy: 0.6827 - val_loss: 0.8053 - val_categorical_accuracy: 0.6915\n",
      "Epoch 64/1000\n",
      "186/186 [==============================] - 1s 6ms/step - loss: 0.8163 - categorical_accuracy: 0.6821 - val_loss: 0.8055 - val_categorical_accuracy: 0.6919\n",
      "Epoch 65/1000\n",
      "186/186 [==============================] - 1s 6ms/step - loss: 0.8108 - categorical_accuracy: 0.6831 - val_loss: 0.8059 - val_categorical_accuracy: 0.6926\n",
      "Epoch 66/1000\n",
      "186/186 [==============================] - 1s 6ms/step - loss: 0.8167 - categorical_accuracy: 0.6801 - val_loss: 0.8055 - val_categorical_accuracy: 0.6920\n",
      "Epoch 67/1000\n",
      "186/186 [==============================] - 1s 6ms/step - loss: 0.8158 - categorical_accuracy: 0.6806 - val_loss: 0.8066 - val_categorical_accuracy: 0.6921\n"
     ]
    }
   ],
   "source": [
    "history3 = model3.fit(scaled_X_train, train_label, \n",
    "                    validation_data=(scaled_X_val, val_label),\n",
    "                    batch_size=100, epochs=1000,\n",
    "                    callbacks=[callback_checkpoint, callback_earlystopping]) # 콜백 함수 추가"
   ]
  },
  {
   "cell_type": "code",
   "execution_count": 54,
   "id": "ab2520e0",
   "metadata": {
    "ExecuteTime": {
     "end_time": "2022-05-08T19:05:05.677375Z",
     "start_time": "2022-05-08T19:05:05.125735Z"
    }
   },
   "outputs": [
    {
     "data": {
      "image/png": "[encoded data removed]",
      "text/plain": [
       "<Figure size 432x288 with 1 Axes>"
      ]
     },
     "metadata": {
      "needs_background": "light"
     },
     "output_type": "display_data"
    }
   ],
   "source": [
    "val_loss = history3.history['val_loss']\n",
    "loss = history3.history['loss']\n",
    "\n",
    "\n",
    "x_len = np.arange(len(loss))\n",
    "plt.plot(x_len, loss, marker='.', c='blue', label=\"Train-set Loss\")\n",
    "plt.plot(x_len, val_loss, marker='.', c='red', label=\"Validation-set Loss\")\n",
    "\n",
    "plt.legend(loc='upper right')\n",
    "plt.grid()\n",
    "plt.xlabel('epoch')\n",
    "plt.ylabel('Loss')\n",
    "plt.show()"
   ]
  },
  {
   "cell_type": "markdown",
   "id": "ae4ae278",
   "metadata": {},
   "source": [
    "### (128,64,32)"
   ]
  },
  {
   "cell_type": "code",
   "execution_count": 65,
   "id": "7627f1c1",
   "metadata": {
    "ExecuteTime": {
     "end_time": "2022-05-08T19:15:16.961493Z",
     "start_time": "2022-05-08T19:15:16.785890Z"
    }
   },
   "outputs": [],
   "source": [
    "model4 = models.Sequential()\n",
    "\n",
    "# 1-hidden layer\n",
    "model4.add(layers.Dense(input_dim=scaled_X_train.shape[1], units=128, activation=None, kernel_initializer='he_uniform'))\n",
    "model4.add(layers.BatchNormalization())\n",
    "model4.add(layers.Activation('relu'))\n",
    "model4.add(layers.Dropout(rate=0.3))\n",
    "\n",
    "# 2-hidden layer\n",
    "model4.add(layers.Dense(units=64, activation=None, kernel_initializer='he_uniform'))\n",
    "model4.add(layers.BatchNormalization())\n",
    "model4.add(layers.Activation('relu'))\n",
    "model4.add(layers.Dropout(rate=0.3))\n",
    "\n",
    "# 3-hidden layer\n",
    "model4.add(layers.Dense(units=32, activation=None, kernel_initializer='he_uniform'))\n",
    "model4.add(layers.BatchNormalization())\n",
    "model4.add(layers.Activation('relu'))\n",
    "model4.add(layers.Dropout(rate=0.3))\n",
    "\n",
    "# Output layer\n",
    "model4.add(layers.Dense(units=3, activation='softmax'))\n",
    "model4.compile(optimizer=optimizers.Adam(), \n",
    "              loss=losses.categorical_crossentropy, \n",
    "              metrics=[metrics.categorical_accuracy])"
   ]
  },
  {
   "cell_type": "code",
   "execution_count": 66,
   "id": "b471ba08",
   "metadata": {
    "ExecuteTime": {
     "end_time": "2022-05-08T19:15:17.025323Z",
     "start_time": "2022-05-08T19:15:17.002347Z"
    }
   },
   "outputs": [
    {
     "name": "stdout",
     "output_type": "stream",
     "text": [
      "Model: \"sequential_9\"\n",
      "_________________________________________________________________\n",
      "Layer (type)                 Output Shape              Param #   \n",
      "=================================================================\n",
      "dense_33 (Dense)             (None, 128)               6656      \n",
      "_________________________________________________________________\n",
      "batch_normalization_24 (Batc (None, 128)               512       \n",
      "_________________________________________________________________\n",
      "activation_24 (Activation)   (None, 128)               0         \n",
      "_________________________________________________________________\n",
      "dropout_22 (Dropout)         (None, 128)               0         \n",
      "_________________________________________________________________\n",
      "dense_34 (Dense)             (None, 64)                8256      \n",
      "_________________________________________________________________\n",
      "batch_normalization_25 (Batc (None, 64)                256       \n",
      "_________________________________________________________________\n",
      "activation_25 (Activation)   (None, 64)                0         \n",
      "_________________________________________________________________\n",
      "dropout_23 (Dropout)         (None, 64)                0         \n",
      "_________________________________________________________________\n",
      "dense_35 (Dense)             (None, 32)                2080      \n",
      "_________________________________________________________________\n",
      "batch_normalization_26 (Batc (None, 32)                128       \n",
      "_________________________________________________________________\n",
      "activation_26 (Activation)   (None, 32)                0         \n",
      "_________________________________________________________________\n",
      "dropout_24 (Dropout)         (None, 32)                0         \n",
      "_________________________________________________________________\n",
      "dense_36 (Dense)             (None, 3)                 99        \n",
      "=================================================================\n",
      "Total params: 17,987\n",
      "Trainable params: 17,539\n",
      "Non-trainable params: 448\n",
      "_________________________________________________________________\n"
     ]
    }
   ],
   "source": [
    "model4.summary()"
   ]
  },
  {
   "cell_type": "code",
   "execution_count": 67,
   "id": "f298270d",
   "metadata": {
    "ExecuteTime": {
     "end_time": "2022-05-08T19:15:17.181871Z",
     "start_time": "2022-05-08T19:15:17.174924Z"
    }
   },
   "outputs": [],
   "source": [
    "checkpoint_path = 'saved_models/3layer.h5'\n",
    "\n",
    "callback_checkpoint = tf.keras.callbacks.ModelCheckpoint(filepath=checkpoint_path, \n",
    "                                                         monitor='val_loss', # default\n",
    "                                                         save_best_only=True, # \"Save\" the \"best\" model \"only\"\n",
    "                                                         verbose=0)\n",
    "\n",
    "\n",
    "callback_earlystopping = tf.keras.callbacks.EarlyStopping(monitor='val_loss',  # 모니터 기준 설정 (val loss) \n",
    "                              patience=15,         # 10회 Epoch동안 개선되지 않는다면 종료\n",
    "                             )"
   ]
  },
  {
   "cell_type": "code",
   "execution_count": 68,
   "id": "8bf42996",
   "metadata": {
    "ExecuteTime": {
     "end_time": "2022-05-08T19:19:43.657993Z",
     "start_time": "2022-05-08T19:15:17.333966Z"
    },
    "scrolled": true
   },
   "outputs": [
    {
     "name": "stdout",
     "output_type": "stream",
     "text": [
      "Epoch 1/1000\n",
      "186/186 [==============================] - 3s 7ms/step - loss: 1.0172 - categorical_accuracy: 0.5706 - val_loss: 0.8980 - val_categorical_accuracy: 0.6474\n",
      "Epoch 2/1000\n",
      "186/186 [==============================] - 1s 6ms/step - loss: 0.9243 - categorical_accuracy: 0.6232 - val_loss: 0.8756 - val_categorical_accuracy: 0.6469\n",
      "Epoch 3/1000\n",
      "186/186 [==============================] - 1s 6ms/step - loss: 0.8946 - categorical_accuracy: 0.6355 - val_loss: 0.8659 - val_categorical_accuracy: 0.6509\n",
      "Epoch 4/1000\n",
      "186/186 [==============================] - 1s 6ms/step - loss: 0.8846 - categorical_accuracy: 0.6403 - val_loss: 0.8631 - val_categorical_accuracy: 0.6571\n",
      "Epoch 5/1000\n",
      "186/186 [==============================] - 1s 6ms/step - loss: 0.8736 - categorical_accuracy: 0.6467 - val_loss: 0.8594 - val_categorical_accuracy: 0.6601\n",
      "Epoch 6/1000\n",
      "186/186 [==============================] - 1s 6ms/step - loss: 0.8696 - categorical_accuracy: 0.6490 - val_loss: 0.8548 - val_categorical_accuracy: 0.6699\n",
      "Epoch 7/1000\n",
      "186/186 [==============================] - 1s 6ms/step - loss: 0.8653 - categorical_accuracy: 0.6464 - val_loss: 0.8505 - val_categorical_accuracy: 0.6711\n",
      "Epoch 8/1000\n",
      "186/186 [==============================] - 1s 6ms/step - loss: 0.8632 - categorical_accuracy: 0.6510 - val_loss: 0.8482 - val_categorical_accuracy: 0.6733\n",
      "Epoch 9/1000\n",
      "186/186 [==============================] - 1s 7ms/step - loss: 0.8610 - categorical_accuracy: 0.6524 - val_loss: 0.8458 - val_categorical_accuracy: 0.6800\n",
      "Epoch 10/1000\n",
      "186/186 [==============================] - 2s 9ms/step - loss: 0.8570 - categorical_accuracy: 0.6538 - val_loss: 0.8457 - val_categorical_accuracy: 0.6759\n",
      "Epoch 11/1000\n",
      "186/186 [==============================] - 2s 9ms/step - loss: 0.8569 - categorical_accuracy: 0.6562 - val_loss: 0.8410 - val_categorical_accuracy: 0.6784\n",
      "Epoch 12/1000\n",
      "186/186 [==============================] - 2s 10ms/step - loss: 0.8556 - categorical_accuracy: 0.6533 - val_loss: 0.8411 - val_categorical_accuracy: 0.6817\n",
      "Epoch 13/1000\n",
      "186/186 [==============================] - 2s 10ms/step - loss: 0.8515 - categorical_accuracy: 0.6563 - val_loss: 0.8377 - val_categorical_accuracy: 0.6833\n",
      "Epoch 14/1000\n",
      "186/186 [==============================] - 2s 10ms/step - loss: 0.8523 - categorical_accuracy: 0.6575 - val_loss: 0.8350 - val_categorical_accuracy: 0.6819\n",
      "Epoch 15/1000\n",
      "186/186 [==============================] - 2s 10ms/step - loss: 0.8476 - categorical_accuracy: 0.6588 - val_loss: 0.8348 - val_categorical_accuracy: 0.6818\n",
      "Epoch 16/1000\n",
      "186/186 [==============================] - 2s 10ms/step - loss: 0.8462 - categorical_accuracy: 0.6602 - val_loss: 0.8332 - val_categorical_accuracy: 0.6793\n",
      "Epoch 17/1000\n",
      "186/186 [==============================] - 2s 10ms/step - loss: 0.8457 - categorical_accuracy: 0.6612 - val_loss: 0.8317 - val_categorical_accuracy: 0.6814\n",
      "Epoch 18/1000\n",
      "186/186 [==============================] - 2s 10ms/step - loss: 0.8453 - categorical_accuracy: 0.6615 - val_loss: 0.8305 - val_categorical_accuracy: 0.6827\n",
      "Epoch 19/1000\n",
      "186/186 [==============================] - 2s 10ms/step - loss: 0.8415 - categorical_accuracy: 0.6652 - val_loss: 0.8290 - val_categorical_accuracy: 0.6849\n",
      "Epoch 20/1000\n",
      "186/186 [==============================] - 2s 10ms/step - loss: 0.8406 - categorical_accuracy: 0.6642 - val_loss: 0.8251 - val_categorical_accuracy: 0.6856\n",
      "Epoch 21/1000\n",
      "186/186 [==============================] - 2s 10ms/step - loss: 0.8383 - categorical_accuracy: 0.6683 - val_loss: 0.8255 - val_categorical_accuracy: 0.6814\n",
      "Epoch 22/1000\n",
      "186/186 [==============================] - 2s 10ms/step - loss: 0.8370 - categorical_accuracy: 0.6680 - val_loss: 0.8239 - val_categorical_accuracy: 0.6805\n",
      "Epoch 23/1000\n",
      "186/186 [==============================] - 2s 10ms/step - loss: 0.8364 - categorical_accuracy: 0.6688 - val_loss: 0.8230 - val_categorical_accuracy: 0.6846\n",
      "Epoch 24/1000\n",
      "186/186 [==============================] - 2s 12ms/step - loss: 0.8319 - categorical_accuracy: 0.6720 - val_loss: 0.8211 - val_categorical_accuracy: 0.6833\n",
      "Epoch 25/1000\n",
      "186/186 [==============================] - 2s 11ms/step - loss: 0.8297 - categorical_accuracy: 0.6710 - val_loss: 0.8197 - val_categorical_accuracy: 0.6857\n",
      "Epoch 26/1000\n",
      "186/186 [==============================] - 2s 10ms/step - loss: 0.8288 - categorical_accuracy: 0.6717 - val_loss: 0.8177 - val_categorical_accuracy: 0.6842\n",
      "Epoch 27/1000\n",
      "186/186 [==============================] - 2s 10ms/step - loss: 0.8270 - categorical_accuracy: 0.6749 - val_loss: 0.8164 - val_categorical_accuracy: 0.6832\n",
      "Epoch 28/1000\n",
      "186/186 [==============================] - 2s 10ms/step - loss: 0.8246 - categorical_accuracy: 0.6733 - val_loss: 0.8160 - val_categorical_accuracy: 0.6864\n",
      "Epoch 29/1000\n",
      "186/186 [==============================] - 2s 9ms/step - loss: 0.8245 - categorical_accuracy: 0.6754 - val_loss: 0.8136 - val_categorical_accuracy: 0.6848\n",
      "Epoch 30/1000\n",
      "186/186 [==============================] - 1s 8ms/step - loss: 0.8253 - categorical_accuracy: 0.6736 - val_loss: 0.8134 - val_categorical_accuracy: 0.6863\n",
      "Epoch 31/1000\n",
      "186/186 [==============================] - 2s 9ms/step - loss: 0.8216 - categorical_accuracy: 0.6769 - val_loss: 0.8123 - val_categorical_accuracy: 0.6829\n",
      "Epoch 32/1000\n",
      "186/186 [==============================] - 1s 8ms/step - loss: 0.8223 - categorical_accuracy: 0.6755 - val_loss: 0.8111 - val_categorical_accuracy: 0.6868\n",
      "Epoch 33/1000\n",
      "186/186 [==============================] - 2s 8ms/step - loss: 0.8187 - categorical_accuracy: 0.6792 - val_loss: 0.8110 - val_categorical_accuracy: 0.6881\n",
      "Epoch 34/1000\n",
      "186/186 [==============================] - 1s 8ms/step - loss: 0.8163 - categorical_accuracy: 0.6792 - val_loss: 0.8104 - val_categorical_accuracy: 0.6880\n",
      "Epoch 35/1000\n",
      "186/186 [==============================] - 2s 8ms/step - loss: 0.8157 - categorical_accuracy: 0.6781 - val_loss: 0.8091 - val_categorical_accuracy: 0.6875\n",
      "Epoch 36/1000\n",
      "186/186 [==============================] - 2s 8ms/step - loss: 0.8152 - categorical_accuracy: 0.6789 - val_loss: 0.8097 - val_categorical_accuracy: 0.6877\n",
      "Epoch 37/1000\n",
      "186/186 [==============================] - 1s 8ms/step - loss: 0.8111 - categorical_accuracy: 0.6815 - val_loss: 0.8066 - val_categorical_accuracy: 0.6891\n",
      "Epoch 38/1000\n",
      "186/186 [==============================] - 2s 8ms/step - loss: 0.8123 - categorical_accuracy: 0.6814 - val_loss: 0.8075 - val_categorical_accuracy: 0.6882\n",
      "Epoch 39/1000\n",
      "186/186 [==============================] - 2s 9ms/step - loss: 0.8062 - categorical_accuracy: 0.6812 - val_loss: 0.8059 - val_categorical_accuracy: 0.6901\n",
      "Epoch 40/1000\n",
      "186/186 [==============================] - 2s 8ms/step - loss: 0.8094 - categorical_accuracy: 0.6810 - val_loss: 0.8043 - val_categorical_accuracy: 0.6898\n",
      "Epoch 41/1000\n",
      "186/186 [==============================] - 1s 8ms/step - loss: 0.8052 - categorical_accuracy: 0.6842 - val_loss: 0.8062 - val_categorical_accuracy: 0.6895\n",
      "Epoch 42/1000\n",
      "186/186 [==============================] - 2s 9ms/step - loss: 0.8036 - categorical_accuracy: 0.6829 - val_loss: 0.8049 - val_categorical_accuracy: 0.6895\n",
      "Epoch 43/1000\n",
      "186/186 [==============================] - 2s 8ms/step - loss: 0.8057 - categorical_accuracy: 0.6833 - val_loss: 0.8043 - val_categorical_accuracy: 0.6896\n",
      "Epoch 44/1000\n",
      "186/186 [==============================] - 1s 8ms/step - loss: 0.8049 - categorical_accuracy: 0.6835 - val_loss: 0.8030 - val_categorical_accuracy: 0.6919\n",
      "Epoch 45/1000\n",
      "186/186 [==============================] - 2s 8ms/step - loss: 0.8026 - categorical_accuracy: 0.6830 - val_loss: 0.8033 - val_categorical_accuracy: 0.6897\n",
      "Epoch 46/1000\n",
      "186/186 [==============================] - 1s 8ms/step - loss: 0.8022 - categorical_accuracy: 0.6832 - val_loss: 0.8057 - val_categorical_accuracy: 0.6862\n",
      "Epoch 47/1000\n",
      "186/186 [==============================] - 2s 8ms/step - loss: 0.8013 - categorical_accuracy: 0.6858 - val_loss: 0.8018 - val_categorical_accuracy: 0.6919\n",
      "Epoch 48/1000\n",
      "186/186 [==============================] - 2s 8ms/step - loss: 0.8015 - categorical_accuracy: 0.6841 - val_loss: 0.8022 - val_categorical_accuracy: 0.6900\n",
      "Epoch 49/1000\n",
      "186/186 [==============================] - 1s 8ms/step - loss: 0.7960 - categorical_accuracy: 0.6869 - val_loss: 0.8002 - val_categorical_accuracy: 0.6910\n",
      "Epoch 50/1000\n",
      "186/186 [==============================] - 1s 8ms/step - loss: 0.8019 - categorical_accuracy: 0.6846 - val_loss: 0.7996 - val_categorical_accuracy: 0.6917\n",
      "Epoch 51/1000\n",
      "186/186 [==============================] - 1s 8ms/step - loss: 0.7951 - categorical_accuracy: 0.6861 - val_loss: 0.7998 - val_categorical_accuracy: 0.6925\n",
      "Epoch 52/1000\n",
      "186/186 [==============================] - 1s 8ms/step - loss: 0.7958 - categorical_accuracy: 0.6853 - val_loss: 0.8003 - val_categorical_accuracy: 0.6915\n",
      "Epoch 53/1000\n",
      "186/186 [==============================] - 1s 8ms/step - loss: 0.7955 - categorical_accuracy: 0.6868 - val_loss: 0.7990 - val_categorical_accuracy: 0.6929\n",
      "Epoch 54/1000\n",
      "186/186 [==============================] - 1s 8ms/step - loss: 0.7938 - categorical_accuracy: 0.6847 - val_loss: 0.7974 - val_categorical_accuracy: 0.6920\n",
      "Epoch 55/1000\n",
      "186/186 [==============================] - 2s 9ms/step - loss: 0.7925 - categorical_accuracy: 0.6858 - val_loss: 0.7977 - val_categorical_accuracy: 0.6924\n",
      "Epoch 56/1000\n",
      "186/186 [==============================] - 1s 8ms/step - loss: 0.7910 - categorical_accuracy: 0.6872 - val_loss: 0.7979 - val_categorical_accuracy: 0.6932\n",
      "Epoch 57/1000\n",
      "186/186 [==============================] - 2s 8ms/step - loss: 0.7921 - categorical_accuracy: 0.6864 - val_loss: 0.7974 - val_categorical_accuracy: 0.6922\n",
      "Epoch 58/1000\n",
      "186/186 [==============================] - 1s 7ms/step - loss: 0.7863 - categorical_accuracy: 0.6886 - val_loss: 0.7950 - val_categorical_accuracy: 0.6934\n",
      "Epoch 59/1000\n",
      "186/186 [==============================] - 1s 8ms/step - loss: 0.7904 - categorical_accuracy: 0.6873 - val_loss: 0.7966 - val_categorical_accuracy: 0.6927\n",
      "Epoch 60/1000\n",
      "186/186 [==============================] - 1s 7ms/step - loss: 0.7897 - categorical_accuracy: 0.6868 - val_loss: 0.7958 - val_categorical_accuracy: 0.6929\n",
      "Epoch 61/1000\n",
      "186/186 [==============================] - 2s 8ms/step - loss: 0.7878 - categorical_accuracy: 0.6879 - val_loss: 0.7959 - val_categorical_accuracy: 0.6938\n",
      "Epoch 62/1000\n",
      "186/186 [==============================] - 1s 8ms/step - loss: 0.7855 - categorical_accuracy: 0.6875 - val_loss: 0.7947 - val_categorical_accuracy: 0.6951\n",
      "Epoch 63/1000\n",
      "186/186 [==============================] - 1s 8ms/step - loss: 0.7843 - categorical_accuracy: 0.6864 - val_loss: 0.7941 - val_categorical_accuracy: 0.6943\n",
      "Epoch 64/1000\n",
      "186/186 [==============================] - 2s 9ms/step - loss: 0.7831 - categorical_accuracy: 0.6890 - val_loss: 0.7946 - val_categorical_accuracy: 0.6943\n",
      "Epoch 65/1000\n",
      "186/186 [==============================] - 1s 8ms/step - loss: 0.7832 - categorical_accuracy: 0.6897 - val_loss: 0.7924 - val_categorical_accuracy: 0.6939\n",
      "Epoch 66/1000\n",
      "186/186 [==============================] - 1s 7ms/step - loss: 0.7826 - categorical_accuracy: 0.6884 - val_loss: 0.7920 - val_categorical_accuracy: 0.6950\n",
      "Epoch 67/1000\n",
      "186/186 [==============================] - 2s 9ms/step - loss: 0.7805 - categorical_accuracy: 0.6890 - val_loss: 0.7927 - val_categorical_accuracy: 0.6950\n",
      "Epoch 68/1000\n",
      "186/186 [==============================] - 1s 7ms/step - loss: 0.7856 - categorical_accuracy: 0.6865 - val_loss: 0.7939 - val_categorical_accuracy: 0.6951\n",
      "Epoch 69/1000\n",
      "186/186 [==============================] - 1s 8ms/step - loss: 0.7797 - categorical_accuracy: 0.6895 - val_loss: 0.7917 - val_categorical_accuracy: 0.6959\n",
      "Epoch 70/1000\n",
      "186/186 [==============================] - 1s 8ms/step - loss: 0.7825 - categorical_accuracy: 0.6870 - val_loss: 0.7924 - val_categorical_accuracy: 0.6941\n",
      "Epoch 71/1000\n",
      "186/186 [==============================] - 1s 8ms/step - loss: 0.7796 - categorical_accuracy: 0.6888 - val_loss: 0.7926 - val_categorical_accuracy: 0.6932\n",
      "Epoch 72/1000\n",
      "186/186 [==============================] - 1s 8ms/step - loss: 0.7776 - categorical_accuracy: 0.6898 - val_loss: 0.7944 - val_categorical_accuracy: 0.6934\n",
      "Epoch 73/1000\n",
      "186/186 [==============================] - 1s 7ms/step - loss: 0.7792 - categorical_accuracy: 0.6909 - val_loss: 0.7931 - val_categorical_accuracy: 0.6939\n",
      "Epoch 74/1000\n",
      "186/186 [==============================] - 1s 8ms/step - loss: 0.7785 - categorical_accuracy: 0.6911 - val_loss: 0.7921 - val_categorical_accuracy: 0.6941\n",
      "Epoch 75/1000\n",
      "186/186 [==============================] - 1s 7ms/step - loss: 0.7760 - categorical_accuracy: 0.6895 - val_loss: 0.7915 - val_categorical_accuracy: 0.6944\n",
      "Epoch 76/1000\n",
      "186/186 [==============================] - 1s 8ms/step - loss: 0.7735 - categorical_accuracy: 0.6900 - val_loss: 0.7921 - val_categorical_accuracy: 0.6940\n",
      "Epoch 77/1000\n",
      "186/186 [==============================] - 1s 8ms/step - loss: 0.7757 - categorical_accuracy: 0.6904 - val_loss: 0.7891 - val_categorical_accuracy: 0.6964\n",
      "Epoch 78/1000\n",
      "186/186 [==============================] - 2s 8ms/step - loss: 0.7770 - categorical_accuracy: 0.6903 - val_loss: 0.7884 - val_categorical_accuracy: 0.6966\n",
      "Epoch 79/1000\n",
      "186/186 [==============================] - 1s 8ms/step - loss: 0.7774 - categorical_accuracy: 0.6893 - val_loss: 0.7901 - val_categorical_accuracy: 0.6968\n",
      "Epoch 80/1000\n",
      "186/186 [==============================] - 1s 8ms/step - loss: 0.7708 - categorical_accuracy: 0.6926 - val_loss: 0.7887 - val_categorical_accuracy: 0.6979\n",
      "Epoch 81/1000\n",
      "186/186 [==============================] - 2s 8ms/step - loss: 0.7727 - categorical_accuracy: 0.6912 - val_loss: 0.7883 - val_categorical_accuracy: 0.6982\n",
      "Epoch 82/1000\n",
      "186/186 [==============================] - 1s 8ms/step - loss: 0.7699 - categorical_accuracy: 0.6929 - val_loss: 0.7882 - val_categorical_accuracy: 0.6966\n",
      "Epoch 83/1000\n",
      "186/186 [==============================] - 1s 8ms/step - loss: 0.7691 - categorical_accuracy: 0.6917 - val_loss: 0.7893 - val_categorical_accuracy: 0.6973\n",
      "Epoch 84/1000\n",
      "186/186 [==============================] - 1s 8ms/step - loss: 0.7691 - categorical_accuracy: 0.6910 - val_loss: 0.7882 - val_categorical_accuracy: 0.6984\n",
      "Epoch 85/1000\n",
      "186/186 [==============================] - 1s 8ms/step - loss: 0.7704 - categorical_accuracy: 0.6932 - val_loss: 0.7891 - val_categorical_accuracy: 0.6964\n",
      "Epoch 86/1000\n",
      "186/186 [==============================] - 1s 7ms/step - loss: 0.7693 - categorical_accuracy: 0.6893 - val_loss: 0.7900 - val_categorical_accuracy: 0.6972\n",
      "Epoch 87/1000\n",
      "186/186 [==============================] - 1s 7ms/step - loss: 0.7679 - categorical_accuracy: 0.6938 - val_loss: 0.7911 - val_categorical_accuracy: 0.6965\n",
      "Epoch 88/1000\n",
      "186/186 [==============================] - 1s 8ms/step - loss: 0.7690 - categorical_accuracy: 0.6916 - val_loss: 0.7885 - val_categorical_accuracy: 0.6968\n",
      "Epoch 89/1000\n",
      "186/186 [==============================] - 2s 8ms/step - loss: 0.7661 - categorical_accuracy: 0.6930 - val_loss: 0.7876 - val_categorical_accuracy: 0.6978\n",
      "Epoch 90/1000\n",
      "186/186 [==============================] - 1s 8ms/step - loss: 0.7676 - categorical_accuracy: 0.6917 - val_loss: 0.7885 - val_categorical_accuracy: 0.6973\n",
      "Epoch 91/1000\n",
      "186/186 [==============================] - 2s 8ms/step - loss: 0.7681 - categorical_accuracy: 0.6920 - val_loss: 0.7873 - val_categorical_accuracy: 0.6978\n",
      "Epoch 92/1000\n",
      "186/186 [==============================] - 1s 7ms/step - loss: 0.7681 - categorical_accuracy: 0.6933 - val_loss: 0.7880 - val_categorical_accuracy: 0.6984\n",
      "Epoch 93/1000\n",
      "186/186 [==============================] - 1s 8ms/step - loss: 0.7666 - categorical_accuracy: 0.6917 - val_loss: 0.7884 - val_categorical_accuracy: 0.6975\n",
      "Epoch 94/1000\n",
      "186/186 [==============================] - 1s 8ms/step - loss: 0.7644 - categorical_accuracy: 0.6915 - val_loss: 0.7898 - val_categorical_accuracy: 0.6983\n",
      "Epoch 95/1000\n",
      "186/186 [==============================] - 2s 9ms/step - loss: 0.7620 - categorical_accuracy: 0.6938 - val_loss: 0.7871 - val_categorical_accuracy: 0.6990\n",
      "Epoch 96/1000\n",
      "186/186 [==============================] - 1s 8ms/step - loss: 0.7637 - categorical_accuracy: 0.6933 - val_loss: 0.7859 - val_categorical_accuracy: 0.6992\n",
      "Epoch 97/1000\n",
      "186/186 [==============================] - 1s 8ms/step - loss: 0.7634 - categorical_accuracy: 0.6956 - val_loss: 0.7864 - val_categorical_accuracy: 0.6984\n",
      "Epoch 98/1000\n",
      "186/186 [==============================] - 1s 8ms/step - loss: 0.7580 - categorical_accuracy: 0.6953 - val_loss: 0.7857 - val_categorical_accuracy: 0.6969\n",
      "Epoch 99/1000\n",
      "186/186 [==============================] - 1s 8ms/step - loss: 0.7606 - categorical_accuracy: 0.6939 - val_loss: 0.7854 - val_categorical_accuracy: 0.6995\n",
      "Epoch 100/1000\n",
      "186/186 [==============================] - 1s 8ms/step - loss: 0.7618 - categorical_accuracy: 0.6936 - val_loss: 0.7887 - val_categorical_accuracy: 0.6983\n",
      "Epoch 101/1000\n",
      "186/186 [==============================] - 1s 8ms/step - loss: 0.7600 - categorical_accuracy: 0.6958 - val_loss: 0.7864 - val_categorical_accuracy: 0.6968\n",
      "Epoch 102/1000\n",
      "186/186 [==============================] - 2s 8ms/step - loss: 0.7632 - categorical_accuracy: 0.6927 - val_loss: 0.7868 - val_categorical_accuracy: 0.6974\n",
      "Epoch 103/1000\n",
      "186/186 [==============================] - 2s 8ms/step - loss: 0.7603 - categorical_accuracy: 0.6959 - val_loss: 0.7868 - val_categorical_accuracy: 0.6983\n",
      "Epoch 104/1000\n",
      "186/186 [==============================] - 1s 8ms/step - loss: 0.7615 - categorical_accuracy: 0.6918 - val_loss: 0.7877 - val_categorical_accuracy: 0.6963\n",
      "Epoch 105/1000\n",
      "186/186 [==============================] - 1s 7ms/step - loss: 0.7588 - categorical_accuracy: 0.6934 - val_loss: 0.7862 - val_categorical_accuracy: 0.6966\n",
      "Epoch 106/1000\n",
      "186/186 [==============================] - 1s 8ms/step - loss: 0.7588 - categorical_accuracy: 0.6947 - val_loss: 0.7866 - val_categorical_accuracy: 0.6980\n",
      "Epoch 107/1000\n",
      "186/186 [==============================] - 1s 8ms/step - loss: 0.7532 - categorical_accuracy: 0.6956 - val_loss: 0.7869 - val_categorical_accuracy: 0.6993\n",
      "Epoch 108/1000\n",
      "186/186 [==============================] - 2s 8ms/step - loss: 0.7577 - categorical_accuracy: 0.6951 - val_loss: 0.7846 - val_categorical_accuracy: 0.6990\n",
      "Epoch 109/1000\n",
      "186/186 [==============================] - 2s 8ms/step - loss: 0.7590 - categorical_accuracy: 0.6931 - val_loss: 0.7866 - val_categorical_accuracy: 0.6985\n",
      "Epoch 110/1000\n",
      "186/186 [==============================] - 2s 8ms/step - loss: 0.7549 - categorical_accuracy: 0.6954 - val_loss: 0.7850 - val_categorical_accuracy: 0.6972\n",
      "Epoch 111/1000\n",
      "186/186 [==============================] - 1s 7ms/step - loss: 0.7561 - categorical_accuracy: 0.6956 - val_loss: 0.7854 - val_categorical_accuracy: 0.6988\n",
      "Epoch 112/1000\n",
      "186/186 [==============================] - 2s 8ms/step - loss: 0.7560 - categorical_accuracy: 0.6953 - val_loss: 0.7846 - val_categorical_accuracy: 0.6966\n",
      "Epoch 113/1000\n",
      "186/186 [==============================] - 1s 7ms/step - loss: 0.7522 - categorical_accuracy: 0.6971 - val_loss: 0.7841 - val_categorical_accuracy: 0.6993\n",
      "Epoch 114/1000\n",
      "186/186 [==============================] - 1s 8ms/step - loss: 0.7562 - categorical_accuracy: 0.6952 - val_loss: 0.7853 - val_categorical_accuracy: 0.6975\n",
      "Epoch 115/1000\n",
      "186/186 [==============================] - 2s 12ms/step - loss: 0.7532 - categorical_accuracy: 0.6964 - val_loss: 0.7856 - val_categorical_accuracy: 0.6968\n",
      "Epoch 116/1000\n",
      "186/186 [==============================] - 2s 13ms/step - loss: 0.7529 - categorical_accuracy: 0.6959 - val_loss: 0.7875 - val_categorical_accuracy: 0.6956\n",
      "Epoch 117/1000\n",
      "186/186 [==============================] - 3s 17ms/step - loss: 0.7566 - categorical_accuracy: 0.6952 - val_loss: 0.7865 - val_categorical_accuracy: 0.6946\n",
      "Epoch 118/1000\n",
      "186/186 [==============================] - 2s 9ms/step - loss: 0.7505 - categorical_accuracy: 0.6977 - val_loss: 0.7866 - val_categorical_accuracy: 0.6958\n",
      "Epoch 119/1000\n",
      "186/186 [==============================] - 2s 9ms/step - loss: 0.7505 - categorical_accuracy: 0.6969 - val_loss: 0.7875 - val_categorical_accuracy: 0.6980\n",
      "Epoch 120/1000\n",
      "186/186 [==============================] - 2s 9ms/step - loss: 0.7553 - categorical_accuracy: 0.6979 - val_loss: 0.7849 - val_categorical_accuracy: 0.7002\n",
      "Epoch 121/1000\n",
      "186/186 [==============================] - 2s 8ms/step - loss: 0.7540 - categorical_accuracy: 0.6955 - val_loss: 0.7859 - val_categorical_accuracy: 0.6969\n",
      "Epoch 122/1000\n",
      "186/186 [==============================] - 2s 9ms/step - loss: 0.7516 - categorical_accuracy: 0.6972 - val_loss: 0.7863 - val_categorical_accuracy: 0.6964\n",
      "Epoch 123/1000\n",
      "186/186 [==============================] - 2s 11ms/step - loss: 0.7487 - categorical_accuracy: 0.6994 - val_loss: 0.7823 - val_categorical_accuracy: 0.6969\n",
      "Epoch 124/1000\n",
      "186/186 [==============================] - 2s 10ms/step - loss: 0.7459 - categorical_accuracy: 0.6978 - val_loss: 0.7831 - val_categorical_accuracy: 0.6977\n",
      "Epoch 125/1000\n",
      "186/186 [==============================] - 2s 10ms/step - loss: 0.7498 - categorical_accuracy: 0.6980 - val_loss: 0.7833 - val_categorical_accuracy: 0.6966\n",
      "Epoch 126/1000\n",
      "186/186 [==============================] - 2s 9ms/step - loss: 0.7492 - categorical_accuracy: 0.6981 - val_loss: 0.7827 - val_categorical_accuracy: 0.6948\n",
      "Epoch 127/1000\n",
      "186/186 [==============================] - 2s 9ms/step - loss: 0.7499 - categorical_accuracy: 0.6977 - val_loss: 0.7835 - val_categorical_accuracy: 0.6987\n",
      "Epoch 128/1000\n",
      "186/186 [==============================] - 2s 9ms/step - loss: 0.7463 - categorical_accuracy: 0.6972 - val_loss: 0.7839 - val_categorical_accuracy: 0.6965\n",
      "Epoch 129/1000\n",
      "186/186 [==============================] - 2s 9ms/step - loss: 0.7461 - categorical_accuracy: 0.6970 - val_loss: 0.7831 - val_categorical_accuracy: 0.6990\n",
      "Epoch 130/1000\n",
      "186/186 [==============================] - 2s 10ms/step - loss: 0.7494 - categorical_accuracy: 0.6969 - val_loss: 0.7800 - val_categorical_accuracy: 0.7003\n",
      "Epoch 131/1000\n",
      "186/186 [==============================] - 2s 9ms/step - loss: 0.7512 - categorical_accuracy: 0.6964 - val_loss: 0.7823 - val_categorical_accuracy: 0.6983\n",
      "Epoch 132/1000\n",
      "186/186 [==============================] - 2s 9ms/step - loss: 0.7481 - categorical_accuracy: 0.6990 - val_loss: 0.7835 - val_categorical_accuracy: 0.6982\n",
      "Epoch 133/1000\n",
      "186/186 [==============================] - 2s 9ms/step - loss: 0.7482 - categorical_accuracy: 0.6973 - val_loss: 0.7824 - val_categorical_accuracy: 0.6982\n",
      "Epoch 134/1000\n",
      "186/186 [==============================] - 2s 9ms/step - loss: 0.7465 - categorical_accuracy: 0.6967 - val_loss: 0.7845 - val_categorical_accuracy: 0.6977\n",
      "Epoch 135/1000\n",
      "186/186 [==============================] - 2s 9ms/step - loss: 0.7445 - categorical_accuracy: 0.6998 - val_loss: 0.7821 - val_categorical_accuracy: 0.6995\n",
      "Epoch 136/1000\n",
      "186/186 [==============================] - 2s 9ms/step - loss: 0.7428 - categorical_accuracy: 0.7008 - val_loss: 0.7799 - val_categorical_accuracy: 0.6997\n",
      "Epoch 137/1000\n",
      "186/186 [==============================] - 2s 10ms/step - loss: 0.7497 - categorical_accuracy: 0.6958 - val_loss: 0.7818 - val_categorical_accuracy: 0.6982\n",
      "Epoch 138/1000\n",
      "186/186 [==============================] - 2s 10ms/step - loss: 0.7486 - categorical_accuracy: 0.6959 - val_loss: 0.7833 - val_categorical_accuracy: 0.6978\n",
      "Epoch 139/1000\n",
      "186/186 [==============================] - 2s 9ms/step - loss: 0.7449 - categorical_accuracy: 0.6987 - val_loss: 0.7831 - val_categorical_accuracy: 0.6968\n",
      "Epoch 140/1000\n",
      "186/186 [==============================] - 2s 9ms/step - loss: 0.7423 - categorical_accuracy: 0.6993 - val_loss: 0.7831 - val_categorical_accuracy: 0.6965\n",
      "Epoch 141/1000\n",
      "186/186 [==============================] - 2s 9ms/step - loss: 0.7462 - categorical_accuracy: 0.6983 - val_loss: 0.7819 - val_categorical_accuracy: 0.6960\n",
      "Epoch 142/1000\n",
      "186/186 [==============================] - 2s 10ms/step - loss: 0.7464 - categorical_accuracy: 0.6977 - val_loss: 0.7803 - val_categorical_accuracy: 0.6993\n",
      "Epoch 143/1000\n",
      "186/186 [==============================] - 2s 9ms/step - loss: 0.7424 - categorical_accuracy: 0.7007 - val_loss: 0.7813 - val_categorical_accuracy: 0.6975\n",
      "Epoch 144/1000\n",
      "186/186 [==============================] - 2s 9ms/step - loss: 0.7427 - categorical_accuracy: 0.7008 - val_loss: 0.7822 - val_categorical_accuracy: 0.6995\n",
      "Epoch 145/1000\n",
      "186/186 [==============================] - 2s 9ms/step - loss: 0.7431 - categorical_accuracy: 0.6984 - val_loss: 0.7835 - val_categorical_accuracy: 0.7003\n",
      "Epoch 146/1000\n",
      "186/186 [==============================] - 2s 9ms/step - loss: 0.7472 - categorical_accuracy: 0.6981 - val_loss: 0.7812 - val_categorical_accuracy: 0.6969\n",
      "Epoch 147/1000\n",
      "186/186 [==============================] - 2s 9ms/step - loss: 0.7473 - categorical_accuracy: 0.6985 - val_loss: 0.7785 - val_categorical_accuracy: 0.6964\n",
      "Epoch 148/1000\n",
      "186/186 [==============================] - 2s 9ms/step - loss: 0.7401 - categorical_accuracy: 0.6993 - val_loss: 0.7798 - val_categorical_accuracy: 0.6992\n",
      "Epoch 149/1000\n",
      "186/186 [==============================] - 2s 9ms/step - loss: 0.7417 - categorical_accuracy: 0.6981 - val_loss: 0.7827 - val_categorical_accuracy: 0.6999\n",
      "Epoch 150/1000\n",
      "186/186 [==============================] - 2s 9ms/step - loss: 0.7388 - categorical_accuracy: 0.7018 - val_loss: 0.7812 - val_categorical_accuracy: 0.7007\n",
      "Epoch 151/1000\n",
      "186/186 [==============================] - 2s 9ms/step - loss: 0.7434 - categorical_accuracy: 0.6991 - val_loss: 0.7815 - val_categorical_accuracy: 0.7014\n",
      "Epoch 152/1000\n",
      "186/186 [==============================] - 2s 9ms/step - loss: 0.7419 - categorical_accuracy: 0.6980 - val_loss: 0.7798 - val_categorical_accuracy: 0.7003\n",
      "Epoch 153/1000\n",
      "186/186 [==============================] - 2s 9ms/step - loss: 0.7442 - categorical_accuracy: 0.6986 - val_loss: 0.7806 - val_categorical_accuracy: 0.6988\n",
      "Epoch 154/1000\n",
      "186/186 [==============================] - 2s 9ms/step - loss: 0.7389 - categorical_accuracy: 0.7011 - val_loss: 0.7813 - val_categorical_accuracy: 0.6985\n",
      "Epoch 155/1000\n",
      "186/186 [==============================] - 2s 9ms/step - loss: 0.7428 - categorical_accuracy: 0.6997 - val_loss: 0.7811 - val_categorical_accuracy: 0.6989\n",
      "Epoch 156/1000\n",
      "186/186 [==============================] - 2s 9ms/step - loss: 0.7394 - categorical_accuracy: 0.7024 - val_loss: 0.7809 - val_categorical_accuracy: 0.7001\n",
      "Epoch 157/1000\n",
      "186/186 [==============================] - 2s 9ms/step - loss: 0.7396 - categorical_accuracy: 0.7011 - val_loss: 0.7812 - val_categorical_accuracy: 0.6973\n",
      "Epoch 158/1000\n",
      "186/186 [==============================] - 2s 9ms/step - loss: 0.7396 - categorical_accuracy: 0.6998 - val_loss: 0.7804 - val_categorical_accuracy: 0.6982\n",
      "Epoch 159/1000\n",
      "186/186 [==============================] - 2s 8ms/step - loss: 0.7342 - categorical_accuracy: 0.7044 - val_loss: 0.7809 - val_categorical_accuracy: 0.6995\n",
      "Epoch 160/1000\n",
      "186/186 [==============================] - 2s 9ms/step - loss: 0.7381 - categorical_accuracy: 0.7005 - val_loss: 0.7829 - val_categorical_accuracy: 0.6982\n",
      "Epoch 161/1000\n",
      "186/186 [==============================] - 2s 9ms/step - loss: 0.7367 - categorical_accuracy: 0.7034 - val_loss: 0.7806 - val_categorical_accuracy: 0.6965\n",
      "Epoch 162/1000\n",
      "186/186 [==============================] - 2s 9ms/step - loss: 0.7368 - categorical_accuracy: 0.7008 - val_loss: 0.7797 - val_categorical_accuracy: 0.6997\n"
     ]
    }
   ],
   "source": [
    "history4 = model4.fit(scaled_X_train, train_label, \n",
    "                    validation_data=(scaled_X_val, val_label),\n",
    "                    batch_size=100, epochs=1000,\n",
    "                    callbacks=[callback_checkpoint, callback_earlystopping]) # 콜백 함수 추가"
   ]
  },
  {
   "cell_type": "code",
   "execution_count": 69,
   "id": "1e34fb00",
   "metadata": {
    "ExecuteTime": {
     "end_time": "2022-05-08T19:19:44.304221Z",
     "start_time": "2022-05-08T19:19:43.663938Z"
    }
   },
   "outputs": [
    {
     "data": {
      "image/png": "[encoded data removed]",
      "text/plain": [
       "<Figure size 432x288 with 1 Axes>"
      ]
     },
     "metadata": {
      "needs_background": "light"
     },
     "output_type": "display_data"
    }
   ],
   "source": [
    "val_loss = history4.history['val_loss']\n",
    "loss = history4.history['loss']\n",
    "\n",
    "\n",
    "x_len = np.arange(len(loss))\n",
    "plt.plot(x_len, loss, marker='.', c='blue', label=\"Train-set Loss\")\n",
    "plt.plot(x_len, val_loss, marker='.', c='red', label=\"Validation-set Loss\")\n",
    "\n",
    "plt.legend(loc='upper right')\n",
    "plt.grid()\n",
    "plt.xlabel('epoch')\n",
    "plt.ylabel('Loss')\n",
    "plt.show()"
   ]
  },
  {
   "cell_type": "markdown",
   "id": "eaade067",
   "metadata": {},
   "source": [
    "### (128,64,64)"
   ]
  },
  {
   "cell_type": "code",
   "execution_count": 70,
   "id": "417f0357",
   "metadata": {
    "ExecuteTime": {
     "end_time": "2022-05-08T19:23:00.990171Z",
     "start_time": "2022-05-08T19:23:00.802638Z"
    }
   },
   "outputs": [],
   "source": [
    "model5 = models.Sequential()\n",
    "\n",
    "# 1-hidden layer\n",
    "model5.add(layers.Dense(input_dim=scaled_X_train.shape[1], units=128, activation=None, kernel_initializer='he_uniform'))\n",
    "model5.add(layers.BatchNormalization())\n",
    "model5.add(layers.Activation('relu'))\n",
    "model5.add(layers.Dropout(rate=0.3))\n",
    "\n",
    "# 2-hidden layer\n",
    "model5.add(layers.Dense(units=64, activation=None, kernel_initializer='he_uniform'))\n",
    "model5.add(layers.BatchNormalization())\n",
    "model5.add(layers.Activation('relu'))\n",
    "model5.add(layers.Dropout(rate=0.3))\n",
    "\n",
    "# 3-hidden layer\n",
    "model5.add(layers.Dense(units=64, activation=None, kernel_initializer='he_uniform'))\n",
    "model5.add(layers.BatchNormalization())\n",
    "model5.add(layers.Activation('relu'))\n",
    "model5.add(layers.Dropout(rate=0.3))\n",
    "\n",
    "# Output layer\n",
    "model5.add(layers.Dense(units=3, activation='softmax'))\n",
    "model5.compile(optimizer=optimizers.Adam(), \n",
    "              loss=losses.categorical_crossentropy, \n",
    "              metrics=[metrics.categorical_accuracy])"
   ]
  },
  {
   "cell_type": "code",
   "execution_count": 71,
   "id": "702f51b9",
   "metadata": {
    "ExecuteTime": {
     "end_time": "2022-05-08T19:23:01.807903Z",
     "start_time": "2022-05-08T19:23:01.787536Z"
    }
   },
   "outputs": [
    {
     "name": "stdout",
     "output_type": "stream",
     "text": [
      "Model: \"sequential_10\"\n",
      "_________________________________________________________________\n",
      "Layer (type)                 Output Shape              Param #   \n",
      "=================================================================\n",
      "dense_37 (Dense)             (None, 128)               6656      \n",
      "_________________________________________________________________\n",
      "batch_normalization_27 (Batc (None, 128)               512       \n",
      "_________________________________________________________________\n",
      "activation_27 (Activation)   (None, 128)               0         \n",
      "_________________________________________________________________\n",
      "dropout_25 (Dropout)         (None, 128)               0         \n",
      "_________________________________________________________________\n",
      "dense_38 (Dense)             (None, 64)                8256      \n",
      "_________________________________________________________________\n",
      "batch_normalization_28 (Batc (None, 64)                256       \n",
      "_________________________________________________________________\n",
      "activation_28 (Activation)   (None, 64)                0         \n",
      "_________________________________________________________________\n",
      "dropout_26 (Dropout)         (None, 64)                0         \n",
      "_________________________________________________________________\n",
      "dense_39 (Dense)             (None, 64)                4160      \n",
      "_________________________________________________________________\n",
      "batch_normalization_29 (Batc (None, 64)                256       \n",
      "_________________________________________________________________\n",
      "activation_29 (Activation)   (None, 64)                0         \n",
      "_________________________________________________________________\n",
      "dropout_27 (Dropout)         (None, 64)                0         \n",
      "_________________________________________________________________\n",
      "dense_40 (Dense)             (None, 3)                 195       \n",
      "=================================================================\n",
      "Total params: 20,291\n",
      "Trainable params: 19,779\n",
      "Non-trainable params: 512\n",
      "_________________________________________________________________\n"
     ]
    }
   ],
   "source": [
    "model5.summary()"
   ]
  },
  {
   "cell_type": "code",
   "execution_count": 72,
   "id": "a2b07525",
   "metadata": {
    "ExecuteTime": {
     "end_time": "2022-05-08T19:23:02.010579Z",
     "start_time": "2022-05-08T19:23:01.996403Z"
    }
   },
   "outputs": [],
   "source": [
    "checkpoint_path = 'saved_models/3layer2.h5'\n",
    "\n",
    "callback_checkpoint = tf.keras.callbacks.ModelCheckpoint(filepath=checkpoint_path, \n",
    "                                                         monitor='val_loss', # default\n",
    "                                                         save_best_only=True, # \"Save\" the \"best\" model \"only\"\n",
    "                                                         verbose=0)\n",
    "\n",
    "\n",
    "callback_earlystopping = tf.keras.callbacks.EarlyStopping(monitor='val_loss',  # 모니터 기준 설정 (val loss) \n",
    "                              patience=15,         # 10회 Epoch동안 개선되지 않는다면 종료\n",
    "                             )"
   ]
  },
  {
   "cell_type": "code",
   "execution_count": 73,
   "id": "5d0e5249",
   "metadata": {
    "ExecuteTime": {
     "end_time": "2022-05-08T19:27:27.638732Z",
     "start_time": "2022-05-08T19:23:02.215950Z"
    },
    "scrolled": true
   },
   "outputs": [
    {
     "name": "stdout",
     "output_type": "stream",
     "text": [
      "Epoch 1/1000\n",
      "186/186 [==============================] - 3s 10ms/step - loss: 1.0115 - categorical_accuracy: 0.5690 - val_loss: 0.8910 - val_categorical_accuracy: 0.6426\n",
      "Epoch 2/1000\n",
      "186/186 [==============================] - 2s 13ms/step - loss: 0.9248 - categorical_accuracy: 0.6267 - val_loss: 0.8697 - val_categorical_accuracy: 0.6466\n",
      "Epoch 3/1000\n",
      "186/186 [==============================] - 2s 10ms/step - loss: 0.8931 - categorical_accuracy: 0.6378 - val_loss: 0.8621 - val_categorical_accuracy: 0.6581\n",
      "Epoch 4/1000\n",
      "186/186 [==============================] - 2s 10ms/step - loss: 0.8825 - categorical_accuracy: 0.6429 - val_loss: 0.8646 - val_categorical_accuracy: 0.6631\n",
      "Epoch 5/1000\n",
      "186/186 [==============================] - 2s 11ms/step - loss: 0.8725 - categorical_accuracy: 0.6482 - val_loss: 0.8645 - val_categorical_accuracy: 0.6692\n",
      "Epoch 6/1000\n",
      "186/186 [==============================] - 2s 10ms/step - loss: 0.8679 - categorical_accuracy: 0.6495 - val_loss: 0.8549 - val_categorical_accuracy: 0.6738\n",
      "Epoch 7/1000\n",
      "186/186 [==============================] - 2s 10ms/step - loss: 0.8637 - categorical_accuracy: 0.6528 - val_loss: 0.8490 - val_categorical_accuracy: 0.6779\n",
      "Epoch 8/1000\n",
      "186/186 [==============================] - 2s 10ms/step - loss: 0.8600 - categorical_accuracy: 0.6549 - val_loss: 0.8475 - val_categorical_accuracy: 0.6789\n",
      "Epoch 9/1000\n",
      "186/186 [==============================] - 2s 10ms/step - loss: 0.8576 - categorical_accuracy: 0.6541 - val_loss: 0.8444 - val_categorical_accuracy: 0.6810\n",
      "Epoch 10/1000\n",
      "186/186 [==============================] - 2s 11ms/step - loss: 0.8555 - categorical_accuracy: 0.6571 - val_loss: 0.8438 - val_categorical_accuracy: 0.6812\n",
      "Epoch 11/1000\n",
      "186/186 [==============================] - 2s 10ms/step - loss: 0.8523 - categorical_accuracy: 0.6592 - val_loss: 0.8384 - val_categorical_accuracy: 0.6817\n",
      "Epoch 12/1000\n",
      "186/186 [==============================] - 2s 11ms/step - loss: 0.8515 - categorical_accuracy: 0.6560 - val_loss: 0.8405 - val_categorical_accuracy: 0.6813\n",
      "Epoch 13/1000\n",
      "186/186 [==============================] - 2s 10ms/step - loss: 0.8489 - categorical_accuracy: 0.6598 - val_loss: 0.8350 - val_categorical_accuracy: 0.6823\n",
      "Epoch 14/1000\n",
      "186/186 [==============================] - 2s 12ms/step - loss: 0.8480 - categorical_accuracy: 0.6598 - val_loss: 0.8328 - val_categorical_accuracy: 0.6843\n",
      "Epoch 15/1000\n",
      "186/186 [==============================] - 2s 11ms/step - loss: 0.8481 - categorical_accuracy: 0.6599 - val_loss: 0.8323 - val_categorical_accuracy: 0.6827\n",
      "Epoch 16/1000\n",
      "186/186 [==============================] - 2s 10ms/step - loss: 0.8429 - categorical_accuracy: 0.6620 - val_loss: 0.8298 - val_categorical_accuracy: 0.6847\n",
      "Epoch 17/1000\n",
      "186/186 [==============================] - 2s 10ms/step - loss: 0.8424 - categorical_accuracy: 0.6633 - val_loss: 0.8308 - val_categorical_accuracy: 0.6857\n",
      "Epoch 18/1000\n",
      "186/186 [==============================] - 2s 10ms/step - loss: 0.8414 - categorical_accuracy: 0.6643 - val_loss: 0.8291 - val_categorical_accuracy: 0.6832\n",
      "Epoch 19/1000\n",
      "186/186 [==============================] - 2s 10ms/step - loss: 0.8407 - categorical_accuracy: 0.6638 - val_loss: 0.8264 - val_categorical_accuracy: 0.6832\n",
      "Epoch 20/1000\n",
      "186/186 [==============================] - 2s 10ms/step - loss: 0.8352 - categorical_accuracy: 0.6683 - val_loss: 0.8273 - val_categorical_accuracy: 0.6823\n",
      "Epoch 21/1000\n",
      "186/186 [==============================] - 2s 10ms/step - loss: 0.8362 - categorical_accuracy: 0.6696 - val_loss: 0.8265 - val_categorical_accuracy: 0.6827\n",
      "Epoch 22/1000\n",
      "186/186 [==============================] - 2s 10ms/step - loss: 0.8338 - categorical_accuracy: 0.6702 - val_loss: 0.8251 - val_categorical_accuracy: 0.6846\n",
      "Epoch 23/1000\n",
      "186/186 [==============================] - 2s 10ms/step - loss: 0.8314 - categorical_accuracy: 0.6710 - val_loss: 0.8216 - val_categorical_accuracy: 0.6824\n",
      "Epoch 24/1000\n",
      "186/186 [==============================] - 2s 9ms/step - loss: 0.8308 - categorical_accuracy: 0.6700 - val_loss: 0.8184 - val_categorical_accuracy: 0.6857\n",
      "Epoch 25/1000\n",
      "186/186 [==============================] - 2s 10ms/step - loss: 0.8259 - categorical_accuracy: 0.6742 - val_loss: 0.8203 - val_categorical_accuracy: 0.6849\n",
      "Epoch 26/1000\n",
      "186/186 [==============================] - 2s 11ms/step - loss: 0.8263 - categorical_accuracy: 0.6727 - val_loss: 0.8157 - val_categorical_accuracy: 0.6875\n",
      "Epoch 27/1000\n",
      "186/186 [==============================] - 2s 10ms/step - loss: 0.8271 - categorical_accuracy: 0.6721 - val_loss: 0.8168 - val_categorical_accuracy: 0.6877\n",
      "Epoch 28/1000\n",
      "186/186 [==============================] - 2s 12ms/step - loss: 0.8213 - categorical_accuracy: 0.6765 - val_loss: 0.8152 - val_categorical_accuracy: 0.6848\n",
      "Epoch 29/1000\n",
      "186/186 [==============================] - 2s 10ms/step - loss: 0.8189 - categorical_accuracy: 0.6761 - val_loss: 0.8146 - val_categorical_accuracy: 0.6876\n",
      "Epoch 30/1000\n",
      "186/186 [==============================] - 2s 10ms/step - loss: 0.8176 - categorical_accuracy: 0.6770 - val_loss: 0.8147 - val_categorical_accuracy: 0.6853\n",
      "Epoch 31/1000\n",
      "186/186 [==============================] - 2s 10ms/step - loss: 0.8146 - categorical_accuracy: 0.6784 - val_loss: 0.8098 - val_categorical_accuracy: 0.6867\n",
      "Epoch 32/1000\n",
      "186/186 [==============================] - 2s 12ms/step - loss: 0.8157 - categorical_accuracy: 0.6787 - val_loss: 0.8111 - val_categorical_accuracy: 0.6880\n",
      "Epoch 33/1000\n",
      "186/186 [==============================] - 2s 10ms/step - loss: 0.8142 - categorical_accuracy: 0.6797 - val_loss: 0.8126 - val_categorical_accuracy: 0.6872\n",
      "Epoch 34/1000\n",
      "186/186 [==============================] - 2s 10ms/step - loss: 0.8099 - categorical_accuracy: 0.6816 - val_loss: 0.8096 - val_categorical_accuracy: 0.6876\n",
      "Epoch 35/1000\n",
      "186/186 [==============================] - 2s 11ms/step - loss: 0.8128 - categorical_accuracy: 0.6792 - val_loss: 0.8074 - val_categorical_accuracy: 0.6892\n",
      "Epoch 36/1000\n",
      "186/186 [==============================] - 2s 10ms/step - loss: 0.8103 - categorical_accuracy: 0.6803 - val_loss: 0.8094 - val_categorical_accuracy: 0.6887\n",
      "Epoch 37/1000\n",
      "186/186 [==============================] - 2s 10ms/step - loss: 0.8083 - categorical_accuracy: 0.6815 - val_loss: 0.8053 - val_categorical_accuracy: 0.6892\n",
      "Epoch 38/1000\n",
      "186/186 [==============================] - 2s 10ms/step - loss: 0.8082 - categorical_accuracy: 0.6817 - val_loss: 0.8050 - val_categorical_accuracy: 0.6885\n",
      "Epoch 39/1000\n",
      "186/186 [==============================] - 2s 10ms/step - loss: 0.8067 - categorical_accuracy: 0.6845 - val_loss: 0.8063 - val_categorical_accuracy: 0.6895\n",
      "Epoch 40/1000\n",
      "186/186 [==============================] - 2s 10ms/step - loss: 0.8087 - categorical_accuracy: 0.6798 - val_loss: 0.8047 - val_categorical_accuracy: 0.6873\n",
      "Epoch 41/1000\n",
      "186/186 [==============================] - 2s 11ms/step - loss: 0.8014 - categorical_accuracy: 0.6836 - val_loss: 0.8048 - val_categorical_accuracy: 0.6901\n",
      "Epoch 42/1000\n",
      "186/186 [==============================] - 2s 10ms/step - loss: 0.8015 - categorical_accuracy: 0.6819 - val_loss: 0.8017 - val_categorical_accuracy: 0.6896\n",
      "Epoch 43/1000\n",
      "186/186 [==============================] - 2s 10ms/step - loss: 0.8005 - categorical_accuracy: 0.6839 - val_loss: 0.8058 - val_categorical_accuracy: 0.6898\n",
      "Epoch 44/1000\n",
      "186/186 [==============================] - 2s 10ms/step - loss: 0.7977 - categorical_accuracy: 0.6850 - val_loss: 0.8047 - val_categorical_accuracy: 0.6901\n",
      "Epoch 45/1000\n",
      "186/186 [==============================] - 2s 10ms/step - loss: 0.8011 - categorical_accuracy: 0.6855 - val_loss: 0.8011 - val_categorical_accuracy: 0.6902\n",
      "Epoch 46/1000\n",
      "186/186 [==============================] - 2s 10ms/step - loss: 0.7934 - categorical_accuracy: 0.6854 - val_loss: 0.7996 - val_categorical_accuracy: 0.6917\n",
      "Epoch 47/1000\n",
      "186/186 [==============================] - 2s 10ms/step - loss: 0.7963 - categorical_accuracy: 0.6856 - val_loss: 0.8016 - val_categorical_accuracy: 0.6900\n",
      "Epoch 48/1000\n",
      "186/186 [==============================] - 2s 10ms/step - loss: 0.7936 - categorical_accuracy: 0.6859 - val_loss: 0.7996 - val_categorical_accuracy: 0.6910\n",
      "Epoch 49/1000\n",
      "186/186 [==============================] - 2s 10ms/step - loss: 0.7922 - categorical_accuracy: 0.6855 - val_loss: 0.7991 - val_categorical_accuracy: 0.6907\n",
      "Epoch 50/1000\n",
      "186/186 [==============================] - 2s 10ms/step - loss: 0.7912 - categorical_accuracy: 0.6876 - val_loss: 0.7998 - val_categorical_accuracy: 0.6920\n",
      "Epoch 51/1000\n",
      "186/186 [==============================] - 2s 9ms/step - loss: 0.7910 - categorical_accuracy: 0.6870 - val_loss: 0.7976 - val_categorical_accuracy: 0.6927\n",
      "Epoch 52/1000\n",
      "186/186 [==============================] - 2s 9ms/step - loss: 0.7904 - categorical_accuracy: 0.6841 - val_loss: 0.8006 - val_categorical_accuracy: 0.6931\n",
      "Epoch 53/1000\n",
      "186/186 [==============================] - 2s 9ms/step - loss: 0.7897 - categorical_accuracy: 0.6870 - val_loss: 0.7992 - val_categorical_accuracy: 0.6919\n",
      "Epoch 54/1000\n",
      "186/186 [==============================] - 2s 9ms/step - loss: 0.7853 - categorical_accuracy: 0.6879 - val_loss: 0.7975 - val_categorical_accuracy: 0.6927\n",
      "Epoch 55/1000\n",
      "186/186 [==============================] - 2s 10ms/step - loss: 0.7873 - categorical_accuracy: 0.6870 - val_loss: 0.7975 - val_categorical_accuracy: 0.6915\n",
      "Epoch 56/1000\n",
      "186/186 [==============================] - 2s 9ms/step - loss: 0.7862 - categorical_accuracy: 0.6875 - val_loss: 0.7969 - val_categorical_accuracy: 0.6905\n",
      "Epoch 57/1000\n",
      "186/186 [==============================] - 2s 9ms/step - loss: 0.7854 - categorical_accuracy: 0.6865 - val_loss: 0.7962 - val_categorical_accuracy: 0.6938\n",
      "Epoch 58/1000\n",
      "186/186 [==============================] - 2s 10ms/step - loss: 0.7862 - categorical_accuracy: 0.6882 - val_loss: 0.7953 - val_categorical_accuracy: 0.6926\n",
      "Epoch 59/1000\n",
      "186/186 [==============================] - 2s 10ms/step - loss: 0.7788 - categorical_accuracy: 0.6895 - val_loss: 0.7954 - val_categorical_accuracy: 0.6936\n",
      "Epoch 60/1000\n",
      "186/186 [==============================] - 2s 9ms/step - loss: 0.7792 - categorical_accuracy: 0.6871 - val_loss: 0.7960 - val_categorical_accuracy: 0.6917\n",
      "Epoch 61/1000\n",
      "186/186 [==============================] - 2s 10ms/step - loss: 0.7793 - categorical_accuracy: 0.6903 - val_loss: 0.7954 - val_categorical_accuracy: 0.6945\n",
      "Epoch 62/1000\n",
      "186/186 [==============================] - 2s 10ms/step - loss: 0.7764 - categorical_accuracy: 0.6903 - val_loss: 0.7959 - val_categorical_accuracy: 0.6948\n",
      "Epoch 63/1000\n",
      "186/186 [==============================] - 2s 9ms/step - loss: 0.7771 - categorical_accuracy: 0.6899 - val_loss: 0.7945 - val_categorical_accuracy: 0.6949\n",
      "Epoch 64/1000\n",
      "186/186 [==============================] - 2s 9ms/step - loss: 0.7793 - categorical_accuracy: 0.6895 - val_loss: 0.7926 - val_categorical_accuracy: 0.6948\n",
      "Epoch 65/1000\n",
      "186/186 [==============================] - 2s 12ms/step - loss: 0.7779 - categorical_accuracy: 0.6897 - val_loss: 0.7943 - val_categorical_accuracy: 0.6950\n",
      "Epoch 66/1000\n",
      "186/186 [==============================] - 2s 11ms/step - loss: 0.7763 - categorical_accuracy: 0.6888 - val_loss: 0.7967 - val_categorical_accuracy: 0.6927\n",
      "Epoch 67/1000\n",
      "186/186 [==============================] - 2s 9ms/step - loss: 0.7746 - categorical_accuracy: 0.6887 - val_loss: 0.7970 - val_categorical_accuracy: 0.6927\n",
      "Epoch 68/1000\n",
      "186/186 [==============================] - 2s 10ms/step - loss: 0.7745 - categorical_accuracy: 0.6912 - val_loss: 0.7929 - val_categorical_accuracy: 0.6943\n",
      "Epoch 69/1000\n",
      "186/186 [==============================] - 2s 9ms/step - loss: 0.7733 - categorical_accuracy: 0.6915 - val_loss: 0.7924 - val_categorical_accuracy: 0.6948\n",
      "Epoch 70/1000\n",
      "186/186 [==============================] - 2s 10ms/step - loss: 0.7746 - categorical_accuracy: 0.6888 - val_loss: 0.7923 - val_categorical_accuracy: 0.6936\n",
      "Epoch 71/1000\n",
      "186/186 [==============================] - 2s 10ms/step - loss: 0.7697 - categorical_accuracy: 0.6925 - val_loss: 0.7946 - val_categorical_accuracy: 0.6925\n",
      "Epoch 72/1000\n",
      "186/186 [==============================] - 2s 10ms/step - loss: 0.7668 - categorical_accuracy: 0.6912 - val_loss: 0.7940 - val_categorical_accuracy: 0.6944\n",
      "Epoch 73/1000\n",
      "186/186 [==============================] - 2s 9ms/step - loss: 0.7691 - categorical_accuracy: 0.6920 - val_loss: 0.7944 - val_categorical_accuracy: 0.6926\n",
      "Epoch 74/1000\n",
      "186/186 [==============================] - 2s 9ms/step - loss: 0.7700 - categorical_accuracy: 0.6905 - val_loss: 0.7934 - val_categorical_accuracy: 0.6934\n",
      "Epoch 75/1000\n",
      "186/186 [==============================] - 2s 10ms/step - loss: 0.7694 - categorical_accuracy: 0.6895 - val_loss: 0.7924 - val_categorical_accuracy: 0.6938\n",
      "Epoch 76/1000\n",
      "186/186 [==============================] - 2s 9ms/step - loss: 0.7675 - categorical_accuracy: 0.6923 - val_loss: 0.7913 - val_categorical_accuracy: 0.6941\n",
      "Epoch 77/1000\n",
      "186/186 [==============================] - 2s 9ms/step - loss: 0.7631 - categorical_accuracy: 0.6937 - val_loss: 0.7922 - val_categorical_accuracy: 0.6932\n",
      "Epoch 78/1000\n",
      "186/186 [==============================] - 2s 10ms/step - loss: 0.7689 - categorical_accuracy: 0.6907 - val_loss: 0.7942 - val_categorical_accuracy: 0.6932\n",
      "Epoch 79/1000\n",
      "186/186 [==============================] - 2s 10ms/step - loss: 0.7685 - categorical_accuracy: 0.6899 - val_loss: 0.7962 - val_categorical_accuracy: 0.6936\n",
      "Epoch 80/1000\n",
      "186/186 [==============================] - 2s 9ms/step - loss: 0.7650 - categorical_accuracy: 0.6918 - val_loss: 0.7903 - val_categorical_accuracy: 0.6926\n",
      "Epoch 81/1000\n",
      "186/186 [==============================] - 2s 10ms/step - loss: 0.7635 - categorical_accuracy: 0.6902 - val_loss: 0.7927 - val_categorical_accuracy: 0.6935\n",
      "Epoch 82/1000\n",
      "186/186 [==============================] - 2s 10ms/step - loss: 0.7639 - categorical_accuracy: 0.6919 - val_loss: 0.7931 - val_categorical_accuracy: 0.6938\n",
      "Epoch 83/1000\n",
      "186/186 [==============================] - 2s 9ms/step - loss: 0.7627 - categorical_accuracy: 0.6922 - val_loss: 0.7929 - val_categorical_accuracy: 0.6943\n",
      "Epoch 84/1000\n",
      "186/186 [==============================] - 2s 10ms/step - loss: 0.7603 - categorical_accuracy: 0.6950 - val_loss: 0.7926 - val_categorical_accuracy: 0.6940\n",
      "Epoch 85/1000\n",
      "186/186 [==============================] - 2s 9ms/step - loss: 0.7611 - categorical_accuracy: 0.6944 - val_loss: 0.7937 - val_categorical_accuracy: 0.6929\n",
      "Epoch 86/1000\n",
      "186/186 [==============================] - 2s 9ms/step - loss: 0.7653 - categorical_accuracy: 0.6917 - val_loss: 0.7931 - val_categorical_accuracy: 0.6956\n",
      "Epoch 87/1000\n",
      "186/186 [==============================] - 2s 10ms/step - loss: 0.7615 - categorical_accuracy: 0.6940 - val_loss: 0.7915 - val_categorical_accuracy: 0.6934\n",
      "Epoch 88/1000\n",
      "186/186 [==============================] - 2s 9ms/step - loss: 0.7642 - categorical_accuracy: 0.6911 - val_loss: 0.7924 - val_categorical_accuracy: 0.6927\n",
      "Epoch 89/1000\n",
      "186/186 [==============================] - 2s 9ms/step - loss: 0.7599 - categorical_accuracy: 0.6936 - val_loss: 0.7915 - val_categorical_accuracy: 0.6944\n",
      "Epoch 90/1000\n",
      "186/186 [==============================] - 2s 9ms/step - loss: 0.7577 - categorical_accuracy: 0.6950 - val_loss: 0.7913 - val_categorical_accuracy: 0.6958\n",
      "Epoch 91/1000\n",
      "186/186 [==============================] - 2s 10ms/step - loss: 0.7579 - categorical_accuracy: 0.6942 - val_loss: 0.7911 - val_categorical_accuracy: 0.6955\n",
      "Epoch 92/1000\n",
      "186/186 [==============================] - 2s 12ms/step - loss: 0.7570 - categorical_accuracy: 0.6937 - val_loss: 0.7925 - val_categorical_accuracy: 0.6939\n",
      "Epoch 93/1000\n",
      "186/186 [==============================] - 2s 10ms/step - loss: 0.7537 - categorical_accuracy: 0.6952 - val_loss: 0.7904 - val_categorical_accuracy: 0.6941\n",
      "Epoch 94/1000\n",
      "186/186 [==============================] - 2s 10ms/step - loss: 0.7564 - categorical_accuracy: 0.6954 - val_loss: 0.7883 - val_categorical_accuracy: 0.6940\n",
      "Epoch 95/1000\n",
      "186/186 [==============================] - 2s 10ms/step - loss: 0.7556 - categorical_accuracy: 0.6937 - val_loss: 0.7904 - val_categorical_accuracy: 0.6919\n",
      "Epoch 96/1000\n",
      "186/186 [==============================] - 2s 10ms/step - loss: 0.7520 - categorical_accuracy: 0.6957 - val_loss: 0.7886 - val_categorical_accuracy: 0.6935\n",
      "Epoch 97/1000\n",
      "186/186 [==============================] - 2s 9ms/step - loss: 0.7543 - categorical_accuracy: 0.6954 - val_loss: 0.7894 - val_categorical_accuracy: 0.6930\n",
      "Epoch 98/1000\n",
      "186/186 [==============================] - 2s 10ms/step - loss: 0.7504 - categorical_accuracy: 0.6960 - val_loss: 0.7908 - val_categorical_accuracy: 0.6921\n",
      "Epoch 99/1000\n",
      "186/186 [==============================] - 2s 9ms/step - loss: 0.7516 - categorical_accuracy: 0.6967 - val_loss: 0.7927 - val_categorical_accuracy: 0.6912\n",
      "Epoch 100/1000\n",
      "186/186 [==============================] - 2s 9ms/step - loss: 0.7579 - categorical_accuracy: 0.6941 - val_loss: 0.7900 - val_categorical_accuracy: 0.6934\n",
      "Epoch 101/1000\n",
      "186/186 [==============================] - 2s 9ms/step - loss: 0.7528 - categorical_accuracy: 0.6961 - val_loss: 0.7892 - val_categorical_accuracy: 0.6914\n",
      "Epoch 102/1000\n",
      "186/186 [==============================] - 2s 9ms/step - loss: 0.7504 - categorical_accuracy: 0.6989 - val_loss: 0.7875 - val_categorical_accuracy: 0.6939\n",
      "Epoch 103/1000\n",
      "186/186 [==============================] - 2s 10ms/step - loss: 0.7531 - categorical_accuracy: 0.6953 - val_loss: 0.7880 - val_categorical_accuracy: 0.6939\n",
      "Epoch 104/1000\n",
      "186/186 [==============================] - 2s 10ms/step - loss: 0.7514 - categorical_accuracy: 0.6966 - val_loss: 0.7876 - val_categorical_accuracy: 0.6940\n",
      "Epoch 105/1000\n",
      "186/186 [==============================] - 2s 9ms/step - loss: 0.7533 - categorical_accuracy: 0.6961 - val_loss: 0.7873 - val_categorical_accuracy: 0.6946\n",
      "Epoch 106/1000\n",
      "186/186 [==============================] - 2s 9ms/step - loss: 0.7503 - categorical_accuracy: 0.6970 - val_loss: 0.7906 - val_categorical_accuracy: 0.6919\n",
      "Epoch 107/1000\n",
      "186/186 [==============================] - 2s 9ms/step - loss: 0.7471 - categorical_accuracy: 0.6952 - val_loss: 0.7884 - val_categorical_accuracy: 0.6936\n",
      "Epoch 108/1000\n",
      "186/186 [==============================] - 2s 9ms/step - loss: 0.7528 - categorical_accuracy: 0.6951 - val_loss: 0.7916 - val_categorical_accuracy: 0.6905\n",
      "Epoch 109/1000\n",
      "186/186 [==============================] - 2s 10ms/step - loss: 0.7485 - categorical_accuracy: 0.6970 - val_loss: 0.7885 - val_categorical_accuracy: 0.6936\n",
      "Epoch 110/1000\n",
      "186/186 [==============================] - 2s 10ms/step - loss: 0.7486 - categorical_accuracy: 0.6975 - val_loss: 0.7902 - val_categorical_accuracy: 0.6943\n",
      "Epoch 111/1000\n",
      "186/186 [==============================] - 2s 10ms/step - loss: 0.7434 - categorical_accuracy: 0.6990 - val_loss: 0.7880 - val_categorical_accuracy: 0.6939\n",
      "Epoch 112/1000\n",
      "186/186 [==============================] - 2s 10ms/step - loss: 0.7486 - categorical_accuracy: 0.6986 - val_loss: 0.7878 - val_categorical_accuracy: 0.6958\n",
      "Epoch 113/1000\n",
      "186/186 [==============================] - 2s 9ms/step - loss: 0.7437 - categorical_accuracy: 0.6999 - val_loss: 0.7884 - val_categorical_accuracy: 0.6953\n",
      "Epoch 114/1000\n",
      "186/186 [==============================] - 2s 9ms/step - loss: 0.7500 - categorical_accuracy: 0.6972 - val_loss: 0.7884 - val_categorical_accuracy: 0.6950\n",
      "Epoch 115/1000\n",
      "186/186 [==============================] - 2s 10ms/step - loss: 0.7486 - categorical_accuracy: 0.6973 - val_loss: 0.7889 - val_categorical_accuracy: 0.6931\n",
      "Epoch 116/1000\n",
      "186/186 [==============================] - 2s 9ms/step - loss: 0.7428 - categorical_accuracy: 0.6977 - val_loss: 0.7874 - val_categorical_accuracy: 0.6945\n",
      "Epoch 117/1000\n",
      "186/186 [==============================] - 2s 10ms/step - loss: 0.7445 - categorical_accuracy: 0.6964 - val_loss: 0.7900 - val_categorical_accuracy: 0.6905\n",
      "Epoch 118/1000\n",
      "186/186 [==============================] - 2s 10ms/step - loss: 0.7439 - categorical_accuracy: 0.6980 - val_loss: 0.7869 - val_categorical_accuracy: 0.6954\n",
      "Epoch 119/1000\n",
      "186/186 [==============================] - 2s 10ms/step - loss: 0.7466 - categorical_accuracy: 0.6977 - val_loss: 0.7867 - val_categorical_accuracy: 0.6931\n",
      "Epoch 120/1000\n",
      "186/186 [==============================] - 2s 11ms/step - loss: 0.7437 - categorical_accuracy: 0.6979 - val_loss: 0.7854 - val_categorical_accuracy: 0.6951\n",
      "Epoch 121/1000\n",
      "186/186 [==============================] - 2s 10ms/step - loss: 0.7455 - categorical_accuracy: 0.6977 - val_loss: 0.7842 - val_categorical_accuracy: 0.6960\n",
      "Epoch 122/1000\n",
      "186/186 [==============================] - 2s 10ms/step - loss: 0.7434 - categorical_accuracy: 0.6997 - val_loss: 0.7843 - val_categorical_accuracy: 0.6953\n",
      "Epoch 123/1000\n",
      "186/186 [==============================] - 2s 10ms/step - loss: 0.7438 - categorical_accuracy: 0.6978 - val_loss: 0.7879 - val_categorical_accuracy: 0.6949\n",
      "Epoch 124/1000\n",
      "186/186 [==============================] - 2s 9ms/step - loss: 0.7426 - categorical_accuracy: 0.7003 - val_loss: 0.7879 - val_categorical_accuracy: 0.6912\n",
      "Epoch 125/1000\n",
      "186/186 [==============================] - 2s 10ms/step - loss: 0.7409 - categorical_accuracy: 0.6967 - val_loss: 0.7868 - val_categorical_accuracy: 0.6939\n",
      "Epoch 126/1000\n",
      "186/186 [==============================] - 2s 9ms/step - loss: 0.7389 - categorical_accuracy: 0.6993 - val_loss: 0.7883 - val_categorical_accuracy: 0.6929\n",
      "Epoch 127/1000\n",
      "186/186 [==============================] - 2s 10ms/step - loss: 0.7401 - categorical_accuracy: 0.6999 - val_loss: 0.7869 - val_categorical_accuracy: 0.6925\n",
      "Epoch 128/1000\n",
      "186/186 [==============================] - 3s 18ms/step - loss: 0.7361 - categorical_accuracy: 0.7010 - val_loss: 0.7859 - val_categorical_accuracy: 0.6953\n",
      "Epoch 129/1000\n",
      "186/186 [==============================] - 3s 16ms/step - loss: 0.7398 - categorical_accuracy: 0.6997 - val_loss: 0.7857 - val_categorical_accuracy: 0.6948\n",
      "Epoch 130/1000\n",
      "186/186 [==============================] - 3s 18ms/step - loss: 0.7366 - categorical_accuracy: 0.7009 - val_loss: 0.7860 - val_categorical_accuracy: 0.6946\n",
      "Epoch 131/1000\n",
      "186/186 [==============================] - 3s 17ms/step - loss: 0.7397 - categorical_accuracy: 0.6994 - val_loss: 0.7856 - val_categorical_accuracy: 0.6941\n",
      "Epoch 132/1000\n",
      "186/186 [==============================] - 3s 18ms/step - loss: 0.7392 - categorical_accuracy: 0.6996 - val_loss: 0.7874 - val_categorical_accuracy: 0.6943\n",
      "Epoch 133/1000\n",
      "186/186 [==============================] - 2s 9ms/step - loss: 0.7387 - categorical_accuracy: 0.7008 - val_loss: 0.7853 - val_categorical_accuracy: 0.6948\n",
      "Epoch 134/1000\n",
      "186/186 [==============================] - 2s 8ms/step - loss: 0.7388 - categorical_accuracy: 0.6983 - val_loss: 0.7871 - val_categorical_accuracy: 0.6951\n",
      "Epoch 135/1000\n",
      "186/186 [==============================] - 2s 9ms/step - loss: 0.7393 - categorical_accuracy: 0.6977 - val_loss: 0.7865 - val_categorical_accuracy: 0.6953\n",
      "Epoch 136/1000\n",
      "186/186 [==============================] - 2s 8ms/step - loss: 0.7357 - categorical_accuracy: 0.7006 - val_loss: 0.7866 - val_categorical_accuracy: 0.6945\n"
     ]
    }
   ],
   "source": [
    "history5 = model5.fit(scaled_X_train, train_label, \n",
    "                    validation_data=(scaled_X_val, val_label),\n",
    "                    batch_size=100, epochs=1000,\n",
    "                    callbacks=[callback_checkpoint, callback_earlystopping]) # 콜백 함수 추가"
   ]
  },
  {
   "cell_type": "code",
   "execution_count": 74,
   "id": "f61c4ad9",
   "metadata": {
    "ExecuteTime": {
     "end_time": "2022-05-08T19:27:28.222455Z",
     "start_time": "2022-05-08T19:27:27.644655Z"
    }
   },
   "outputs": [
    {
     "data": {
      "image/png": "[encoded data removed]",
      "text/plain": [
       "<Figure size 432x288 with 1 Axes>"
      ]
     },
     "metadata": {
      "needs_background": "light"
     },
     "output_type": "display_data"
    }
   ],
   "source": [
    "val_loss = history5.history['val_loss']\n",
    "loss = history5.history['loss']\n",
    "\n",
    "\n",
    "x_len = np.arange(len(loss))\n",
    "plt.plot(x_len, loss, marker='.', c='blue', label=\"Train-set Loss\")\n",
    "plt.plot(x_len, val_loss, marker='.', c='red', label=\"Validation-set Loss\")\n",
    "\n",
    "plt.legend(loc='upper right')\n",
    "plt.grid()\n",
    "plt.xlabel('epoch')\n",
    "plt.ylabel('Loss')\n",
    "plt.show()"
   ]
  },
  {
   "cell_type": "markdown",
   "id": "6336803f",
   "metadata": {},
   "source": [
    "#### test 예측"
   ]
  },
  {
   "cell_type": "code",
   "execution_count": 12,
   "id": "e413ec2a",
   "metadata": {
    "ExecuteTime": {
     "end_time": "2022-05-09T00:33:23.606422Z",
     "start_time": "2022-05-09T00:33:23.578350Z"
    }
   },
   "outputs": [
    {
     "data": {
      "text/html": [
       "<div>\n",
       "<style scoped>\n",
       "    .dataframe tbody tr th:only-of-type {\n",
       "        vertical-align: middle;\n",
       "    }\n",
       "\n",
       "    .dataframe tbody tr th {\n",
       "        vertical-align: top;\n",
       "    }\n",
       "\n",
       "    .dataframe thead th {\n",
       "        text-align: right;\n",
       "    }\n",
       "</style>\n",
       "<table border=\"1\" class=\"dataframe\">\n",
       "  <thead>\n",
       "    <tr style=\"text-align: right;\">\n",
       "      <th></th>\n",
       "      <th>index</th>\n",
       "      <th>0</th>\n",
       "      <th>1</th>\n",
       "      <th>2</th>\n",
       "    </tr>\n",
       "  </thead>\n",
       "  <tbody>\n",
       "    <tr>\n",
       "      <th>0</th>\n",
       "      <td>26457</td>\n",
       "      <td>0</td>\n",
       "      <td>0</td>\n",
       "      <td>0</td>\n",
       "    </tr>\n",
       "    <tr>\n",
       "      <th>1</th>\n",
       "      <td>26458</td>\n",
       "      <td>0</td>\n",
       "      <td>0</td>\n",
       "      <td>0</td>\n",
       "    </tr>\n",
       "    <tr>\n",
       "      <th>2</th>\n",
       "      <td>26459</td>\n",
       "      <td>0</td>\n",
       "      <td>0</td>\n",
       "      <td>0</td>\n",
       "    </tr>\n",
       "    <tr>\n",
       "      <th>3</th>\n",
       "      <td>26460</td>\n",
       "      <td>0</td>\n",
       "      <td>0</td>\n",
       "      <td>0</td>\n",
       "    </tr>\n",
       "    <tr>\n",
       "      <th>4</th>\n",
       "      <td>26461</td>\n",
       "      <td>0</td>\n",
       "      <td>0</td>\n",
       "      <td>0</td>\n",
       "    </tr>\n",
       "  </tbody>\n",
       "</table>\n",
       "</div>"
      ],
      "text/plain": [
       "   index  0  1  2\n",
       "0  26457  0  0  0\n",
       "1  26458  0  0  0\n",
       "2  26459  0  0  0\n",
       "3  26460  0  0  0\n",
       "4  26461  0  0  0"
      ]
     },
     "execution_count": 12,
     "metadata": {},
     "output_type": "execute_result"
    }
   ],
   "source": [
    "submit = pd.read_csv('./data/sample_submission.csv')\n",
    "submit.head()"
   ]
  },
  {
   "cell_type": "code",
   "execution_count": 13,
   "id": "b5a319d1",
   "metadata": {
    "ExecuteTime": {
     "end_time": "2022-05-09T00:33:57.668475Z",
     "start_time": "2022-05-09T00:33:57.631692Z"
    }
   },
   "outputs": [],
   "source": [
    "scaled_X_test = preprocessor.transform(test)"
   ]
  },
  {
   "cell_type": "code",
   "execution_count": 15,
   "id": "6bb23330",
   "metadata": {
    "ExecuteTime": {
     "end_time": "2022-05-09T00:34:56.396373Z",
     "start_time": "2022-05-09T00:34:55.491379Z"
    }
   },
   "outputs": [
    {
     "data": {
      "text/plain": [
       "<tensorflow.python.keras.engine.sequential.Sequential at 0x1b8bb3d88b0>"
      ]
     },
     "execution_count": 15,
     "metadata": {},
     "output_type": "execute_result"
    }
   ],
   "source": [
    "from tensorflow.keras import models\n",
    "model = models.load_model('saved_models/3layer2.h5')\n",
    "model"
   ]
  },
  {
   "cell_type": "code",
   "execution_count": 16,
   "id": "6dead1ef",
   "metadata": {
    "ExecuteTime": {
     "end_time": "2022-05-09T00:35:04.075679Z",
     "start_time": "2022-05-09T00:35:04.059978Z"
    }
   },
   "outputs": [
    {
     "name": "stdout",
     "output_type": "stream",
     "text": [
      "Model: \"sequential_10\"\n",
      "_________________________________________________________________\n",
      "Layer (type)                 Output Shape              Param #   \n",
      "=================================================================\n",
      "dense_37 (Dense)             (None, 128)               6656      \n",
      "_________________________________________________________________\n",
      "batch_normalization_27 (Batc (None, 128)               512       \n",
      "_________________________________________________________________\n",
      "activation_27 (Activation)   (None, 128)               0         \n",
      "_________________________________________________________________\n",
      "dropout_25 (Dropout)         (None, 128)               0         \n",
      "_________________________________________________________________\n",
      "dense_38 (Dense)             (None, 64)                8256      \n",
      "_________________________________________________________________\n",
      "batch_normalization_28 (Batc (None, 64)                256       \n",
      "_________________________________________________________________\n",
      "activation_28 (Activation)   (None, 64)                0         \n",
      "_________________________________________________________________\n",
      "dropout_26 (Dropout)         (None, 64)                0         \n",
      "_________________________________________________________________\n",
      "dense_39 (Dense)             (None, 64)                4160      \n",
      "_________________________________________________________________\n",
      "batch_normalization_29 (Batc (None, 64)                256       \n",
      "_________________________________________________________________\n",
      "activation_29 (Activation)   (None, 64)                0         \n",
      "_________________________________________________________________\n",
      "dropout_27 (Dropout)         (None, 64)                0         \n",
      "_________________________________________________________________\n",
      "dense_40 (Dense)             (None, 3)                 195       \n",
      "=================================================================\n",
      "Total params: 20,291\n",
      "Trainable params: 19,779\n",
      "Non-trainable params: 512\n",
      "_________________________________________________________________\n"
     ]
    }
   ],
   "source": [
    "model.summary()"
   ]
  },
  {
   "cell_type": "code",
   "execution_count": 17,
   "id": "d5bd1caf",
   "metadata": {
    "ExecuteTime": {
     "end_time": "2022-05-09T00:35:45.165682Z",
     "start_time": "2022-05-09T00:35:44.567409Z"
    }
   },
   "outputs": [
    {
     "name": "stderr",
     "output_type": "stream",
     "text": [
      "C:\\ProgramData\\Anaconda3\\lib\\site-packages\\tensorflow\\python\\keras\\engine\\sequential.py:430: UserWarning: `model.predict_proba()` is deprecated and will be removed after 2021-01-01. Please use `model.predict()` instead.\n",
      "  warnings.warn('`model.predict_proba()` is deprecated and '\n"
     ]
    },
    {
     "data": {
      "text/plain": [
       "array([[0.07884338, 0.07250788, 0.8486488 ],\n",
       "       [0.15268917, 0.11483189, 0.7324789 ],\n",
       "       [0.11817016, 0.28733793, 0.5944919 ],\n",
       "       ...,\n",
       "       [0.04070346, 0.09005092, 0.86924565],\n",
       "       [0.10414562, 0.21974276, 0.6761116 ],\n",
       "       [0.0145017 , 0.14422312, 0.84127516]], dtype=float32)"
      ]
     },
     "execution_count": 17,
     "metadata": {},
     "output_type": "execute_result"
    }
   ],
   "source": [
    "preds = model.predict_proba(scaled_X_test)\n",
    "preds"
   ]
  },
  {
   "cell_type": "code",
   "execution_count": 18,
   "id": "8060d3b0",
   "metadata": {
    "ExecuteTime": {
     "end_time": "2022-05-09T00:35:51.716459Z",
     "start_time": "2022-05-09T00:35:51.690731Z"
    }
   },
   "outputs": [
    {
     "data": {
      "text/html": [
       "<div>\n",
       "<style scoped>\n",
       "    .dataframe tbody tr th:only-of-type {\n",
       "        vertical-align: middle;\n",
       "    }\n",
       "\n",
       "    .dataframe tbody tr th {\n",
       "        vertical-align: top;\n",
       "    }\n",
       "\n",
       "    .dataframe thead th {\n",
       "        text-align: right;\n",
       "    }\n",
       "</style>\n",
       "<table border=\"1\" class=\"dataframe\">\n",
       "  <thead>\n",
       "    <tr style=\"text-align: right;\">\n",
       "      <th></th>\n",
       "      <th>index</th>\n",
       "      <th>0</th>\n",
       "      <th>1</th>\n",
       "      <th>2</th>\n",
       "    </tr>\n",
       "  </thead>\n",
       "  <tbody>\n",
       "    <tr>\n",
       "      <th>0</th>\n",
       "      <td>26457</td>\n",
       "      <td>0.078843</td>\n",
       "      <td>0.072508</td>\n",
       "      <td>0.848649</td>\n",
       "    </tr>\n",
       "    <tr>\n",
       "      <th>1</th>\n",
       "      <td>26458</td>\n",
       "      <td>0.152689</td>\n",
       "      <td>0.114832</td>\n",
       "      <td>0.732479</td>\n",
       "    </tr>\n",
       "    <tr>\n",
       "      <th>2</th>\n",
       "      <td>26459</td>\n",
       "      <td>0.118170</td>\n",
       "      <td>0.287338</td>\n",
       "      <td>0.594492</td>\n",
       "    </tr>\n",
       "    <tr>\n",
       "      <th>3</th>\n",
       "      <td>26460</td>\n",
       "      <td>0.097479</td>\n",
       "      <td>0.169003</td>\n",
       "      <td>0.733517</td>\n",
       "    </tr>\n",
       "    <tr>\n",
       "      <th>4</th>\n",
       "      <td>26461</td>\n",
       "      <td>0.043222</td>\n",
       "      <td>0.179058</td>\n",
       "      <td>0.777721</td>\n",
       "    </tr>\n",
       "  </tbody>\n",
       "</table>\n",
       "</div>"
      ],
      "text/plain": [
       "   index         0         1         2\n",
       "0  26457  0.078843  0.072508  0.848649\n",
       "1  26458  0.152689  0.114832  0.732479\n",
       "2  26459  0.118170  0.287338  0.594492\n",
       "3  26460  0.097479  0.169003  0.733517\n",
       "4  26461  0.043222  0.179058  0.777721"
      ]
     },
     "execution_count": 18,
     "metadata": {},
     "output_type": "execute_result"
    }
   ],
   "source": [
    "submit.iloc[:, 1:] = preds\n",
    "submit.head()"
   ]
  },
  {
   "cell_type": "code",
   "execution_count": 19,
   "id": "42bf305d",
   "metadata": {
    "ExecuteTime": {
     "end_time": "2022-05-09T00:35:54.633675Z",
     "start_time": "2022-05-09T00:35:54.537424Z"
    }
   },
   "outputs": [],
   "source": [
    "submit.to_csv('saved_models/3layer_best_submisison_DNN.csv',index=False)"
   ]
  },
  {
   "cell_type": "code",
   "execution_count": null,
   "id": "b33f0b0c",
   "metadata": {},
   "outputs": [],
   "source": []
  }
 ],
 "metadata": {
  "kernelspec": {
   "display_name": "Python 3",
   "language": "python",
   "name": "python3"
  },
  "language_info": {
   "codemirror_mode": {
    "name": "ipython",
    "version": 3
   },
   "file_extension": ".py",
   "mimetype": "text/x-python",
   "name": "python",
   "nbconvert_exporter": "python",
   "pygments_lexer": "ipython3",
   "version": "3.8.8"
  },
  "toc": {
   "base_numbering": 1,
   "nav_menu": {},
   "number_sections": true,
   "sideBar": true,
   "skip_h1_title": false,
   "title_cell": "Table of Contents",
   "title_sidebar": "Contents",
   "toc_cell": false,
   "toc_position": {},
   "toc_section_display": true,
   "toc_window_display": true
  }
 },
 "nbformat": 4,
 "nbformat_minor": 5
}
