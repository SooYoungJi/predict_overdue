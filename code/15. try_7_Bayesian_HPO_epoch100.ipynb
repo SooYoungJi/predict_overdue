{
 "cells": [
  {
   "cell_type": "code",
   "execution_count": 1,
   "id": "ONJpiO7zlmJP",
   "metadata": {
    "colab": {
     "base_uri": "https://localhost:8080/"
    },
    "id": "ONJpiO7zlmJP",
    "outputId": "46fb1802-e209-4a06-9661-a00d70e47668"
   },
   "outputs": [
    {
     "name": "stdout",
     "output_type": "stream",
     "text": [
      "\u001b[K     |████████████████████████████████| 133 kB 5.1 MB/s \n",
      "\u001b[?25h"
     ]
    }
   ],
   "source": [
    "!pip install -q -U keras-tuner"
   ]
  },
  {
   "cell_type": "code",
   "execution_count": 2,
   "id": "Josh9OgOloNc",
   "metadata": {
    "colab": {
     "base_uri": "https://localhost:8080/"
    },
    "id": "Josh9OgOloNc",
    "outputId": "aca6ba80-a4f9-4e1e-e0d7-8367946f066d"
   },
   "outputs": [
    {
     "name": "stdout",
     "output_type": "stream",
     "text": [
      "2.8.0\n",
      "1.1.2\n"
     ]
    }
   ],
   "source": [
    "import tensorflow as tf\n",
    "import keras_tuner as kt\n",
    "print(tf.__version__)   # >2.8.0\n",
    "print(kt.__version__)   # >1.1.2\n",
    "\n",
    "import tensorflow as tf\n",
    "tf.compat.v1.logging.set_verbosity(tf.compat.v1.logging.ERROR)\n",
    "from tensorflow import keras \n",
    "from tensorflow.keras import layers\n",
    "import keras_tuner as kt\n",
    "import numpy as np\n",
    "import IPython"
   ]
  },
  {
   "cell_type": "code",
   "execution_count": 3,
   "id": "1ddd58f8",
   "metadata": {
    "ExecuteTime": {
     "end_time": "2022-05-03T05:35:03.156601Z",
     "start_time": "2022-05-03T05:35:00.248621Z"
    },
    "id": "1ddd58f8"
   },
   "outputs": [],
   "source": [
    "import numpy as np\n",
    "import pandas as pd\n",
    "import seaborn as sns\n",
    "import matplotlib.pyplot as plt\n",
    "import warnings, random\n",
    "warnings.filterwarnings(action='ignore')\n",
    "\n",
    "from sklearn.metrics import log_loss\n",
    "from sklearn.preprocessing import StandardScaler, OneHotEncoder, LabelEncoder\n",
    "from sklearn.model_selection import StratifiedKFold\n",
    "\n",
    "from sklearn.pipeline import Pipeline\n",
    "from sklearn.compose import ColumnTransformer\n",
    "\n",
    "from sklearn.model_selection import train_test_split"
   ]
  },
  {
   "cell_type": "code",
   "execution_count": 4,
   "id": "I9Lt_AoikwTA",
   "metadata": {
    "colab": {
     "base_uri": "https://localhost:8080/"
    },
    "id": "I9Lt_AoikwTA",
    "outputId": "933a6d37-b42c-443e-f3f8-eddbd67bb133"
   },
   "outputs": [
    {
     "name": "stdout",
     "output_type": "stream",
     "text": [
      "Mounted at /content/drive\n"
     ]
    }
   ],
   "source": [
    "from google.colab import drive\n",
    "drive.mount('/content/drive')"
   ]
  },
  {
   "cell_type": "code",
   "execution_count": 5,
   "id": "891136b7",
   "metadata": {
    "ExecuteTime": {
     "end_time": "2022-05-03T05:35:03.280675Z",
     "start_time": "2022-05-03T05:35:03.160832Z"
    },
    "id": "891136b7"
   },
   "outputs": [],
   "source": [
    "train_df = pd.read_csv('/content/drive/MyDrive/Likelion_Semi_project_03/data/train.csv')\n",
    "test_df = pd.read_csv('/content/drive/MyDrive/Likelion_Semi_project_03/data/test.csv')"
   ]
  },
  {
   "cell_type": "markdown",
   "id": "7db00b65",
   "metadata": {
    "id": "7db00b65"
   },
   "source": [
    "# Preprocessing"
   ]
  },
  {
   "cell_type": "code",
   "execution_count": 6,
   "id": "e6d40d1c",
   "metadata": {
    "ExecuteTime": {
     "end_time": "2022-05-03T05:35:03.296455Z",
     "start_time": "2022-05-03T05:35:03.283274Z"
    },
    "id": "e6d40d1c"
   },
   "outputs": [],
   "source": [
    "def preprocessing(df):\n",
    "    df = df.drop(['index','FLAG_MOBIL'], axis = 1)\n",
    "    \n",
    "    df.gender = df.gender.replace({'F' : 0, 'M' : 1})\n",
    "    df.car = df.car.replace({'N' : 0, 'Y' : 1})\n",
    "    df.reality = df.reality.replace({'N' : 0, 'Y' : 1})\n",
    "    df.occyp_type = df.occyp_type.fillna('NaN')\n",
    "    \n",
    "    df['age'] = df.DAYS_BIRTH.apply(lambda x : -x // 365)\n",
    "    df.DAYS_EMPLOYED = (-1) * df.DAYS_EMPLOYED \n",
    "    df.loc[(df.DAYS_EMPLOYED < 0), 'DAYS_EMPLOYED'] = 0\n",
    "    df.begin_month = (-1) * df.begin_month\n",
    "    \n",
    "    df = df.drop(['credit','DAYS_BIRTH'], axis = 1)\n",
    "    \n",
    "    return df"
   ]
  },
  {
   "cell_type": "code",
   "execution_count": 7,
   "id": "5504f59e",
   "metadata": {
    "ExecuteTime": {
     "end_time": "2022-05-03T05:35:03.404625Z",
     "start_time": "2022-05-03T05:35:03.298556Z"
    },
    "colab": {
     "base_uri": "https://localhost:8080/",
     "height": 728
    },
    "id": "5504f59e",
    "outputId": "ff48063a-0903-4120-ac0f-9e0e56584c55"
   },
   "outputs": [
    {
     "data": {
      "text/html": [
       "\n",
       "  <div id=\"df-32a72240-78f3-4877-a4a9-9958e34c6d33\">\n",
       "    <div class=\"colab-df-container\">\n",
       "      <div>\n",
       "<style scoped>\n",
       "    .dataframe tbody tr th:only-of-type {\n",
       "        vertical-align: middle;\n",
       "    }\n",
       "\n",
       "    .dataframe tbody tr th {\n",
       "        vertical-align: top;\n",
       "    }\n",
       "\n",
       "    .dataframe thead th {\n",
       "        text-align: right;\n",
       "    }\n",
       "</style>\n",
       "<table border=\"1\" class=\"dataframe\">\n",
       "  <thead>\n",
       "    <tr style=\"text-align: right;\">\n",
       "      <th></th>\n",
       "      <th>gender</th>\n",
       "      <th>car</th>\n",
       "      <th>reality</th>\n",
       "      <th>child_num</th>\n",
       "      <th>income_total</th>\n",
       "      <th>income_type</th>\n",
       "      <th>edu_type</th>\n",
       "      <th>family_type</th>\n",
       "      <th>house_type</th>\n",
       "      <th>DAYS_EMPLOYED</th>\n",
       "      <th>work_phone</th>\n",
       "      <th>phone</th>\n",
       "      <th>email</th>\n",
       "      <th>occyp_type</th>\n",
       "      <th>family_size</th>\n",
       "      <th>begin_month</th>\n",
       "      <th>age</th>\n",
       "    </tr>\n",
       "  </thead>\n",
       "  <tbody>\n",
       "    <tr>\n",
       "      <th>0</th>\n",
       "      <td>0</td>\n",
       "      <td>0</td>\n",
       "      <td>0</td>\n",
       "      <td>0</td>\n",
       "      <td>202500.0</td>\n",
       "      <td>Commercial associate</td>\n",
       "      <td>Higher education</td>\n",
       "      <td>Married</td>\n",
       "      <td>Municipal apartment</td>\n",
       "      <td>4709</td>\n",
       "      <td>0</td>\n",
       "      <td>0</td>\n",
       "      <td>0</td>\n",
       "      <td>NaN</td>\n",
       "      <td>2.0</td>\n",
       "      <td>6.0</td>\n",
       "      <td>38</td>\n",
       "    </tr>\n",
       "    <tr>\n",
       "      <th>1</th>\n",
       "      <td>0</td>\n",
       "      <td>0</td>\n",
       "      <td>1</td>\n",
       "      <td>1</td>\n",
       "      <td>247500.0</td>\n",
       "      <td>Commercial associate</td>\n",
       "      <td>Secondary / secondary special</td>\n",
       "      <td>Civil marriage</td>\n",
       "      <td>House / apartment</td>\n",
       "      <td>1540</td>\n",
       "      <td>0</td>\n",
       "      <td>0</td>\n",
       "      <td>1</td>\n",
       "      <td>Laborers</td>\n",
       "      <td>3.0</td>\n",
       "      <td>5.0</td>\n",
       "      <td>31</td>\n",
       "    </tr>\n",
       "    <tr>\n",
       "      <th>2</th>\n",
       "      <td>1</td>\n",
       "      <td>1</td>\n",
       "      <td>1</td>\n",
       "      <td>0</td>\n",
       "      <td>450000.0</td>\n",
       "      <td>Working</td>\n",
       "      <td>Higher education</td>\n",
       "      <td>Married</td>\n",
       "      <td>House / apartment</td>\n",
       "      <td>4434</td>\n",
       "      <td>0</td>\n",
       "      <td>1</td>\n",
       "      <td>0</td>\n",
       "      <td>Managers</td>\n",
       "      <td>2.0</td>\n",
       "      <td>22.0</td>\n",
       "      <td>52</td>\n",
       "    </tr>\n",
       "    <tr>\n",
       "      <th>3</th>\n",
       "      <td>0</td>\n",
       "      <td>0</td>\n",
       "      <td>1</td>\n",
       "      <td>0</td>\n",
       "      <td>202500.0</td>\n",
       "      <td>Commercial associate</td>\n",
       "      <td>Secondary / secondary special</td>\n",
       "      <td>Married</td>\n",
       "      <td>House / apartment</td>\n",
       "      <td>2092</td>\n",
       "      <td>0</td>\n",
       "      <td>1</td>\n",
       "      <td>0</td>\n",
       "      <td>Sales staff</td>\n",
       "      <td>2.0</td>\n",
       "      <td>37.0</td>\n",
       "      <td>41</td>\n",
       "    </tr>\n",
       "    <tr>\n",
       "      <th>4</th>\n",
       "      <td>0</td>\n",
       "      <td>1</td>\n",
       "      <td>1</td>\n",
       "      <td>0</td>\n",
       "      <td>157500.0</td>\n",
       "      <td>State servant</td>\n",
       "      <td>Higher education</td>\n",
       "      <td>Married</td>\n",
       "      <td>House / apartment</td>\n",
       "      <td>2105</td>\n",
       "      <td>0</td>\n",
       "      <td>0</td>\n",
       "      <td>0</td>\n",
       "      <td>Managers</td>\n",
       "      <td>2.0</td>\n",
       "      <td>26.0</td>\n",
       "      <td>41</td>\n",
       "    </tr>\n",
       "    <tr>\n",
       "      <th>...</th>\n",
       "      <td>...</td>\n",
       "      <td>...</td>\n",
       "      <td>...</td>\n",
       "      <td>...</td>\n",
       "      <td>...</td>\n",
       "      <td>...</td>\n",
       "      <td>...</td>\n",
       "      <td>...</td>\n",
       "      <td>...</td>\n",
       "      <td>...</td>\n",
       "      <td>...</td>\n",
       "      <td>...</td>\n",
       "      <td>...</td>\n",
       "      <td>...</td>\n",
       "      <td>...</td>\n",
       "      <td>...</td>\n",
       "      <td>...</td>\n",
       "    </tr>\n",
       "    <tr>\n",
       "      <th>26452</th>\n",
       "      <td>0</td>\n",
       "      <td>0</td>\n",
       "      <td>0</td>\n",
       "      <td>2</td>\n",
       "      <td>225000.0</td>\n",
       "      <td>State servant</td>\n",
       "      <td>Secondary / secondary special</td>\n",
       "      <td>Married</td>\n",
       "      <td>House / apartment</td>\n",
       "      <td>1984</td>\n",
       "      <td>0</td>\n",
       "      <td>0</td>\n",
       "      <td>0</td>\n",
       "      <td>Core staff</td>\n",
       "      <td>4.0</td>\n",
       "      <td>2.0</td>\n",
       "      <td>33</td>\n",
       "    </tr>\n",
       "    <tr>\n",
       "      <th>26453</th>\n",
       "      <td>0</td>\n",
       "      <td>0</td>\n",
       "      <td>1</td>\n",
       "      <td>1</td>\n",
       "      <td>180000.0</td>\n",
       "      <td>Working</td>\n",
       "      <td>Higher education</td>\n",
       "      <td>Separated</td>\n",
       "      <td>House / apartment</td>\n",
       "      <td>2475</td>\n",
       "      <td>0</td>\n",
       "      <td>0</td>\n",
       "      <td>0</td>\n",
       "      <td>NaN</td>\n",
       "      <td>2.0</td>\n",
       "      <td>47.0</td>\n",
       "      <td>41</td>\n",
       "    </tr>\n",
       "    <tr>\n",
       "      <th>26454</th>\n",
       "      <td>0</td>\n",
       "      <td>1</td>\n",
       "      <td>0</td>\n",
       "      <td>0</td>\n",
       "      <td>292500.0</td>\n",
       "      <td>Working</td>\n",
       "      <td>Secondary / secondary special</td>\n",
       "      <td>Civil marriage</td>\n",
       "      <td>With parents</td>\n",
       "      <td>2015</td>\n",
       "      <td>0</td>\n",
       "      <td>0</td>\n",
       "      <td>0</td>\n",
       "      <td>Core staff</td>\n",
       "      <td>2.0</td>\n",
       "      <td>25.0</td>\n",
       "      <td>27</td>\n",
       "    </tr>\n",
       "    <tr>\n",
       "      <th>26455</th>\n",
       "      <td>1</td>\n",
       "      <td>0</td>\n",
       "      <td>1</td>\n",
       "      <td>0</td>\n",
       "      <td>171000.0</td>\n",
       "      <td>Working</td>\n",
       "      <td>Incomplete higher</td>\n",
       "      <td>Single / not married</td>\n",
       "      <td>House / apartment</td>\n",
       "      <td>107</td>\n",
       "      <td>0</td>\n",
       "      <td>0</td>\n",
       "      <td>0</td>\n",
       "      <td>Laborers</td>\n",
       "      <td>1.0</td>\n",
       "      <td>59.0</td>\n",
       "      <td>27</td>\n",
       "    </tr>\n",
       "    <tr>\n",
       "      <th>26456</th>\n",
       "      <td>0</td>\n",
       "      <td>0</td>\n",
       "      <td>0</td>\n",
       "      <td>0</td>\n",
       "      <td>81000.0</td>\n",
       "      <td>Working</td>\n",
       "      <td>Secondary / secondary special</td>\n",
       "      <td>Civil marriage</td>\n",
       "      <td>House / apartment</td>\n",
       "      <td>1013</td>\n",
       "      <td>0</td>\n",
       "      <td>0</td>\n",
       "      <td>0</td>\n",
       "      <td>Security staff</td>\n",
       "      <td>2.0</td>\n",
       "      <td>9.0</td>\n",
       "      <td>53</td>\n",
       "    </tr>\n",
       "  </tbody>\n",
       "</table>\n",
       "<p>26457 rows × 17 columns</p>\n",
       "</div>\n",
       "      <button class=\"colab-df-convert\" onclick=\"convertToInteractive('df-32a72240-78f3-4877-a4a9-9958e34c6d33')\"\n",
       "              title=\"Convert this dataframe to an interactive table.\"\n",
       "              style=\"display:none;\">\n",
       "        \n",
       "  <svg xmlns=\"http://www.w3.org/2000/svg\" height=\"24px\"viewBox=\"0 0 24 24\"\n",
       "       width=\"24px\">\n",
       "    <path d=\"M0 0h24v24H0V0z\" fill=\"none\"/>\n",
       "    <path d=\"M18.56 5.44l.94 2.06.94-2.06 2.06-.94-2.06-.94-.94-2.06-.94 2.06-2.06.94zm-11 1L8.5 8.5l.94-2.06 2.06-.94-2.06-.94L8.5 2.5l-.94 2.06-2.06.94zm10 10l.94 2.06.94-2.06 2.06-.94-2.06-.94-.94-2.06-.94 2.06-2.06.94z\"/><path d=\"M17.41 7.96l-1.37-1.37c-.4-.4-.92-.59-1.43-.59-.52 0-1.04.2-1.43.59L10.3 9.45l-7.72 7.72c-.78.78-.78 2.05 0 2.83L4 21.41c.39.39.9.59 1.41.59.51 0 1.02-.2 1.41-.59l7.78-7.78 2.81-2.81c.8-.78.8-2.07 0-2.86zM5.41 20L4 18.59l7.72-7.72 1.47 1.35L5.41 20z\"/>\n",
       "  </svg>\n",
       "      </button>\n",
       "      \n",
       "  <style>\n",
       "    .colab-df-container {\n",
       "      display:flex;\n",
       "      flex-wrap:wrap;\n",
       "      gap: 12px;\n",
       "    }\n",
       "\n",
       "    .colab-df-convert {\n",
       "      background-color: #E8F0FE;\n",
       "      border: none;\n",
       "      border-radius: 50%;\n",
       "      cursor: pointer;\n",
       "      display: none;\n",
       "      fill: #1967D2;\n",
       "      height: 32px;\n",
       "      padding: 0 0 0 0;\n",
       "      width: 32px;\n",
       "    }\n",
       "\n",
       "    .colab-df-convert:hover {\n",
       "      background-color: #E2EBFA;\n",
       "      box-shadow: 0px 1px 2px rgba(60, 64, 67, 0.3), 0px 1px 3px 1px rgba(60, 64, 67, 0.15);\n",
       "      fill: #174EA6;\n",
       "    }\n",
       "\n",
       "    [theme=dark] .colab-df-convert {\n",
       "      background-color: #3B4455;\n",
       "      fill: #D2E3FC;\n",
       "    }\n",
       "\n",
       "    [theme=dark] .colab-df-convert:hover {\n",
       "      background-color: #434B5C;\n",
       "      box-shadow: 0px 1px 3px 1px rgba(0, 0, 0, 0.15);\n",
       "      filter: drop-shadow(0px 1px 2px rgba(0, 0, 0, 0.3));\n",
       "      fill: #FFFFFF;\n",
       "    }\n",
       "  </style>\n",
       "\n",
       "      <script>\n",
       "        const buttonEl =\n",
       "          document.querySelector('#df-32a72240-78f3-4877-a4a9-9958e34c6d33 button.colab-df-convert');\n",
       "        buttonEl.style.display =\n",
       "          google.colab.kernel.accessAllowed ? 'block' : 'none';\n",
       "\n",
       "        async function convertToInteractive(key) {\n",
       "          const element = document.querySelector('#df-32a72240-78f3-4877-a4a9-9958e34c6d33');\n",
       "          const dataTable =\n",
       "            await google.colab.kernel.invokeFunction('convertToInteractive',\n",
       "                                                     [key], {});\n",
       "          if (!dataTable) return;\n",
       "\n",
       "          const docLinkHtml = 'Like what you see? Visit the ' +\n",
       "            '<a target=\"_blank\" href=https://colab.research.google.com/notebooks/data_table.ipynb>data table notebook</a>'\n",
       "            + ' to learn more about interactive tables.';\n",
       "          element.innerHTML = '';\n",
       "          dataTable['output_type'] = 'display_data';\n",
       "          await google.colab.output.renderOutput(dataTable, element);\n",
       "          const docLink = document.createElement('div');\n",
       "          docLink.innerHTML = docLinkHtml;\n",
       "          element.appendChild(docLink);\n",
       "        }\n",
       "      </script>\n",
       "    </div>\n",
       "  </div>\n",
       "  "
      ],
      "text/plain": [
       "       gender  car  reality  child_num  income_total           income_type  \\\n",
       "0           0    0        0          0      202500.0  Commercial associate   \n",
       "1           0    0        1          1      247500.0  Commercial associate   \n",
       "2           1    1        1          0      450000.0               Working   \n",
       "3           0    0        1          0      202500.0  Commercial associate   \n",
       "4           0    1        1          0      157500.0         State servant   \n",
       "...       ...  ...      ...        ...           ...                   ...   \n",
       "26452       0    0        0          2      225000.0         State servant   \n",
       "26453       0    0        1          1      180000.0               Working   \n",
       "26454       0    1        0          0      292500.0               Working   \n",
       "26455       1    0        1          0      171000.0               Working   \n",
       "26456       0    0        0          0       81000.0               Working   \n",
       "\n",
       "                            edu_type           family_type  \\\n",
       "0                   Higher education               Married   \n",
       "1      Secondary / secondary special        Civil marriage   \n",
       "2                   Higher education               Married   \n",
       "3      Secondary / secondary special               Married   \n",
       "4                   Higher education               Married   \n",
       "...                              ...                   ...   \n",
       "26452  Secondary / secondary special               Married   \n",
       "26453               Higher education             Separated   \n",
       "26454  Secondary / secondary special        Civil marriage   \n",
       "26455              Incomplete higher  Single / not married   \n",
       "26456  Secondary / secondary special        Civil marriage   \n",
       "\n",
       "                house_type  DAYS_EMPLOYED  work_phone  phone  email  \\\n",
       "0      Municipal apartment           4709           0      0      0   \n",
       "1        House / apartment           1540           0      0      1   \n",
       "2        House / apartment           4434           0      1      0   \n",
       "3        House / apartment           2092           0      1      0   \n",
       "4        House / apartment           2105           0      0      0   \n",
       "...                    ...            ...         ...    ...    ...   \n",
       "26452    House / apartment           1984           0      0      0   \n",
       "26453    House / apartment           2475           0      0      0   \n",
       "26454         With parents           2015           0      0      0   \n",
       "26455    House / apartment            107           0      0      0   \n",
       "26456    House / apartment           1013           0      0      0   \n",
       "\n",
       "           occyp_type  family_size  begin_month  age  \n",
       "0                 NaN          2.0          6.0   38  \n",
       "1            Laborers          3.0          5.0   31  \n",
       "2            Managers          2.0         22.0   52  \n",
       "3         Sales staff          2.0         37.0   41  \n",
       "4            Managers          2.0         26.0   41  \n",
       "...               ...          ...          ...  ...  \n",
       "26452      Core staff          4.0          2.0   33  \n",
       "26453             NaN          2.0         47.0   41  \n",
       "26454      Core staff          2.0         25.0   27  \n",
       "26455        Laborers          1.0         59.0   27  \n",
       "26456  Security staff          2.0          9.0   53  \n",
       "\n",
       "[26457 rows x 17 columns]"
      ]
     },
     "execution_count": 7,
     "metadata": {},
     "output_type": "execute_result"
    }
   ],
   "source": [
    "X = preprocessing(train_df)\n",
    "y = train_df.credit\n",
    "# X_test = preprocessing(X_test)\n",
    "X"
   ]
  },
  {
   "cell_type": "markdown",
   "id": "bf927a11",
   "metadata": {
    "id": "bf927a11"
   },
   "source": [
    "# Validation set 만들기"
   ]
  },
  {
   "cell_type": "code",
   "execution_count": 8,
   "id": "0830c70b",
   "metadata": {
    "ExecuteTime": {
     "end_time": "2022-05-03T05:35:04.370414Z",
     "start_time": "2022-05-03T05:35:04.337425Z"
    },
    "id": "0830c70b"
   },
   "outputs": [],
   "source": [
    "X_train, X_val, y_train, y_val = train_test_split(X, y, test_size = 0.2)"
   ]
  },
  {
   "cell_type": "code",
   "execution_count": 9,
   "id": "c8e9bc1c",
   "metadata": {
    "ExecuteTime": {
     "end_time": "2022-05-03T05:35:05.913898Z",
     "start_time": "2022-05-03T05:35:05.900017Z"
    },
    "id": "c8e9bc1c"
   },
   "outputs": [],
   "source": [
    "numeric_features = ['child_num', 'income_total', 'DAYS_EMPLOYED', 'family_size', 'begin_month', 'age']\n",
    "numeric_transformer = StandardScaler()\n",
    "\n",
    "categorical_features = ['income_type', 'edu_type', 'family_type', 'house_type','occyp_type']\n",
    "categorical_transformer = OneHotEncoder(categories='auto', handle_unknown = 'ignore')\n",
    "\n",
    "# label_features = ['credit']\n",
    "# label_transformer = LabelEncoder()\n",
    "\n",
    "preprocessor = ColumnTransformer(\n",
    "                transformers=[\n",
    "                    ('num', numeric_transformer, numeric_features),\n",
    "                    ('cat', categorical_transformer, categorical_features)\n",
    "                ], remainder='passthrough'\n",
    "                )"
   ]
  },
  {
   "cell_type": "code",
   "execution_count": 10,
   "id": "e26eedbf",
   "metadata": {
    "ExecuteTime": {
     "end_time": "2022-05-03T05:35:06.457306Z",
     "start_time": "2022-05-03T05:35:06.344864Z"
    },
    "id": "e26eedbf"
   },
   "outputs": [],
   "source": [
    "preprocessor.fit(X_train)\n",
    "scaled_X_train = preprocessor.transform(X_train)\n",
    "scaled_X_val = preprocessor.transform(X_val)"
   ]
  },
  {
   "cell_type": "code",
   "execution_count": 11,
   "id": "a5656e7c",
   "metadata": {
    "ExecuteTime": {
     "end_time": "2022-05-03T05:35:06.719484Z",
     "start_time": "2022-05-03T05:35:06.655380Z"
    },
    "colab": {
     "base_uri": "https://localhost:8080/",
     "height": 424
    },
    "id": "a5656e7c",
    "outputId": "30478436-4365-4f6e-c993-44d6cb4d7de7"
   },
   "outputs": [
    {
     "data": {
      "text/html": [
       "\n",
       "  <div id=\"df-594b5093-7c3f-4c0c-b3e3-8d0237944ca4\">\n",
       "    <div class=\"colab-df-container\">\n",
       "      <div>\n",
       "<style scoped>\n",
       "    .dataframe tbody tr th:only-of-type {\n",
       "        vertical-align: middle;\n",
       "    }\n",
       "\n",
       "    .dataframe tbody tr th {\n",
       "        vertical-align: top;\n",
       "    }\n",
       "\n",
       "    .dataframe thead th {\n",
       "        text-align: right;\n",
       "    }\n",
       "</style>\n",
       "<table border=\"1\" class=\"dataframe\">\n",
       "  <thead>\n",
       "    <tr style=\"text-align: right;\">\n",
       "      <th></th>\n",
       "      <th>0</th>\n",
       "      <th>1</th>\n",
       "      <th>2</th>\n",
       "      <th>3</th>\n",
       "      <th>4</th>\n",
       "      <th>5</th>\n",
       "      <th>6</th>\n",
       "      <th>7</th>\n",
       "      <th>8</th>\n",
       "      <th>9</th>\n",
       "      <th>...</th>\n",
       "      <th>42</th>\n",
       "      <th>43</th>\n",
       "      <th>44</th>\n",
       "      <th>45</th>\n",
       "      <th>46</th>\n",
       "      <th>47</th>\n",
       "      <th>48</th>\n",
       "      <th>49</th>\n",
       "      <th>50</th>\n",
       "      <th>51</th>\n",
       "    </tr>\n",
       "  </thead>\n",
       "  <tbody>\n",
       "    <tr>\n",
       "      <th>0</th>\n",
       "      <td>0.753720</td>\n",
       "      <td>-0.736740</td>\n",
       "      <td>-0.828022</td>\n",
       "      <td>0.869478</td>\n",
       "      <td>1.620163</td>\n",
       "      <td>0.243021</td>\n",
       "      <td>0.0</td>\n",
       "      <td>0.0</td>\n",
       "      <td>0.0</td>\n",
       "      <td>0.0</td>\n",
       "      <td>...</td>\n",
       "      <td>0.0</td>\n",
       "      <td>0.0</td>\n",
       "      <td>0.0</td>\n",
       "      <td>0.0</td>\n",
       "      <td>1.0</td>\n",
       "      <td>1.0</td>\n",
       "      <td>1.0</td>\n",
       "      <td>0.0</td>\n",
       "      <td>0.0</td>\n",
       "      <td>0.0</td>\n",
       "    </tr>\n",
       "    <tr>\n",
       "      <th>1</th>\n",
       "      <td>-0.569259</td>\n",
       "      <td>-0.604355</td>\n",
       "      <td>-0.388568</td>\n",
       "      <td>-1.293868</td>\n",
       "      <td>-0.555600</td>\n",
       "      <td>1.374005</td>\n",
       "      <td>0.0</td>\n",
       "      <td>0.0</td>\n",
       "      <td>0.0</td>\n",
       "      <td>0.0</td>\n",
       "      <td>...</td>\n",
       "      <td>0.0</td>\n",
       "      <td>0.0</td>\n",
       "      <td>0.0</td>\n",
       "      <td>0.0</td>\n",
       "      <td>0.0</td>\n",
       "      <td>0.0</td>\n",
       "      <td>1.0</td>\n",
       "      <td>1.0</td>\n",
       "      <td>1.0</td>\n",
       "      <td>0.0</td>\n",
       "    </tr>\n",
       "    <tr>\n",
       "      <th>2</th>\n",
       "      <td>0.753720</td>\n",
       "      <td>0.807746</td>\n",
       "      <td>-0.189969</td>\n",
       "      <td>0.869478</td>\n",
       "      <td>-1.522606</td>\n",
       "      <td>-1.148959</td>\n",
       "      <td>0.0</td>\n",
       "      <td>0.0</td>\n",
       "      <td>0.0</td>\n",
       "      <td>0.0</td>\n",
       "      <td>...</td>\n",
       "      <td>1.0</td>\n",
       "      <td>0.0</td>\n",
       "      <td>0.0</td>\n",
       "      <td>0.0</td>\n",
       "      <td>0.0</td>\n",
       "      <td>0.0</td>\n",
       "      <td>1.0</td>\n",
       "      <td>0.0</td>\n",
       "      <td>0.0</td>\n",
       "      <td>0.0</td>\n",
       "    </tr>\n",
       "    <tr>\n",
       "      <th>3</th>\n",
       "      <td>-0.569259</td>\n",
       "      <td>0.013439</td>\n",
       "      <td>0.239766</td>\n",
       "      <td>-0.212195</td>\n",
       "      <td>0.894909</td>\n",
       "      <td>-0.017975</td>\n",
       "      <td>0.0</td>\n",
       "      <td>0.0</td>\n",
       "      <td>1.0</td>\n",
       "      <td>0.0</td>\n",
       "      <td>...</td>\n",
       "      <td>0.0</td>\n",
       "      <td>0.0</td>\n",
       "      <td>0.0</td>\n",
       "      <td>0.0</td>\n",
       "      <td>1.0</td>\n",
       "      <td>0.0</td>\n",
       "      <td>0.0</td>\n",
       "      <td>0.0</td>\n",
       "      <td>0.0</td>\n",
       "      <td>0.0</td>\n",
       "    </tr>\n",
       "    <tr>\n",
       "      <th>4</th>\n",
       "      <td>-0.569259</td>\n",
       "      <td>-0.516099</td>\n",
       "      <td>1.027825</td>\n",
       "      <td>-0.212195</td>\n",
       "      <td>-0.434724</td>\n",
       "      <td>-0.452969</td>\n",
       "      <td>0.0</td>\n",
       "      <td>0.0</td>\n",
       "      <td>0.0</td>\n",
       "      <td>0.0</td>\n",
       "      <td>...</td>\n",
       "      <td>1.0</td>\n",
       "      <td>0.0</td>\n",
       "      <td>0.0</td>\n",
       "      <td>0.0</td>\n",
       "      <td>0.0</td>\n",
       "      <td>0.0</td>\n",
       "      <td>1.0</td>\n",
       "      <td>0.0</td>\n",
       "      <td>0.0</td>\n",
       "      <td>0.0</td>\n",
       "    </tr>\n",
       "    <tr>\n",
       "      <th>...</th>\n",
       "      <td>...</td>\n",
       "      <td>...</td>\n",
       "      <td>...</td>\n",
       "      <td>...</td>\n",
       "      <td>...</td>\n",
       "      <td>...</td>\n",
       "      <td>...</td>\n",
       "      <td>...</td>\n",
       "      <td>...</td>\n",
       "      <td>...</td>\n",
       "      <td>...</td>\n",
       "      <td>...</td>\n",
       "      <td>...</td>\n",
       "      <td>...</td>\n",
       "      <td>...</td>\n",
       "      <td>...</td>\n",
       "      <td>...</td>\n",
       "      <td>...</td>\n",
       "      <td>...</td>\n",
       "      <td>...</td>\n",
       "      <td>...</td>\n",
       "    </tr>\n",
       "    <tr>\n",
       "      <th>21160</th>\n",
       "      <td>-0.569259</td>\n",
       "      <td>1.910949</td>\n",
       "      <td>-0.632803</td>\n",
       "      <td>-0.212195</td>\n",
       "      <td>-0.072097</td>\n",
       "      <td>-1.235958</td>\n",
       "      <td>0.0</td>\n",
       "      <td>0.0</td>\n",
       "      <td>0.0</td>\n",
       "      <td>0.0</td>\n",
       "      <td>...</td>\n",
       "      <td>0.0</td>\n",
       "      <td>0.0</td>\n",
       "      <td>0.0</td>\n",
       "      <td>0.0</td>\n",
       "      <td>1.0</td>\n",
       "      <td>1.0</td>\n",
       "      <td>1.0</td>\n",
       "      <td>0.0</td>\n",
       "      <td>0.0</td>\n",
       "      <td>0.0</td>\n",
       "    </tr>\n",
       "    <tr>\n",
       "      <th>21161</th>\n",
       "      <td>-0.569259</td>\n",
       "      <td>-0.869124</td>\n",
       "      <td>0.241457</td>\n",
       "      <td>-0.212195</td>\n",
       "      <td>1.015784</td>\n",
       "      <td>0.852012</td>\n",
       "      <td>0.0</td>\n",
       "      <td>0.0</td>\n",
       "      <td>0.0</td>\n",
       "      <td>0.0</td>\n",
       "      <td>...</td>\n",
       "      <td>0.0</td>\n",
       "      <td>0.0</td>\n",
       "      <td>0.0</td>\n",
       "      <td>0.0</td>\n",
       "      <td>0.0</td>\n",
       "      <td>1.0</td>\n",
       "      <td>0.0</td>\n",
       "      <td>0.0</td>\n",
       "      <td>1.0</td>\n",
       "      <td>0.0</td>\n",
       "    </tr>\n",
       "    <tr>\n",
       "      <th>21162</th>\n",
       "      <td>-0.569259</td>\n",
       "      <td>-0.648483</td>\n",
       "      <td>-0.255464</td>\n",
       "      <td>-1.293868</td>\n",
       "      <td>-0.857789</td>\n",
       "      <td>0.852012</td>\n",
       "      <td>0.0</td>\n",
       "      <td>0.0</td>\n",
       "      <td>1.0</td>\n",
       "      <td>0.0</td>\n",
       "      <td>...</td>\n",
       "      <td>0.0</td>\n",
       "      <td>0.0</td>\n",
       "      <td>0.0</td>\n",
       "      <td>0.0</td>\n",
       "      <td>0.0</td>\n",
       "      <td>0.0</td>\n",
       "      <td>1.0</td>\n",
       "      <td>1.0</td>\n",
       "      <td>1.0</td>\n",
       "      <td>0.0</td>\n",
       "    </tr>\n",
       "    <tr>\n",
       "      <th>21163</th>\n",
       "      <td>2.076700</td>\n",
       "      <td>0.366464</td>\n",
       "      <td>-0.691115</td>\n",
       "      <td>1.951151</td>\n",
       "      <td>-0.616038</td>\n",
       "      <td>-0.539968</td>\n",
       "      <td>0.0</td>\n",
       "      <td>0.0</td>\n",
       "      <td>0.0</td>\n",
       "      <td>0.0</td>\n",
       "      <td>...</td>\n",
       "      <td>0.0</td>\n",
       "      <td>0.0</td>\n",
       "      <td>0.0</td>\n",
       "      <td>0.0</td>\n",
       "      <td>1.0</td>\n",
       "      <td>1.0</td>\n",
       "      <td>1.0</td>\n",
       "      <td>0.0</td>\n",
       "      <td>0.0</td>\n",
       "      <td>0.0</td>\n",
       "    </tr>\n",
       "    <tr>\n",
       "      <th>21164</th>\n",
       "      <td>-0.569259</td>\n",
       "      <td>1.028386</td>\n",
       "      <td>0.219484</td>\n",
       "      <td>-0.212195</td>\n",
       "      <td>-1.522606</td>\n",
       "      <td>1.200007</td>\n",
       "      <td>1.0</td>\n",
       "      <td>0.0</td>\n",
       "      <td>0.0</td>\n",
       "      <td>0.0</td>\n",
       "      <td>...</td>\n",
       "      <td>0.0</td>\n",
       "      <td>0.0</td>\n",
       "      <td>0.0</td>\n",
       "      <td>0.0</td>\n",
       "      <td>1.0</td>\n",
       "      <td>1.0</td>\n",
       "      <td>0.0</td>\n",
       "      <td>0.0</td>\n",
       "      <td>0.0</td>\n",
       "      <td>0.0</td>\n",
       "    </tr>\n",
       "  </tbody>\n",
       "</table>\n",
       "<p>21165 rows × 52 columns</p>\n",
       "</div>\n",
       "      <button class=\"colab-df-convert\" onclick=\"convertToInteractive('df-594b5093-7c3f-4c0c-b3e3-8d0237944ca4')\"\n",
       "              title=\"Convert this dataframe to an interactive table.\"\n",
       "              style=\"display:none;\">\n",
       "        \n",
       "  <svg xmlns=\"http://www.w3.org/2000/svg\" height=\"24px\"viewBox=\"0 0 24 24\"\n",
       "       width=\"24px\">\n",
       "    <path d=\"M0 0h24v24H0V0z\" fill=\"none\"/>\n",
       "    <path d=\"M18.56 5.44l.94 2.06.94-2.06 2.06-.94-2.06-.94-.94-2.06-.94 2.06-2.06.94zm-11 1L8.5 8.5l.94-2.06 2.06-.94-2.06-.94L8.5 2.5l-.94 2.06-2.06.94zm10 10l.94 2.06.94-2.06 2.06-.94-2.06-.94-.94-2.06-.94 2.06-2.06.94z\"/><path d=\"M17.41 7.96l-1.37-1.37c-.4-.4-.92-.59-1.43-.59-.52 0-1.04.2-1.43.59L10.3 9.45l-7.72 7.72c-.78.78-.78 2.05 0 2.83L4 21.41c.39.39.9.59 1.41.59.51 0 1.02-.2 1.41-.59l7.78-7.78 2.81-2.81c.8-.78.8-2.07 0-2.86zM5.41 20L4 18.59l7.72-7.72 1.47 1.35L5.41 20z\"/>\n",
       "  </svg>\n",
       "      </button>\n",
       "      \n",
       "  <style>\n",
       "    .colab-df-container {\n",
       "      display:flex;\n",
       "      flex-wrap:wrap;\n",
       "      gap: 12px;\n",
       "    }\n",
       "\n",
       "    .colab-df-convert {\n",
       "      background-color: #E8F0FE;\n",
       "      border: none;\n",
       "      border-radius: 50%;\n",
       "      cursor: pointer;\n",
       "      display: none;\n",
       "      fill: #1967D2;\n",
       "      height: 32px;\n",
       "      padding: 0 0 0 0;\n",
       "      width: 32px;\n",
       "    }\n",
       "\n",
       "    .colab-df-convert:hover {\n",
       "      background-color: #E2EBFA;\n",
       "      box-shadow: 0px 1px 2px rgba(60, 64, 67, 0.3), 0px 1px 3px 1px rgba(60, 64, 67, 0.15);\n",
       "      fill: #174EA6;\n",
       "    }\n",
       "\n",
       "    [theme=dark] .colab-df-convert {\n",
       "      background-color: #3B4455;\n",
       "      fill: #D2E3FC;\n",
       "    }\n",
       "\n",
       "    [theme=dark] .colab-df-convert:hover {\n",
       "      background-color: #434B5C;\n",
       "      box-shadow: 0px 1px 3px 1px rgba(0, 0, 0, 0.15);\n",
       "      filter: drop-shadow(0px 1px 2px rgba(0, 0, 0, 0.3));\n",
       "      fill: #FFFFFF;\n",
       "    }\n",
       "  </style>\n",
       "\n",
       "      <script>\n",
       "        const buttonEl =\n",
       "          document.querySelector('#df-594b5093-7c3f-4c0c-b3e3-8d0237944ca4 button.colab-df-convert');\n",
       "        buttonEl.style.display =\n",
       "          google.colab.kernel.accessAllowed ? 'block' : 'none';\n",
       "\n",
       "        async function convertToInteractive(key) {\n",
       "          const element = document.querySelector('#df-594b5093-7c3f-4c0c-b3e3-8d0237944ca4');\n",
       "          const dataTable =\n",
       "            await google.colab.kernel.invokeFunction('convertToInteractive',\n",
       "                                                     [key], {});\n",
       "          if (!dataTable) return;\n",
       "\n",
       "          const docLinkHtml = 'Like what you see? Visit the ' +\n",
       "            '<a target=\"_blank\" href=https://colab.research.google.com/notebooks/data_table.ipynb>data table notebook</a>'\n",
       "            + ' to learn more about interactive tables.';\n",
       "          element.innerHTML = '';\n",
       "          dataTable['output_type'] = 'display_data';\n",
       "          await google.colab.output.renderOutput(dataTable, element);\n",
       "          const docLink = document.createElement('div');\n",
       "          docLink.innerHTML = docLinkHtml;\n",
       "          element.appendChild(docLink);\n",
       "        }\n",
       "      </script>\n",
       "    </div>\n",
       "  </div>\n",
       "  "
      ],
      "text/plain": [
       "             0         1         2         3         4         5    6    7   \\\n",
       "0      0.753720 -0.736740 -0.828022  0.869478  1.620163  0.243021  0.0  0.0   \n",
       "1     -0.569259 -0.604355 -0.388568 -1.293868 -0.555600  1.374005  0.0  0.0   \n",
       "2      0.753720  0.807746 -0.189969  0.869478 -1.522606 -1.148959  0.0  0.0   \n",
       "3     -0.569259  0.013439  0.239766 -0.212195  0.894909 -0.017975  0.0  0.0   \n",
       "4     -0.569259 -0.516099  1.027825 -0.212195 -0.434724 -0.452969  0.0  0.0   \n",
       "...         ...       ...       ...       ...       ...       ...  ...  ...   \n",
       "21160 -0.569259  1.910949 -0.632803 -0.212195 -0.072097 -1.235958  0.0  0.0   \n",
       "21161 -0.569259 -0.869124  0.241457 -0.212195  1.015784  0.852012  0.0  0.0   \n",
       "21162 -0.569259 -0.648483 -0.255464 -1.293868 -0.857789  0.852012  0.0  0.0   \n",
       "21163  2.076700  0.366464 -0.691115  1.951151 -0.616038 -0.539968  0.0  0.0   \n",
       "21164 -0.569259  1.028386  0.219484 -0.212195 -1.522606  1.200007  1.0  0.0   \n",
       "\n",
       "        8    9   ...   42   43   44   45   46   47   48   49   50   51  \n",
       "0      0.0  0.0  ...  0.0  0.0  0.0  0.0  1.0  1.0  1.0  0.0  0.0  0.0  \n",
       "1      0.0  0.0  ...  0.0  0.0  0.0  0.0  0.0  0.0  1.0  1.0  1.0  0.0  \n",
       "2      0.0  0.0  ...  1.0  0.0  0.0  0.0  0.0  0.0  1.0  0.0  0.0  0.0  \n",
       "3      1.0  0.0  ...  0.0  0.0  0.0  0.0  1.0  0.0  0.0  0.0  0.0  0.0  \n",
       "4      0.0  0.0  ...  1.0  0.0  0.0  0.0  0.0  0.0  1.0  0.0  0.0  0.0  \n",
       "...    ...  ...  ...  ...  ...  ...  ...  ...  ...  ...  ...  ...  ...  \n",
       "21160  0.0  0.0  ...  0.0  0.0  0.0  0.0  1.0  1.0  1.0  0.0  0.0  0.0  \n",
       "21161  0.0  0.0  ...  0.0  0.0  0.0  0.0  0.0  1.0  0.0  0.0  1.0  0.0  \n",
       "21162  1.0  0.0  ...  0.0  0.0  0.0  0.0  0.0  0.0  1.0  1.0  1.0  0.0  \n",
       "21163  0.0  0.0  ...  0.0  0.0  0.0  0.0  1.0  1.0  1.0  0.0  0.0  0.0  \n",
       "21164  0.0  0.0  ...  0.0  0.0  0.0  0.0  1.0  1.0  0.0  0.0  0.0  0.0  \n",
       "\n",
       "[21165 rows x 52 columns]"
      ]
     },
     "execution_count": 11,
     "metadata": {},
     "output_type": "execute_result"
    }
   ],
   "source": [
    "pd.DataFrame(scaled_X_train)"
   ]
  },
  {
   "cell_type": "markdown",
   "id": "81d39df6",
   "metadata": {
    "id": "81d39df6"
   },
   "source": [
    "# Bayesian HPO"
   ]
  },
  {
   "cell_type": "code",
   "execution_count": 12,
   "id": "ec3cfb49",
   "metadata": {
    "ExecuteTime": {
     "end_time": "2022-05-03T05:35:14.571296Z",
     "start_time": "2022-05-03T05:35:11.068580Z"
    },
    "id": "ec3cfb49"
   },
   "outputs": [],
   "source": [
    "import tensorflow as tf\n",
    "from tensorflow.keras import datasets, utils\n",
    "from tensorflow.keras import models, layers, activations, initializers, losses, optimizers, metrics\n",
    "\n",
    "import os\n",
    "os.environ['TF_CPP_MIN_LOG_LEVEL'] = '2'\n",
    "\n",
    "import pandas as pd\n",
    "import numpy as np\n",
    "import matplotlib.pyplot as plt\n",
    "from sklearn import model_selection, preprocessing"
   ]
  },
  {
   "cell_type": "code",
   "execution_count": 13,
   "id": "bd4ed118",
   "metadata": {
    "ExecuteTime": {
     "end_time": "2022-05-03T05:35:29.939721Z",
     "start_time": "2022-05-03T05:35:29.922958Z"
    },
    "colab": {
     "base_uri": "https://localhost:8080/"
    },
    "id": "bd4ed118",
    "outputId": "4fc2f9ad-3b56-4592-9529-85cac75854e5"
   },
   "outputs": [
    {
     "data": {
      "text/plain": [
       "(21165, 52)"
      ]
     },
     "execution_count": 13,
     "metadata": {},
     "output_type": "execute_result"
    }
   ],
   "source": [
    "scaled_X_train.shape"
   ]
  },
  {
   "cell_type": "code",
   "execution_count": 14,
   "id": "c055de0f",
   "metadata": {
    "ExecuteTime": {
     "end_time": "2022-05-03T05:40:22.283365Z",
     "start_time": "2022-05-03T05:40:22.262096Z"
    },
    "colab": {
     "base_uri": "https://localhost:8080/"
    },
    "id": "c055de0f",
    "outputId": "ee2ce673-0af8-4d21-f464-55a6b1a7d860"
   },
   "outputs": [
    {
     "data": {
      "text/plain": [
       "array([[0., 0., 1.],\n",
       "       [0., 0., 1.],\n",
       "       [1., 0., 0.],\n",
       "       ...,\n",
       "       [0., 0., 1.],\n",
       "       [0., 0., 1.],\n",
       "       [0., 1., 0.]], dtype=float32)"
      ]
     },
     "execution_count": 14,
     "metadata": {},
     "output_type": "execute_result"
    }
   ],
   "source": [
    "y_train = utils.to_categorical(y_train)\n",
    "y_val = utils.to_categorical(y_val)\n",
    "y_train"
   ]
  },
  {
   "cell_type": "code",
   "execution_count": 15,
   "id": "1bc43a73",
   "metadata": {
    "ExecuteTime": {
     "end_time": "2022-05-03T05:40:28.901262Z",
     "start_time": "2022-05-03T05:40:28.884495Z"
    },
    "colab": {
     "base_uri": "https://localhost:8080/"
    },
    "id": "1bc43a73",
    "outputId": "dd3fc31b-068c-48a8-9752-62af5839cba0"
   },
   "outputs": [
    {
     "data": {
      "text/plain": [
       "(21165, 3)"
      ]
     },
     "execution_count": 15,
     "metadata": {},
     "output_type": "execute_result"
    }
   ],
   "source": [
    "y_train.shape"
   ]
  },
  {
   "cell_type": "markdown",
   "id": "8ac1f109",
   "metadata": {
    "id": "8ac1f109"
   },
   "source": [
    "### Hyper_model"
   ]
  },
  {
   "cell_type": "code",
   "execution_count": 16,
   "id": "f4ccf5ad",
   "metadata": {
    "id": "f4ccf5ad"
   },
   "outputs": [],
   "source": [
    "# Build the hyper-model\n",
    "def build_hyper_model(hp):\n",
    "    \n",
    "    model = keras.Sequential()\n",
    "    model.add(layers.Flatten())\n",
    "        \n",
    "    ### Hidden layer 만들기 (Search Space)\n",
    "    # Tune the number of hidden layer (Choose an optimal value between 1~3)\n",
    "    for layer_num in range(hp.Int('num_layers', min_value=1, max_value=3)):   # hp.int() : 후보 만드는 함수\n",
    "        # Tune the number of perceptrons in a dense layer (Choose an optimal value between 32~512) \n",
    "        hp_units = hp.Int('units_' + str(layer_num), min_value=32, max_value=512, step=32) # 32:512 & step 32, all parameter names should be unique (we name the inner parameters 'units_' + str(i))  & 32, 512 포함\n",
    "        hp_activations = hp.Choice('activation_' + str(layer_num), values=['relu', 'elu']) # hp.Choice : 문자열, 숫자열로 되있는 후보 중 하나 골라주는 것\n",
    "        model.add(layers.Dense(units = hp_units, activation = hp_activations))\n",
    "\n",
    "    # Output layer\n",
    "    model.add(layers.Dense(3, activation='softmax')) # class 10 : 0~9\n",
    "    hp_learning_rate = hp.Choice('learning_rate', values = [1e-2, 1e-3, 1e-4]) \n",
    "    \n",
    "    model.compile(optimizer = keras.optimizers.Adam(learning_rate = hp_learning_rate),\n",
    "                loss = keras.losses.CategoricalCrossentropy(),\n",
    "                metrics = ['accuracy'])\n",
    "    \n",
    "    return model"
   ]
  },
  {
   "cell_type": "code",
   "execution_count": 17,
   "id": "34a5390e",
   "metadata": {
    "colab": {
     "base_uri": "https://localhost:8080/"
    },
    "id": "34a5390e",
    "outputId": "b180a2ee-cb20-49c4-d040-e202415445b1"
   },
   "outputs": [
    {
     "name": "stdout",
     "output_type": "stream",
     "text": [
      "Search space summary\n",
      "Default search space size: 4\n",
      "num_layers (Int)\n",
      "{'default': None, 'conditions': [], 'min_value': 1, 'max_value': 3, 'step': 1, 'sampling': None}\n",
      "units_0 (Int)\n",
      "{'default': None, 'conditions': [], 'min_value': 32, 'max_value': 512, 'step': 32, 'sampling': None}\n",
      "activation_0 (Choice)\n",
      "{'default': 'relu', 'conditions': [], 'values': ['relu', 'elu'], 'ordered': False}\n",
      "learning_rate (Choice)\n",
      "{'default': 0.01, 'conditions': [], 'values': [0.01, 0.001, 0.0001], 'ordered': True}\n"
     ]
    }
   ],
   "source": [
    "# Select tuner and compile it\n",
    "tuner = kt.BayesianOptimization(build_hyper_model,\n",
    "                                objective = 'val_loss', # Hyper-params tuning을 위한 목적함수 설정 (metric to minimize or maximize)\n",
    "                                max_trials = 10, # 서로 다른 Hyper-params 조합으로 시도할 총 Trial 횟수 설정\n",
    "                                directory = 'test_prac_dir', # Path to the working directory\n",
    "                                project_name = 'hyper_2') # Name to use as directory name for files saved by this Tuner\n",
    "tuner.search_space_summary()"
   ]
  },
  {
   "cell_type": "markdown",
   "id": "6c8b7b74",
   "metadata": {
    "id": "6c8b7b74"
   },
   "source": [
    "### Train"
   ]
  },
  {
   "cell_type": "code",
   "execution_count": 18,
   "id": "dae23795",
   "metadata": {
    "colab": {
     "base_uri": "https://localhost:8080/"
    },
    "id": "dae23795",
    "outputId": "76c9cc06-385c-402d-fca1-b63bf82c28d6"
   },
   "outputs": [
    {
     "name": "stdout",
     "output_type": "stream",
     "text": [
      "Trial 10 Complete [00h 04m 22s]\n",
      "val_loss: 0.827477216720581\n",
      "\n",
      "Best val_loss So Far: 0.8114632964134216\n",
      "Total elapsed time: 00h 41m 18s\n"
     ]
    }
   ],
   "source": [
    "# Train the model\n",
    "tuner.search(scaled_X_train, y_train, epochs=100, validation_data = (scaled_X_val, y_val))"
   ]
  },
  {
   "cell_type": "code",
   "execution_count": 19,
   "id": "57c72048",
   "metadata": {
    "colab": {
     "base_uri": "https://localhost:8080/"
    },
    "id": "57c72048",
    "outputId": "0535044a-124a-4590-ecc0-46e1b8e4e9f9"
   },
   "outputs": [
    {
     "name": "stdout",
     "output_type": "stream",
     "text": [
      "Results summary\n",
      "Results in test_prac_dir/hyper_2\n",
      "Showing 3 best trials\n",
      "<keras_tuner.engine.objective.Objective object at 0x7fafc9b39f50>\n",
      "Trial summary\n",
      "Hyperparameters:\n",
      "num_layers: 2\n",
      "units_0: 288\n",
      "activation_0: relu\n",
      "learning_rate: 0.0001\n",
      "units_1: 320\n",
      "activation_1: relu\n",
      "units_2: 416\n",
      "activation_2: relu\n",
      "Score: 0.8114632964134216\n",
      "Trial summary\n",
      "Hyperparameters:\n",
      "num_layers: 2\n",
      "units_0: 480\n",
      "activation_0: relu\n",
      "learning_rate: 0.0001\n",
      "units_1: 224\n",
      "activation_1: relu\n",
      "units_2: 224\n",
      "activation_2: relu\n",
      "Score: 0.8117554187774658\n",
      "Trial summary\n",
      "Hyperparameters:\n",
      "num_layers: 2\n",
      "units_0: 192\n",
      "activation_0: relu\n",
      "learning_rate: 0.0001\n",
      "units_1: 288\n",
      "activation_1: relu\n",
      "units_2: 512\n",
      "activation_2: relu\n",
      "Score: 0.8198148012161255\n"
     ]
    }
   ],
   "source": [
    "tuner.results_summary(num_trials=3) "
   ]
  },
  {
   "cell_type": "code",
   "execution_count": 20,
   "id": "57138648",
   "metadata": {
    "colab": {
     "base_uri": "https://localhost:8080/"
    },
    "id": "57138648",
    "outputId": "03c6ae94-1928-4815-dab4-26ace8784dc1"
   },
   "outputs": [
    {
     "name": "stdout",
     "output_type": "stream",
     "text": [
      "Model performance rank : 0\n",
      "{'num_layers': 2, 'units_0': 288, 'activation_0': 'relu', 'learning_rate': 0.0001, 'units_1': 320, 'activation_1': 'relu', 'units_2': 416, 'activation_2': 'relu'}\n",
      "\n",
      "Model performance rank : 1\n",
      "{'num_layers': 2, 'units_0': 480, 'activation_0': 'relu', 'learning_rate': 0.0001, 'units_1': 224, 'activation_1': 'relu', 'units_2': 224, 'activation_2': 'relu'}\n",
      "\n",
      "Model performance rank : 2\n",
      "{'num_layers': 2, 'units_0': 192, 'activation_0': 'relu', 'learning_rate': 0.0001, 'units_1': 288, 'activation_1': 'relu', 'units_2': 512, 'activation_2': 'relu'}\n",
      "\n"
     ]
    }
   ],
   "source": [
    "# Check the result \n",
    "top3_models = tuner.get_best_hyperparameters(num_trials=3)\n",
    "for idx, model in enumerate(top3_models):\n",
    "    print('Model performance rank :', idx)\n",
    "    print(model.values)\n",
    "    print()"
   ]
  },
  {
   "cell_type": "code",
   "execution_count": 21,
   "id": "92701957",
   "metadata": {
    "colab": {
     "base_uri": "https://localhost:8080/"
    },
    "id": "92701957",
    "outputId": "8a1df629-21a7-4612-d8cc-37adbe9da3e7"
   },
   "outputs": [
    {
     "name": "stdout",
     "output_type": "stream",
     "text": [
      "\n",
      "The hyperparameter search is complete. \n",
      "* Optimal # of layers : 2\n",
      "* Optimal value of the learning-rate : 0.0001\n",
      "Layer 0 - # of Perceptrons : 288\n",
      "Layer 0 - Applied activation function : relu\n",
      "Layer 1 - # of Perceptrons : 320\n",
      "Layer 1 - Applied activation function : relu\n"
     ]
    }
   ],
   "source": [
    "best_hps = top3_models[0]\n",
    "\n",
    "print(\"\"\"\n",
    "The hyperparameter search is complete. \n",
    "* Optimal # of layers : {}\n",
    "* Optimal value of the learning-rate : {}\"\"\".format(best_hps.get('num_layers'), best_hps.get('learning_rate')))\n",
    "\n",
    "for layer_num in range(best_hps.get('num_layers')):\n",
    "    print('Layer {} - # of Perceptrons :'.format(layer_num), best_hps.get('units_' + str(layer_num)))\n",
    "    print('Layer {} - Applied activation function :'.format(layer_num), best_hps.get('activation_' + str(layer_num)))"
   ]
  },
  {
   "cell_type": "markdown",
   "id": "b45ebe3e",
   "metadata": {
    "id": "b45ebe3e"
   },
   "source": [
    "### Test 예측"
   ]
  },
  {
   "cell_type": "code",
   "execution_count": 22,
   "id": "bf209f0e",
   "metadata": {
    "colab": {
     "base_uri": "https://localhost:8080/"
    },
    "id": "bf209f0e",
    "outputId": "e64d4a43-5130-471f-b605-06283a8ed6e6"
   },
   "outputs": [
    {
     "data": {
      "text/plain": [
       "[<keras.engine.sequential.Sequential at 0x7faf4c024850>,\n",
       " <keras.engine.sequential.Sequential at 0x7faf4c024050>,\n",
       " <keras.engine.sequential.Sequential at 0x7faf34226950>]"
      ]
     },
     "execution_count": 22,
     "metadata": {},
     "output_type": "execute_result"
    }
   ],
   "source": [
    "# Get the best model from trials\n",
    "models = tuner.get_best_models(num_models=3) # Keras Sequential models\n",
    "# 10개의 trials 중 가장 좋은 model 꺼내줌\n",
    "models"
   ]
  },
  {
   "cell_type": "code",
   "execution_count": 23,
   "id": "besVtBXsPpZx",
   "metadata": {
    "colab": {
     "base_uri": "https://localhost:8080/"
    },
    "id": "besVtBXsPpZx",
    "outputId": "c7773e8a-79b7-467a-b403-210439d04174"
   },
   "outputs": [
    {
     "data": {
      "text/plain": [
       "<keras.engine.sequential.Sequential at 0x7faf4c024850>"
      ]
     },
     "execution_count": 23,
     "metadata": {},
     "output_type": "execute_result"
    }
   ],
   "source": [
    "top_model = models[0]\n",
    "#top_model.summary()\n",
    "top_model"
   ]
  },
  {
   "cell_type": "code",
   "execution_count": 24,
   "id": "lGAe3auyQRMF",
   "metadata": {
    "colab": {
     "base_uri": "https://localhost:8080/"
    },
    "id": "lGAe3auyQRMF",
    "outputId": "40616b4e-5b1e-47f9-e464-9f71baf997df"
   },
   "outputs": [
    {
     "data": {
      "text/plain": [
       "((5292, 52), (5292, 3))"
      ]
     },
     "execution_count": 24,
     "metadata": {},
     "output_type": "execute_result"
    }
   ],
   "source": [
    "scaled_X_val.shape, y_val.shape"
   ]
  },
  {
   "cell_type": "code",
   "execution_count": 25,
   "id": "9cb78f6a",
   "metadata": {
    "colab": {
     "base_uri": "https://localhost:8080/"
    },
    "id": "9cb78f6a",
    "outputId": "edbe87eb-d809-451e-e438-b45faaa67bf9"
   },
   "outputs": [
    {
     "name": "stdout",
     "output_type": "stream",
     "text": [
      "0.8114635594016887\n"
     ]
    }
   ],
   "source": [
    "y_pred = top_model.predict(scaled_X_val)\n",
    "logloss = log_loss(y_val, y_pred)\n",
    "print(logloss)"
   ]
  },
  {
   "cell_type": "code",
   "execution_count": 26,
   "id": "68625c43",
   "metadata": {
    "colab": {
     "base_uri": "https://localhost:8080/"
    },
    "id": "68625c43",
    "outputId": "455e1ab8-f2e3-4ef3-db7d-63ee8136b5f9"
   },
   "outputs": [
    {
     "name": "stdout",
     "output_type": "stream",
     "text": [
      "Trial-score is : 0.8114632964134216\n",
      "Trial-directory(trial_id) is : 01\n",
      "\n",
      "Trial-score is : 0.8117554187774658\n",
      "Trial-directory(trial_id) is : 08\n",
      "\n",
      "Trial-score is : 0.8198148012161255\n",
      "Trial-directory(trial_id) is : 07\n",
      "\n"
     ]
    }
   ],
   "source": [
    "for trial in tuner.oracle.get_best_trials(num_trials=3):\n",
    "    print('Trial-score is :', trial.score)\n",
    "    print('Trial-directory(trial_id) is :', trial.trial_id)\n",
    "    print()"
   ]
  },
  {
   "cell_type": "code",
   "execution_count": 26,
   "id": "hOvSY3o1TCZh",
   "metadata": {
    "id": "hOvSY3o1TCZh"
   },
   "outputs": [],
   "source": []
  },
  {
   "cell_type": "code",
   "execution_count": 27,
   "id": "1-MR3zWEQyb2",
   "metadata": {
    "colab": {
     "base_uri": "https://localhost:8080/"
    },
    "id": "1-MR3zWEQyb2",
    "outputId": "1d1ae4a8-30cf-48a2-9083-b2cfd053b318",
    "scrolled": true
   },
   "outputs": [
    {
     "name": "stdout",
     "output_type": "stream",
     "text": [
      "166/166 [==============================] - 1s 2ms/step - loss: 0.8115 - accuracy: 0.6869\n"
     ]
    },
    {
     "data": {
      "text/plain": [
       "[0.8114632964134216, 0.6868858933448792]"
      ]
     },
     "execution_count": 27,
     "metadata": {},
     "output_type": "execute_result"
    }
   ],
   "source": [
    "top_model.evaluate(scaled_X_val, y_val)"
   ]
  },
  {
   "cell_type": "code",
   "execution_count": 28,
   "id": "39987df6",
   "metadata": {
    "colab": {
     "base_uri": "https://localhost:8080/"
    },
    "id": "39987df6",
    "outputId": "e5395553-353f-4199-b350-ab30b1aabc26"
   },
   "outputs": [
    {
     "name": "stdout",
     "output_type": "stream",
     "text": [
      "166/166 [==============================] - 0s 2ms/step - loss: 0.8115 - accuracy: 0.6869\n",
      "Cross-entropy : 0.8114632964134216\n",
      "Accuracy : 0.6868858933448792\n"
     ]
    }
   ],
   "source": [
    "results = top_model.evaluate(scaled_X_val, y_val)\n",
    "print('Cross-entropy :', results[0])\n",
    "print('Accuracy :', results[1])"
   ]
  },
  {
   "cell_type": "code",
   "execution_count": 28,
   "id": "661e1448",
   "metadata": {
    "id": "661e1448"
   },
   "outputs": [],
   "source": []
  },
  {
   "cell_type": "code",
   "execution_count": 28,
   "id": "b32a47b5",
   "metadata": {
    "id": "b32a47b5"
   },
   "outputs": [],
   "source": []
  },
  {
   "cell_type": "code",
   "execution_count": null,
   "id": "45629085",
   "metadata": {
    "id": "45629085"
   },
   "outputs": [],
   "source": []
  }
 ],
 "metadata": {
  "accelerator": "GPU",
  "colab": {
   "collapsed_sections": [
    "ae1b9e51",
    "85a6c2e7"
   ],
   "name": "20220503_Modeling_Bayesian_HPO (Colab) epoch100.ipynb",
   "provenance": []
  },
  "kernelspec": {
   "display_name": "Python 3",
   "language": "python",
   "name": "python3"
  },
  "language_info": {
   "codemirror_mode": {
    "name": "ipython",
    "version": 3
   },
   "file_extension": ".py",
   "mimetype": "text/x-python",
   "name": "python",
   "nbconvert_exporter": "python",
   "pygments_lexer": "ipython3",
   "version": "3.8.8"
  },
  "toc": {
   "base_numbering": 1,
   "nav_menu": {},
   "number_sections": true,
   "sideBar": true,
   "skip_h1_title": false,
   "title_cell": "Table of Contents",
   "title_sidebar": "Contents",
   "toc_cell": false,
   "toc_position": {},
   "toc_section_display": true,
   "toc_window_display": false
  }
 },
 "nbformat": 4,
 "nbformat_minor": 5
}
